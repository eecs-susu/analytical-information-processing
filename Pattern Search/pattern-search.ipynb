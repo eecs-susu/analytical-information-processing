{
 "cells": [
  {
   "cell_type": "code",
   "execution_count": 158,
   "metadata": {
    "ExecuteTime": {
     "end_time": "2019-03-23T10:53:57.758064Z",
     "start_time": "2019-03-23T10:53:57.752845Z"
    }
   },
   "outputs": [],
   "source": [
    "import itertools\n",
    "import os\n",
    "\n",
    "from collections import Counter\n",
    "\n",
    "import pandas as pd\n",
    "import numpy as np\n",
    "\n",
    "from efficient_apriori import apriori"
   ]
  },
  {
   "cell_type": "markdown",
   "metadata": {},
   "source": [
    "# Продажи магазина"
   ]
  },
  {
   "cell_type": "code",
   "execution_count": 52,
   "metadata": {
    "ExecuteTime": {
     "end_time": "2019-03-23T06:51:14.951188Z",
     "start_time": "2019-03-23T06:51:14.942501Z"
    }
   },
   "outputs": [],
   "source": [
    "data_folder = './baskets'\n",
    "info_file_path = os.path.join(data_folder, 'baskets-info.txt')\n",
    "data_file_path = os.path.join(data_folder, 'baskets.csv')"
   ]
  },
  {
   "cell_type": "code",
   "execution_count": 53,
   "metadata": {
    "ExecuteTime": {
     "end_time": "2019-03-23T06:51:15.140805Z",
     "start_time": "2019-03-23T06:51:15.132858Z"
    }
   },
   "outputs": [],
   "source": [
    "with open(info_file_path, 'r', encoding='cp1251') as f:\n",
    "    info = f.read()"
   ]
  },
  {
   "cell_type": "markdown",
   "metadata": {
    "variables": {
     "info": "Файл служит источником данных для решения задачи анализа рыночной корзины и поиска ассоциативных правил. Файл содержит анонимные данные о продажах реального магазина. Каждая строка представляет собой данные одной корзины и содержит идентификаторы купленных товаров через запятую. Файл содержит 88162 строк, 16469 уникальных идентификаторов товаров, максимальное количество товаров в корзине равно 30."
    }
   },
   "source": [
    "> {{info}}"
   ]
  },
  {
   "cell_type": "code",
   "execution_count": 54,
   "metadata": {
    "ExecuteTime": {
     "end_time": "2019-03-23T06:51:15.773746Z",
     "start_time": "2019-03-23T06:51:15.675260Z"
    }
   },
   "outputs": [],
   "source": [
    "with open(data_file_path, 'r', encoding='cp1251') as f:\n",
    "    lines = f.readlines()"
   ]
  },
  {
   "cell_type": "code",
   "execution_count": 55,
   "metadata": {
    "ExecuteTime": {
     "end_time": "2019-03-23T06:51:16.165551Z",
     "start_time": "2019-03-23T06:51:16.084875Z"
    }
   },
   "outputs": [],
   "source": [
    "norm_line = list(filter(lambda line: bool(line), map(lambda line: line.strip(), lines)))"
   ]
  },
  {
   "cell_type": "code",
   "execution_count": 56,
   "metadata": {
    "ExecuteTime": {
     "end_time": "2019-03-23T06:51:16.670318Z",
     "start_time": "2019-03-23T06:51:16.339766Z"
    }
   },
   "outputs": [],
   "source": [
    "baskets = list(map(lambda line: list(map(int, line.strip().split(','))), norm_line))"
   ]
  },
  {
   "cell_type": "code",
   "execution_count": 57,
   "metadata": {
    "ExecuteTime": {
     "end_time": "2019-03-23T06:51:16.684287Z",
     "start_time": "2019-03-23T06:51:16.679606Z"
    }
   },
   "outputs": [],
   "source": [
    "total_baskets = len(baskets)"
   ]
  },
  {
   "cell_type": "code",
   "execution_count": 58,
   "metadata": {
    "ExecuteTime": {
     "end_time": "2019-03-23T06:51:17.073417Z",
     "start_time": "2019-03-23T06:51:16.880631Z"
    }
   },
   "outputs": [],
   "source": [
    "elements = [element for basket in baskets for element in basket]\n",
    "element_counter = Counter(elements)\n",
    "elements_values = [k for k, v in element_counter.items()]\n",
    "elements_counts = [v for k, v in element_counter.items()]"
   ]
  },
  {
   "cell_type": "code",
   "execution_count": 67,
   "metadata": {
    "ExecuteTime": {
     "end_time": "2019-03-23T07:03:02.735744Z",
     "start_time": "2019-03-23T07:03:02.729350Z"
    }
   },
   "outputs": [],
   "source": [
    "l_num = 100000\n",
    "def stat_sum(elements, part=1.):\n",
    "    edge = int((l_num * part * len(elements)) / l_num)\n",
    "    return np.sum(sorted(elements)[:edge])\n",
    "def stat_count(elements, part=1.):\n",
    "    edge = int((l_num * part * len(elements)) / l_num)\n",
    "    return sorted(elements)[edge]\n",
    "def stat_supp(elements, part=1.):\n",
    "    return stat_count(elements, part) / total_baskets"
   ]
  },
  {
   "cell_type": "markdown",
   "metadata": {
    "variables": {
     "elements_values[np.argmax(elements_counts)]": "39",
     "elements_values[np.argmin(elements_counts)]": "360",
     "np.max(elements_counts)": "50675",
     "np.mean(elements_counts)": "55.165513054037646",
     "np.min(elements_counts)": "1",
     "np.std(elements_counts)": "568.0639597301946",
     "np.sum(elements_counts)": "908576",
     "np.unique(elements_values).shape[0]": "16470",
     "stat_count(elements_counts, 0.1)": "1",
     "stat_count(elements_counts, 0.25)": "3",
     "stat_count(elements_counts, 0.5)": "11",
     "stat_count(elements_counts, 0.75)": "41",
     "stat_count(elements_counts, 0.9)": "111",
     "stat_count(elements_counts, 0.95)": "196",
     "stat_count(elements_counts, 0.98)": "343",
     "stat_sum(elements_counts, 0.1)": "1647",
     "stat_sum(elements_counts, 0.25)": "6546",
     "stat_sum(elements_counts, 0.5)": "30962",
     "stat_sum(elements_counts, 0.75)": "122589",
     "stat_sum(elements_counts, 0.9)": "291405",
     "stat_sum(elements_counts, 0.95)": "411579",
     "stat_sum(elements_counts, 0.98)": "538122",
     "stat_supp(elements_counts, 0.1)": "1.134275538213743e-05",
     "stat_supp(elements_counts, 0.25)": "3.402826614641229e-05",
     "stat_supp(elements_counts, 0.5)": "0.0001247703092035117",
     "stat_supp(elements_counts, 0.75)": "0.0004650529706676346",
     "stat_supp(elements_counts, 0.9)": "0.0012590458474172545",
     "stat_supp(elements_counts, 0.95)": "0.002223180054898936",
     "stat_supp(elements_counts, 0.98)": "0.003890565096073138",
     "total_baskets": "88162"
    }
   },
   "source": [
    "**Статистика**\n",
    "\n",
    "Количество транзакций: `{{total_baskets}}`  \n",
    "По количеству вхождений:\n",
    "- **count**: `{{np.sum(elements_counts)}}`\n",
    "- **unique**: `{{np.unique(elements_values).shape[0]}}`\n",
    "- **min**: `{{np.min(elements_counts)}}`, элемент `{{elements_values[np.argmin(elements_counts)]}}`\n",
    "- **max**: `{{np.max(elements_counts)}}`, элемент `{{elements_values[np.argmax(elements_counts)]}}`\n",
    "- **std**: `{{np.std(elements_counts)}}`  \n",
    "- **mean**: `{{np.mean(elements_counts)}}`\n",
    "- **top10**:  sum `{{stat_sum(elements_counts, 0.1)}}`, count `{{stat_count(elements_counts, 0.1)}}`, supp `{{stat_supp(elements_counts, 0.1)}}`\n",
    "- **top25**: sum `{{stat_sum(elements_counts, 0.25)}}`, count `{{stat_count(elements_counts, 0.25)}}`, supp `{{stat_supp(elements_counts, 0.25)}}`\n",
    "- **top50**: sum `{{stat_sum(elements_counts, 0.5)}}`, count `{{stat_count(elements_counts, 0.5)}}`, supp `{{stat_supp(elements_counts, 0.5)}}`\n",
    "- **top75**: sum `{{stat_sum(elements_counts, 0.75)}}`, count `{{stat_count(elements_counts, 0.75)}}`, supp `{{stat_supp(elements_counts, 0.75)}}`\n",
    "- **top90**: sum `{{stat_sum(elements_counts, 0.9)}}`, count `{{stat_count(elements_counts, 0.9)}}`, supp `{{stat_supp(elements_counts, 0.9)}}`\n",
    "- **top95**: sum `{{stat_sum(elements_counts, 0.95)}}`, count `{{stat_count(elements_counts, 0.95)}}`, supp `{{stat_supp(elements_counts, 0.95)}}`\n",
    "- **top98**: sum `{{stat_sum(elements_counts, 0.98)}}`, count `{{stat_count(elements_counts, 0.98)}}`, supp `{{stat_supp(elements_counts, 0.98)}}`"
   ]
  },
  {
   "cell_type": "code",
   "execution_count": 121,
   "metadata": {
    "ExecuteTime": {
     "end_time": "2019-03-23T07:37:21.297199Z",
     "start_time": "2019-03-23T07:37:21.291739Z"
    }
   },
   "outputs": [],
   "source": [
    "def show_top_itemset(itemset, top=5):\n",
    "    for size, values in itemset.items():\n",
    "        print(f'# Size {size}')\n",
    "        values = sorted([(k, v) for k, v in values.items()], key=lambda x: x[1], reverse=True)[:top]\n",
    "        for (k, v) in values:\n",
    "            print(f'Basket({\",\".join(map(str, k))}): {v}') "
   ]
  },
  {
   "cell_type": "markdown",
   "metadata": {
    "ExecuteTime": {
     "end_time": "2019-03-23T07:06:37.523373Z",
     "start_time": "2019-03-23T07:06:37.518300Z"
    }
   },
   "source": [
    "### Sample 1\n",
    "Min support `0.01`  \n",
    "Min confidence `0.5`"
   ]
  },
  {
   "cell_type": "code",
   "execution_count": 122,
   "metadata": {
    "ExecuteTime": {
     "end_time": "2019-03-23T07:37:56.530287Z",
     "start_time": "2019-03-23T07:37:27.908814Z"
    }
   },
   "outputs": [
    {
     "name": "stdout",
     "output_type": "stream",
     "text": [
      "Generating itemsets.\n",
      " Counting itemsets of length 1.\n",
      "  Found 16470 candidate itemsets of length 1.\n",
      "  Found 70 large itemsets of length 1.\n",
      " Counting itemsets of length 2.\n",
      "  Found 2415 candidate itemsets of length 2.\n",
      "  Found 58 large itemsets of length 2.\n",
      " Counting itemsets of length 3.\n",
      "  Found 37 candidate itemsets of length 3.\n",
      "  Found 25 large itemsets of length 3.\n",
      " Counting itemsets of length 4.\n",
      "  Found 6 candidate itemsets of length 4.\n",
      "  Found 6 large itemsets of length 4.\n",
      " Counting itemsets of length 5.\n",
      "  Found 0 candidate itemsets of length 5.\n",
      "Itemset generation terminated.\n",
      "\n",
      "Generating rules from itemsets.\n",
      " Generating rules of size 2.\n",
      " Generating rules of size 3.\n",
      " Generating rules of size 4.\n",
      "Rule generation terminated.\n",
      "\n"
     ]
    }
   ],
   "source": [
    "itemsets_1_50, rules_1_50 = apriori(baskets, min_support=0.01,  min_confidence=0.5, verbosity=1)"
   ]
  },
  {
   "cell_type": "code",
   "execution_count": 123,
   "metadata": {
    "ExecuteTime": {
     "end_time": "2019-03-23T07:37:56.542863Z",
     "start_time": "2019-03-23T07:37:56.533837Z"
    }
   },
   "outputs": [
    {
     "name": "stdout",
     "output_type": "stream",
     "text": [
      "# Size 1\n",
      "Basket(39): 50675\n",
      "Basket(48): 42135\n",
      "Basket(38): 15596\n",
      "Basket(32): 15167\n",
      "Basket(41): 14945\n",
      "# Size 2\n",
      "Basket(39,48): 29142\n",
      "Basket(39,41): 11414\n",
      "Basket(38,39): 10345\n",
      "Basket(41,48): 9018\n",
      "Basket(32,39): 8455\n",
      "# Size 3\n",
      "Basket(39,41,48): 7366\n",
      "Basket(38,39,48): 6102\n",
      "Basket(32,39,48): 5402\n",
      "Basket(38,39,41): 3051\n",
      "Basket(38,41,48): 2374\n",
      "# Size 4\n",
      "Basket(38,39,41,48): 1991\n",
      "Basket(32,39,41,48): 1646\n",
      "Basket(32,38,39,48): 1236\n",
      "Basket(38,39,48,170): 1193\n",
      "Basket(36,38,39,48): 1080\n"
     ]
    }
   ],
   "source": [
    "show_top_itemset(itemsets_1_50)"
   ]
  },
  {
   "cell_type": "code",
   "execution_count": 124,
   "metadata": {
    "ExecuteTime": {
     "end_time": "2019-03-23T07:37:56.565653Z",
     "start_time": "2019-03-23T07:37:56.546628Z"
    }
   },
   "outputs": [
    {
     "data": {
      "text/plain": [
       "{1: {(9,): 1372,\n",
       "  (19,): 1005,\n",
       "  (31,): 920,\n",
       "  (32,): 15167,\n",
       "  (36,): 2936,\n",
       "  (37,): 1074,\n",
       "  (38,): 15596,\n",
       "  (39,): 50675,\n",
       "  (41,): 14945,\n",
       "  (45,): 911,\n",
       "  (48,): 42135,\n",
       "  (49,): 1120,\n",
       "  (60,): 1489,\n",
       "  (65,): 4472,\n",
       "  (78,): 1060,\n",
       "  (79,): 1600,\n",
       "  (89,): 3837,\n",
       "  (101,): 2237,\n",
       "  (110,): 2794,\n",
       "  (117,): 1026,\n",
       "  (123,): 1302,\n",
       "  (147,): 1779,\n",
       "  (161,): 1010,\n",
       "  (170,): 3099,\n",
       "  (175,): 970,\n",
       "  (179,): 998,\n",
       "  (185,): 1376,\n",
       "  (201,): 1133,\n",
       "  (225,): 3257,\n",
       "  (237,): 3032,\n",
       "  (242,): 911,\n",
       "  (249,): 1160,\n",
       "  (255,): 1474,\n",
       "  (258,): 987,\n",
       "  (264,): 895,\n",
       "  (270,): 1734,\n",
       "  (271,): 2094,\n",
       "  (286,): 1183,\n",
       "  (301,): 1204,\n",
       "  (310,): 2594,\n",
       "  (338,): 1274,\n",
       "  (413,): 1880,\n",
       "  (438,): 1863,\n",
       "  (475,): 2167,\n",
       "  (479,): 926,\n",
       "  (522,): 974,\n",
       "  (533,): 1487,\n",
       "  (548,): 1137,\n",
       "  (589,): 1119,\n",
       "  (592,): 1227,\n",
       "  (604,): 1209,\n",
       "  (677,): 1110,\n",
       "  (740,): 1181,\n",
       "  (783,): 965,\n",
       "  (824,): 1210,\n",
       "  (956,): 911,\n",
       "  (1004,): 1102,\n",
       "  (1146,): 1426,\n",
       "  (1327,): 1786,\n",
       "  (1393,): 1161,\n",
       "  (2238,): 1715,\n",
       "  (2958,): 904,\n",
       "  (3270,): 950,\n",
       "  (10515,): 882,\n",
       "  (12925,): 1467,\n",
       "  (13041,): 1051,\n",
       "  (14098,): 1291,\n",
       "  (15832,): 1143,\n",
       "  (16010,): 1316,\n",
       "  (16217,): 1166},\n",
       " 2: {(32, 38): 2833,\n",
       "  (32, 39): 8455,\n",
       "  (32, 41): 3196,\n",
       "  (32, 48): 8034,\n",
       "  (36, 38): 2790,\n",
       "  (36, 39): 2037,\n",
       "  (36, 48): 1416,\n",
       "  (37, 38): 1046,\n",
       "  (38, 39): 10345,\n",
       "  (38, 41): 3897,\n",
       "  (38, 48): 7944,\n",
       "  (38, 110): 2725,\n",
       "  (38, 170): 3031,\n",
       "  (38, 286): 1116,\n",
       "  (39, 41): 11414,\n",
       "  (39, 48): 29142,\n",
       "  (39, 60): 983,\n",
       "  (39, 65): 2787,\n",
       "  (39, 79): 1111,\n",
       "  (39, 89): 2749,\n",
       "  (39, 101): 1400,\n",
       "  (39, 110): 1759,\n",
       "  (39, 147): 1137,\n",
       "  (39, 170): 2059,\n",
       "  (39, 225): 2351,\n",
       "  (39, 237): 1929,\n",
       "  (39, 255): 1057,\n",
       "  (39, 270): 1194,\n",
       "  (39, 271): 1434,\n",
       "  (39, 310): 1852,\n",
       "  (39, 413): 1130,\n",
       "  (39, 438): 1260,\n",
       "  (39, 475): 1500,\n",
       "  (39, 533): 922,\n",
       "  (39, 1146): 983,\n",
       "  (39, 1327): 1156,\n",
       "  (39, 2238): 1287,\n",
       "  (39, 12925): 938,\n",
       "  (41, 48): 9018,\n",
       "  (41, 65): 995,\n",
       "  (48, 65): 2529,\n",
       "  (48, 79): 893,\n",
       "  (48, 89): 2798,\n",
       "  (48, 101): 1311,\n",
       "  (48, 110): 1380,\n",
       "  (48, 147): 1036,\n",
       "  (48, 170): 1557,\n",
       "  (48, 225): 1736,\n",
       "  (48, 237): 1682,\n",
       "  (48, 255): 1057,\n",
       "  (48, 270): 957,\n",
       "  (48, 271): 1090,\n",
       "  (48, 310): 1692,\n",
       "  (48, 413): 1135,\n",
       "  (48, 438): 1025,\n",
       "  (48, 475): 1428,\n",
       "  (48, 1327): 968,\n",
       "  (48, 2238): 955},\n",
       " 3: {(32, 38, 39): 1840,\n",
       "  (32, 38, 48): 1646,\n",
       "  (32, 39, 41): 2359,\n",
       "  (32, 39, 48): 5402,\n",
       "  (32, 41, 48): 2063,\n",
       "  (36, 38, 39): 1945,\n",
       "  (36, 38, 48): 1360,\n",
       "  (36, 39, 48): 1116,\n",
       "  (38, 39, 41): 3051,\n",
       "  (38, 39, 48): 6102,\n",
       "  (38, 39, 110): 1740,\n",
       "  (38, 39, 170): 2019,\n",
       "  (38, 41, 48): 2374,\n",
       "  (38, 48, 110): 1361,\n",
       "  (38, 48, 170): 1538,\n",
       "  (39, 41, 48): 7366,\n",
       "  (39, 48, 65): 1797,\n",
       "  (39, 48, 89): 2125,\n",
       "  (39, 48, 101): 946,\n",
       "  (39, 48, 110): 1037,\n",
       "  (39, 48, 170): 1206,\n",
       "  (39, 48, 225): 1400,\n",
       "  (39, 48, 237): 1244,\n",
       "  (39, 48, 310): 1347,\n",
       "  (39, 48, 475): 1092},\n",
       " 4: {(32, 38, 39, 48): 1236,\n",
       "  (32, 39, 41, 48): 1646,\n",
       "  (36, 38, 39, 48): 1080,\n",
       "  (38, 39, 41, 48): 1991,\n",
       "  (38, 39, 48, 110): 1031,\n",
       "  (38, 39, 48, 170): 1193}}"
      ]
     },
     "execution_count": 124,
     "metadata": {},
     "output_type": "execute_result"
    }
   ],
   "source": [
    "itemsets_1_50"
   ]
  },
  {
   "cell_type": "markdown",
   "metadata": {},
   "source": [
    "### Sample 2\n",
    "Min support `0.01`  \n",
    "Min confidence `0.8`"
   ]
  },
  {
   "cell_type": "code",
   "execution_count": 91,
   "metadata": {
    "ExecuteTime": {
     "end_time": "2019-03-23T07:23:49.830457Z",
     "start_time": "2019-03-23T07:23:22.508932Z"
    }
   },
   "outputs": [
    {
     "name": "stdout",
     "output_type": "stream",
     "text": [
      "Generating itemsets.\n",
      " Counting itemsets of length 1.\n",
      "  Found 16470 candidate itemsets of length 1.\n",
      "  Found 70 large itemsets of length 1.\n",
      " Counting itemsets of length 2.\n",
      "  Found 2415 candidate itemsets of length 2.\n",
      "  Found 58 large itemsets of length 2.\n",
      " Counting itemsets of length 3.\n",
      "  Found 37 candidate itemsets of length 3.\n",
      "  Found 25 large itemsets of length 3.\n",
      " Counting itemsets of length 4.\n",
      "  Found 6 candidate itemsets of length 4.\n",
      "  Found 6 large itemsets of length 4.\n",
      " Counting itemsets of length 5.\n",
      "  Found 0 candidate itemsets of length 5.\n",
      "Itemset generation terminated.\n",
      "\n",
      "Generating rules from itemsets.\n",
      " Generating rules of size 2.\n",
      " Generating rules of size 3.\n",
      " Generating rules of size 4.\n",
      "Rule generation terminated.\n",
      "\n"
     ]
    }
   ],
   "source": [
    "itemsets_1_80, rules_1_80 = apriori(baskets, min_support=0.01,  min_confidence=0.8, verbosity=1)"
   ]
  },
  {
   "cell_type": "code",
   "execution_count": 127,
   "metadata": {
    "ExecuteTime": {
     "end_time": "2019-03-23T07:38:21.537282Z",
     "start_time": "2019-03-23T07:38:21.532039Z"
    }
   },
   "outputs": [
    {
     "name": "stdout",
     "output_type": "stream",
     "text": [
      "# Size 1\n",
      "Basket(39): 50675\n",
      "Basket(48): 42135\n",
      "Basket(38): 15596\n",
      "Basket(32): 15167\n",
      "Basket(41): 14945\n",
      "# Size 2\n",
      "Basket(39,48): 29142\n",
      "Basket(39,41): 11414\n",
      "Basket(38,39): 10345\n",
      "Basket(41,48): 9018\n",
      "Basket(32,39): 8455\n",
      "# Size 3\n",
      "Basket(39,41,48): 7366\n",
      "Basket(38,39,48): 6102\n",
      "Basket(32,39,48): 5402\n",
      "Basket(38,39,41): 3051\n",
      "Basket(38,41,48): 2374\n",
      "# Size 4\n",
      "Basket(38,39,41,48): 1991\n",
      "Basket(32,39,41,48): 1646\n",
      "Basket(32,38,39,48): 1236\n",
      "Basket(38,39,48,170): 1193\n",
      "Basket(36,38,39,48): 1080\n"
     ]
    }
   ],
   "source": [
    "show_top_itemset(itemsets_1_80)"
   ]
  },
  {
   "cell_type": "code",
   "execution_count": 126,
   "metadata": {
    "ExecuteTime": {
     "end_time": "2019-03-23T07:37:56.599690Z",
     "start_time": "2019-03-23T07:37:56.586927Z"
    }
   },
   "outputs": [
    {
     "data": {
      "text/plain": [
       "[{36} -> {38},\n",
       " {37} -> {38},\n",
       " {110} -> {38},\n",
       " {170} -> {38},\n",
       " {286} -> {38},\n",
       " {36, 39} -> {38},\n",
       " {36, 48} -> {38},\n",
       " {39, 110} -> {38},\n",
       " {39, 170} -> {38},\n",
       " {48, 110} -> {38},\n",
       " {48, 170} -> {38},\n",
       " {41, 48} -> {39},\n",
       " {48, 225} -> {39},\n",
       " {36, 39, 48} -> {38},\n",
       " {38, 41, 48} -> {39},\n",
       " {39, 48, 110} -> {38},\n",
       " {39, 48, 170} -> {38}]"
      ]
     },
     "execution_count": 126,
     "metadata": {},
     "output_type": "execute_result"
    }
   ],
   "source": [
    "rules_1_80"
   ]
  },
  {
   "cell_type": "markdown",
   "metadata": {
    "ExecuteTime": {
     "end_time": "2019-03-23T07:31:46.198481Z",
     "start_time": "2019-03-23T07:31:46.194044Z"
    }
   },
   "source": [
    "### Sample 3\n",
    "Min support `0.3`  \n",
    "Min confidence `0.5`"
   ]
  },
  {
   "cell_type": "code",
   "execution_count": 153,
   "metadata": {
    "ExecuteTime": {
     "end_time": "2019-03-23T07:39:35.113217Z",
     "start_time": "2019-03-23T07:39:34.638226Z"
    }
   },
   "outputs": [],
   "source": [
    "itemsets_20_80, rules_20_80 = apriori(baskets, min_support=0.3,  min_confidence=0.5)"
   ]
  },
  {
   "cell_type": "code",
   "execution_count": 154,
   "metadata": {
    "ExecuteTime": {
     "end_time": "2019-03-23T07:39:35.119219Z",
     "start_time": "2019-03-23T07:39:35.115655Z"
    }
   },
   "outputs": [
    {
     "name": "stdout",
     "output_type": "stream",
     "text": [
      "# Size 1\n",
      "Basket(39): 50675\n",
      "Basket(48): 42135\n",
      "# Size 2\n",
      "Basket(39,48): 29142\n"
     ]
    }
   ],
   "source": [
    "show_top_itemset(itemsets_20_80)"
   ]
  },
  {
   "cell_type": "code",
   "execution_count": 155,
   "metadata": {
    "ExecuteTime": {
     "end_time": "2019-03-23T07:39:35.310145Z",
     "start_time": "2019-03-23T07:39:35.305366Z"
    }
   },
   "outputs": [
    {
     "data": {
      "text/plain": [
       "[{48} -> {39}, {39} -> {48}]"
      ]
     },
     "execution_count": 155,
     "metadata": {},
     "output_type": "execute_result"
    }
   ],
   "source": [
    "rules_20_80"
   ]
  },
  {
   "cell_type": "markdown",
   "metadata": {
    "ExecuteTime": {
     "end_time": "2019-03-23T07:52:39.111624Z",
     "start_time": "2019-03-23T07:52:39.108849Z"
    }
   },
   "source": [
    "# Детали"
   ]
  },
  {
   "cell_type": "code",
   "execution_count": null,
   "metadata": {
    "ExecuteTime": {
     "end_time": "2019-03-23T07:53:09.699005Z",
     "start_time": "2019-03-23T07:53:09.696339Z"
    }
   },
   "outputs": [],
   "source": []
  },
  {
   "cell_type": "code",
   "execution_count": null,
   "metadata": {},
   "outputs": [],
   "source": []
  }
 ],
 "metadata": {
  "kernelspec": {
   "display_name": "Python 3",
   "language": "python",
   "name": "python3"
  },
  "language_info": {
   "codemirror_mode": {
    "name": "ipython",
    "version": 3
   },
   "file_extension": ".py",
   "mimetype": "text/x-python",
   "name": "python",
   "nbconvert_exporter": "python",
   "pygments_lexer": "ipython3",
   "version": "3.6.5"
  }
 },
 "nbformat": 4,
 "nbformat_minor": 2
}
