{
 "cells": [
  {
   "cell_type": "code",
   "execution_count": 311,
   "metadata": {
    "ExecuteTime": {
     "end_time": "2019-03-23T14:31:17.765734Z",
     "start_time": "2019-03-23T14:31:17.757404Z"
    }
   },
   "outputs": [],
   "source": [
    "%matplotlib inline\n",
    "import os\n",
    "import shutil\n",
    "\n",
    "from datetime import datetime\n",
    "\n",
    "import pandas as pd\n",
    "import pydotplus\n",
    "import numpy as np\n",
    "\n",
    "from matplotlib import pyplot as plt\n",
    "from sklearn.tree import DecisionTreeClassifier\n",
    "from sklearn.tree import export_graphviz\n",
    "from sklearn.preprocessing import OneHotEncoder\n",
    "from sklearn.model_selection import train_test_split\n",
    "from sklearn.metrics import confusion_matrix\n",
    "from sklearn.utils.multiclass import unique_labels\n",
    "from sklearn import metrics"
   ]
  },
  {
   "cell_type": "code",
   "execution_count": 6,
   "metadata": {
    "ExecuteTime": {
     "end_time": "2019-03-23T13:18:11.839787Z",
     "start_time": "2019-03-23T13:18:11.834910Z"
    }
   },
   "outputs": [],
   "source": [
    "DATA_DIR = 'data'\n",
    "FILE_NAMES = {\n",
    "    'providers':'s', \n",
    "    'details': 'p', \n",
    "    'supplies': 'sp',\n",
    "}\n",
    "files = {k:os.path.join(DATA_DIR, f'{v}.csv') for k, v in FILE_NAMES.items()}"
   ]
  },
  {
   "cell_type": "code",
   "execution_count": 7,
   "metadata": {
    "ExecuteTime": {
     "end_time": "2019-03-23T13:18:12.096988Z",
     "start_time": "2019-03-23T13:18:12.068657Z"
    }
   },
   "outputs": [],
   "source": [
    "providers = pd.read_csv(files['providers'])\n",
    "details = pd.read_csv(files['details'])\n",
    "supplies = pd.read_csv(files['supplies'])"
   ]
  },
  {
   "cell_type": "code",
   "execution_count": 8,
   "metadata": {
    "ExecuteTime": {
     "end_time": "2019-03-23T13:18:12.658899Z",
     "start_time": "2019-03-23T13:18:12.535827Z"
    }
   },
   "outputs": [],
   "source": [
    "supplies['ShipDate'] = supplies['ShipDate'].apply(lambda x: datetime.strptime(x, '%Y-%m-%d'))"
   ]
  },
  {
   "cell_type": "code",
   "execution_count": 9,
   "metadata": {
    "ExecuteTime": {
     "end_time": "2019-03-23T13:18:22.838837Z",
     "start_time": "2019-03-23T13:18:22.822027Z"
    }
   },
   "outputs": [],
   "source": [
    "all_together = supplies.join(details.set_index('PID'), on='PID').join(providers.set_index('SID'), on='SID')"
   ]
  },
  {
   "cell_type": "code",
   "execution_count": 11,
   "metadata": {
    "ExecuteTime": {
     "end_time": "2019-03-23T13:21:21.718844Z",
     "start_time": "2019-03-23T13:21:21.646295Z"
    }
   },
   "outputs": [
    {
     "data": {
      "text/html": [
       "<div>\n",
       "<style scoped>\n",
       "    .dataframe tbody tr th:only-of-type {\n",
       "        vertical-align: middle;\n",
       "    }\n",
       "\n",
       "    .dataframe tbody tr th {\n",
       "        vertical-align: top;\n",
       "    }\n",
       "\n",
       "    .dataframe thead th {\n",
       "        text-align: right;\n",
       "    }\n",
       "</style>\n",
       "<table border=\"1\" class=\"dataframe\">\n",
       "  <thead>\n",
       "    <tr style=\"text-align: right;\">\n",
       "      <th></th>\n",
       "      <th>0</th>\n",
       "      <th>1</th>\n",
       "      <th>2</th>\n",
       "      <th>3</th>\n",
       "      <th>4</th>\n",
       "      <th>5</th>\n",
       "      <th>6</th>\n",
       "      <th>7</th>\n",
       "      <th>8</th>\n",
       "      <th>9</th>\n",
       "      <th>...</th>\n",
       "      <th>11793</th>\n",
       "      <th>11794</th>\n",
       "      <th>11795</th>\n",
       "      <th>11796</th>\n",
       "      <th>11797</th>\n",
       "      <th>11798</th>\n",
       "      <th>11799</th>\n",
       "      <th>11800</th>\n",
       "      <th>11801</th>\n",
       "      <th>11802</th>\n",
       "    </tr>\n",
       "  </thead>\n",
       "  <tbody>\n",
       "    <tr>\n",
       "      <th>SPID</th>\n",
       "      <td>1</td>\n",
       "      <td>2</td>\n",
       "      <td>3</td>\n",
       "      <td>4</td>\n",
       "      <td>5</td>\n",
       "      <td>6</td>\n",
       "      <td>7</td>\n",
       "      <td>8</td>\n",
       "      <td>9</td>\n",
       "      <td>10</td>\n",
       "      <td>...</td>\n",
       "      <td>11990</td>\n",
       "      <td>11991</td>\n",
       "      <td>11992</td>\n",
       "      <td>11993</td>\n",
       "      <td>11994</td>\n",
       "      <td>11995</td>\n",
       "      <td>11996</td>\n",
       "      <td>11997</td>\n",
       "      <td>11998</td>\n",
       "      <td>11999</td>\n",
       "    </tr>\n",
       "    <tr>\n",
       "      <th>SID</th>\n",
       "      <td>714</td>\n",
       "      <td>812</td>\n",
       "      <td>1</td>\n",
       "      <td>1036</td>\n",
       "      <td>226</td>\n",
       "      <td>58</td>\n",
       "      <td>779</td>\n",
       "      <td>1087</td>\n",
       "      <td>730</td>\n",
       "      <td>418</td>\n",
       "      <td>...</td>\n",
       "      <td>1014</td>\n",
       "      <td>634</td>\n",
       "      <td>680</td>\n",
       "      <td>269</td>\n",
       "      <td>961</td>\n",
       "      <td>892</td>\n",
       "      <td>573</td>\n",
       "      <td>671</td>\n",
       "      <td>417</td>\n",
       "      <td>299</td>\n",
       "    </tr>\n",
       "    <tr>\n",
       "      <th>PID</th>\n",
       "      <td>603</td>\n",
       "      <td>648</td>\n",
       "      <td>265</td>\n",
       "      <td>114</td>\n",
       "      <td>1005</td>\n",
       "      <td>862</td>\n",
       "      <td>748</td>\n",
       "      <td>509</td>\n",
       "      <td>999</td>\n",
       "      <td>644</td>\n",
       "      <td>...</td>\n",
       "      <td>778</td>\n",
       "      <td>645</td>\n",
       "      <td>358</td>\n",
       "      <td>622</td>\n",
       "      <td>243</td>\n",
       "      <td>769</td>\n",
       "      <td>415</td>\n",
       "      <td>642</td>\n",
       "      <td>989</td>\n",
       "      <td>569</td>\n",
       "    </tr>\n",
       "    <tr>\n",
       "      <th>Quantity</th>\n",
       "      <td>35</td>\n",
       "      <td>23</td>\n",
       "      <td>22</td>\n",
       "      <td>250</td>\n",
       "      <td>37</td>\n",
       "      <td>8</td>\n",
       "      <td>33</td>\n",
       "      <td>45</td>\n",
       "      <td>31</td>\n",
       "      <td>45</td>\n",
       "      <td>...</td>\n",
       "      <td>331</td>\n",
       "      <td>531</td>\n",
       "      <td>34</td>\n",
       "      <td>67</td>\n",
       "      <td>437</td>\n",
       "      <td>209</td>\n",
       "      <td>48</td>\n",
       "      <td>347</td>\n",
       "      <td>1</td>\n",
       "      <td>33</td>\n",
       "    </tr>\n",
       "    <tr>\n",
       "      <th>Price</th>\n",
       "      <td>259.824</td>\n",
       "      <td>420.85</td>\n",
       "      <td>313.93</td>\n",
       "      <td>256.28</td>\n",
       "      <td>441.47</td>\n",
       "      <td>28.65</td>\n",
       "      <td>416.86</td>\n",
       "      <td>383.36</td>\n",
       "      <td>245.89</td>\n",
       "      <td>98.65</td>\n",
       "      <td>...</td>\n",
       "      <td>157.57</td>\n",
       "      <td>89.52</td>\n",
       "      <td>119.04</td>\n",
       "      <td>247.69</td>\n",
       "      <td>392</td>\n",
       "      <td>308.42</td>\n",
       "      <td>103.88</td>\n",
       "      <td>163.18</td>\n",
       "      <td>152.98</td>\n",
       "      <td>86.93</td>\n",
       "    </tr>\n",
       "    <tr>\n",
       "      <th>ShipDate</th>\n",
       "      <td>2014-04-23 00:00:00</td>\n",
       "      <td>2013-08-29 00:00:00</td>\n",
       "      <td>2015-01-21 00:00:00</td>\n",
       "      <td>2013-03-07 00:00:00</td>\n",
       "      <td>2013-03-17 00:00:00</td>\n",
       "      <td>2013-10-09 00:00:00</td>\n",
       "      <td>2014-09-29 00:00:00</td>\n",
       "      <td>2013-01-07 00:00:00</td>\n",
       "      <td>2012-06-14 00:00:00</td>\n",
       "      <td>2013-03-29 00:00:00</td>\n",
       "      <td>...</td>\n",
       "      <td>2012-10-28 00:00:00</td>\n",
       "      <td>2014-01-18 00:00:00</td>\n",
       "      <td>2014-06-09 00:00:00</td>\n",
       "      <td>2014-09-19 00:00:00</td>\n",
       "      <td>2014-03-03 00:00:00</td>\n",
       "      <td>2013-03-30 00:00:00</td>\n",
       "      <td>2012-11-28 00:00:00</td>\n",
       "      <td>2013-05-14 00:00:00</td>\n",
       "      <td>2013-05-26 00:00:00</td>\n",
       "      <td>2013-03-09 00:00:00</td>\n",
       "    </tr>\n",
       "    <tr>\n",
       "      <th>PName</th>\n",
       "      <td>Стальной лист</td>\n",
       "      <td>Кожух</td>\n",
       "      <td>Шуруп</td>\n",
       "      <td>Ремень</td>\n",
       "      <td>Поручень</td>\n",
       "      <td>Колесо</td>\n",
       "      <td>Ручка</td>\n",
       "      <td>Поручень</td>\n",
       "      <td>Радиатор</td>\n",
       "      <td>Отвёртка</td>\n",
       "      <td>...</td>\n",
       "      <td>Гвоздь</td>\n",
       "      <td>Верёвка</td>\n",
       "      <td>Труба</td>\n",
       "      <td>Колесо</td>\n",
       "      <td>Леска</td>\n",
       "      <td>Болт</td>\n",
       "      <td>Шина</td>\n",
       "      <td>Ремень</td>\n",
       "      <td>Поручень</td>\n",
       "      <td>Шуруп</td>\n",
       "    </tr>\n",
       "    <tr>\n",
       "      <th>PCity</th>\n",
       "      <td>Екатеринбург</td>\n",
       "      <td>Владивосток</td>\n",
       "      <td>Саратов</td>\n",
       "      <td>Воронеж</td>\n",
       "      <td>Самара</td>\n",
       "      <td>Пермь</td>\n",
       "      <td>Владивосток</td>\n",
       "      <td>Ростов-на-Дону</td>\n",
       "      <td>Ярославль</td>\n",
       "      <td>Барнаул</td>\n",
       "      <td>...</td>\n",
       "      <td>Екатеринбург</td>\n",
       "      <td>Ульяновск</td>\n",
       "      <td>Челябинск</td>\n",
       "      <td>Иркутск</td>\n",
       "      <td>Ижевск</td>\n",
       "      <td>Барнаул</td>\n",
       "      <td>Саратов</td>\n",
       "      <td>Тольятти</td>\n",
       "      <td>Воронеж</td>\n",
       "      <td>Барнаул</td>\n",
       "    </tr>\n",
       "    <tr>\n",
       "      <th>Color</th>\n",
       "      <td>Красный</td>\n",
       "      <td>Жёлтый</td>\n",
       "      <td>Серый</td>\n",
       "      <td>Зелёный</td>\n",
       "      <td>Жёлтый</td>\n",
       "      <td>Красный</td>\n",
       "      <td>Серый</td>\n",
       "      <td>Синий</td>\n",
       "      <td>Синий</td>\n",
       "      <td>Чёрный</td>\n",
       "      <td>...</td>\n",
       "      <td>Красный</td>\n",
       "      <td>Красный</td>\n",
       "      <td>Красный</td>\n",
       "      <td>Серый</td>\n",
       "      <td>Синий</td>\n",
       "      <td>Серый</td>\n",
       "      <td>Зелёный</td>\n",
       "      <td>Синий</td>\n",
       "      <td>Зелёный</td>\n",
       "      <td>Зелёный</td>\n",
       "    </tr>\n",
       "    <tr>\n",
       "      <th>Weight</th>\n",
       "      <td>11.226</td>\n",
       "      <td>19.232</td>\n",
       "      <td>1.586</td>\n",
       "      <td>0.945</td>\n",
       "      <td>19.466</td>\n",
       "      <td>14.291</td>\n",
       "      <td>0.809</td>\n",
       "      <td>19.415</td>\n",
       "      <td>12.911</td>\n",
       "      <td>0.801</td>\n",
       "      <td>...</td>\n",
       "      <td>1.853</td>\n",
       "      <td>1.768</td>\n",
       "      <td>19.636</td>\n",
       "      <td>11.777</td>\n",
       "      <td>0.875</td>\n",
       "      <td>1.106</td>\n",
       "      <td>14.959</td>\n",
       "      <td>1.681</td>\n",
       "      <td>14.789</td>\n",
       "      <td>0.54</td>\n",
       "    </tr>\n",
       "    <tr>\n",
       "      <th>SName</th>\n",
       "      <td>ГК \"Эталон\"</td>\n",
       "      <td>﻿Синапсис</td>\n",
       "      <td>Янус</td>\n",
       "      <td>﻿Синапсис</td>\n",
       "      <td>ООО \"ВиК-инжиниринг\"</td>\n",
       "      <td>ООО \"ВиК-инжиниринг\"</td>\n",
       "      <td>ИП Лебедева И.С.</td>\n",
       "      <td>ИП Лебедева И.С.</td>\n",
       "      <td>ООО \"ВиК-инжиниринг\"</td>\n",
       "      <td>Русинтек</td>\n",
       "      <td>...</td>\n",
       "      <td>ООО \"Слог\"</td>\n",
       "      <td>ИП Карачаров В.В.</td>\n",
       "      <td>Феникс</td>\n",
       "      <td>Палекс</td>\n",
       "      <td>Райдос</td>\n",
       "      <td>ООО \"Эльтадор-М\"</td>\n",
       "      <td>ООО \"Абсолют\"</td>\n",
       "      <td>Зет-Стоун</td>\n",
       "      <td>ООО \"Самоходов\"</td>\n",
       "      <td>Мегаком</td>\n",
       "    </tr>\n",
       "    <tr>\n",
       "      <th>SCity</th>\n",
       "      <td>Воронеж</td>\n",
       "      <td>Пермь</td>\n",
       "      <td>Санкт-Петербург</td>\n",
       "      <td>Волгоград</td>\n",
       "      <td>Санкт-Петербург</td>\n",
       "      <td>Челябинск</td>\n",
       "      <td>Новгород</td>\n",
       "      <td>Пермь</td>\n",
       "      <td>Самара</td>\n",
       "      <td>Ижевск</td>\n",
       "      <td>...</td>\n",
       "      <td>Воронеж</td>\n",
       "      <td>Ростов-на-Дону</td>\n",
       "      <td>Самара</td>\n",
       "      <td>Барнаул</td>\n",
       "      <td>Волгоград</td>\n",
       "      <td>Тольятти</td>\n",
       "      <td>Владивосток</td>\n",
       "      <td>Тюмень</td>\n",
       "      <td>Тольятти</td>\n",
       "      <td>Ярославль</td>\n",
       "    </tr>\n",
       "    <tr>\n",
       "      <th>Address</th>\n",
       "      <td>Лесопарковая 50</td>\n",
       "      <td>Сталелитейная 42</td>\n",
       "      <td>Авиационная 35</td>\n",
       "      <td>Молодогвардейцев 43</td>\n",
       "      <td>Турбинная 50</td>\n",
       "      <td>Животноводческая 11</td>\n",
       "      <td>Радистов 8</td>\n",
       "      <td>Румянцева 15</td>\n",
       "      <td>Марата 6</td>\n",
       "      <td>Лунная 20</td>\n",
       "      <td>...</td>\n",
       "      <td>Ленина 41</td>\n",
       "      <td>Вахтангова 19</td>\n",
       "      <td>Инженерная 23</td>\n",
       "      <td>Чехова 48</td>\n",
       "      <td>Елькина 44</td>\n",
       "      <td>Шуменская 35</td>\n",
       "      <td>Чистопольская 3</td>\n",
       "      <td>Заводская 23</td>\n",
       "      <td>Луначарского 43</td>\n",
       "      <td>Якорная 22</td>\n",
       "    </tr>\n",
       "    <tr>\n",
       "      <th>Risk</th>\n",
       "      <td>2</td>\n",
       "      <td>2</td>\n",
       "      <td>1</td>\n",
       "      <td>3</td>\n",
       "      <td>3</td>\n",
       "      <td>3</td>\n",
       "      <td>2</td>\n",
       "      <td>2</td>\n",
       "      <td>3</td>\n",
       "      <td>3</td>\n",
       "      <td>...</td>\n",
       "      <td>2</td>\n",
       "      <td>2</td>\n",
       "      <td>3</td>\n",
       "      <td>2</td>\n",
       "      <td>1</td>\n",
       "      <td>2</td>\n",
       "      <td>2</td>\n",
       "      <td>3</td>\n",
       "      <td>3</td>\n",
       "      <td>3</td>\n",
       "    </tr>\n",
       "  </tbody>\n",
       "</table>\n",
       "<p>14 rows × 11803 columns</p>\n",
       "</div>"
      ],
      "text/plain": [
       "                        0                    1                    2      \\\n",
       "SPID                        1                    2                    3   \n",
       "SID                       714                  812                    1   \n",
       "PID                       603                  648                  265   \n",
       "Quantity                   35                   23                   22   \n",
       "Price                 259.824               420.85               313.93   \n",
       "ShipDate  2014-04-23 00:00:00  2013-08-29 00:00:00  2015-01-21 00:00:00   \n",
       "PName           Стальной лист                Кожух                Шуруп   \n",
       "PCity            Екатеринбург          Владивосток              Саратов   \n",
       "Color                 Красный               Жёлтый                Серый   \n",
       "Weight                 11.226               19.232                1.586   \n",
       "SName             ГК \"Эталон\"            ﻿Синапсис                 Янус   \n",
       "SCity                 Воронеж                Пермь      Санкт-Петербург   \n",
       "Address       Лесопарковая 50     Сталелитейная 42       Авиационная 35   \n",
       "Risk                        2                    2                    1   \n",
       "\n",
       "                        3                     4                     5      \\\n",
       "SPID                        4                     5                     6   \n",
       "SID                      1036                   226                    58   \n",
       "PID                       114                  1005                   862   \n",
       "Quantity                  250                    37                     8   \n",
       "Price                  256.28                441.47                 28.65   \n",
       "ShipDate  2013-03-07 00:00:00   2013-03-17 00:00:00   2013-10-09 00:00:00   \n",
       "PName                  Ремень              Поручень                Колесо   \n",
       "PCity                 Воронеж                Самара                 Пермь   \n",
       "Color                 Зелёный                Жёлтый               Красный   \n",
       "Weight                  0.945                19.466                14.291   \n",
       "SName               ﻿Синапсис  ООО \"ВиК-инжиниринг\"  ООО \"ВиК-инжиниринг\"   \n",
       "SCity               Волгоград       Санкт-Петербург             Челябинск   \n",
       "Address   Молодогвардейцев 43          Турбинная 50   Животноводческая 11   \n",
       "Risk                        3                     3                     3   \n",
       "\n",
       "                        6                    7                     8      \\\n",
       "SPID                        7                    8                     9   \n",
       "SID                       779                 1087                   730   \n",
       "PID                       748                  509                   999   \n",
       "Quantity                   33                   45                    31   \n",
       "Price                  416.86               383.36                245.89   \n",
       "ShipDate  2014-09-29 00:00:00  2013-01-07 00:00:00   2012-06-14 00:00:00   \n",
       "PName                   Ручка             Поручень              Радиатор   \n",
       "PCity             Владивосток       Ростов-на-Дону             Ярославль   \n",
       "Color                   Серый                Синий                 Синий   \n",
       "Weight                  0.809               19.415                12.911   \n",
       "SName        ИП Лебедева И.С.     ИП Лебедева И.С.  ООО \"ВиК-инжиниринг\"   \n",
       "SCity                Новгород                Пермь                Самара   \n",
       "Address            Радистов 8         Румянцева 15              Марата 6   \n",
       "Risk                        2                    2                     3   \n",
       "\n",
       "                        9      ...                11793                11794  \\\n",
       "SPID                       10  ...                11990                11991   \n",
       "SID                       418  ...                 1014                  634   \n",
       "PID                       644  ...                  778                  645   \n",
       "Quantity                   45  ...                  331                  531   \n",
       "Price                   98.65  ...               157.57                89.52   \n",
       "ShipDate  2013-03-29 00:00:00  ...  2012-10-28 00:00:00  2014-01-18 00:00:00   \n",
       "PName                Отвёртка  ...               Гвоздь              Верёвка   \n",
       "PCity                 Барнаул  ...         Екатеринбург            Ульяновск   \n",
       "Color                  Чёрный  ...              Красный              Красный   \n",
       "Weight                  0.801  ...                1.853                1.768   \n",
       "SName                Русинтек  ...           ООО \"Слог\"    ИП Карачаров В.В.   \n",
       "SCity                  Ижевск  ...              Воронеж       Ростов-на-Дону   \n",
       "Address             Лунная 20  ...            Ленина 41        Вахтангова 19   \n",
       "Risk                        3  ...                    2                    2   \n",
       "\n",
       "                        11795                11796                11797  \\\n",
       "SPID                    11992                11993                11994   \n",
       "SID                       680                  269                  961   \n",
       "PID                       358                  622                  243   \n",
       "Quantity                   34                   67                  437   \n",
       "Price                  119.04               247.69                  392   \n",
       "ShipDate  2014-06-09 00:00:00  2014-09-19 00:00:00  2014-03-03 00:00:00   \n",
       "PName                   Труба               Колесо                Леска   \n",
       "PCity               Челябинск              Иркутск               Ижевск   \n",
       "Color                 Красный                Серый                Синий   \n",
       "Weight                 19.636               11.777                0.875   \n",
       "SName                  Феникс               Палекс               Райдос   \n",
       "SCity                  Самара              Барнаул            Волгоград   \n",
       "Address         Инженерная 23            Чехова 48           Елькина 44   \n",
       "Risk                        3                    2                    1   \n",
       "\n",
       "                        11798                11799                11800  \\\n",
       "SPID                    11995                11996                11997   \n",
       "SID                       892                  573                  671   \n",
       "PID                       769                  415                  642   \n",
       "Quantity                  209                   48                  347   \n",
       "Price                  308.42               103.88               163.18   \n",
       "ShipDate  2013-03-30 00:00:00  2012-11-28 00:00:00  2013-05-14 00:00:00   \n",
       "PName                    Болт                 Шина               Ремень   \n",
       "PCity                 Барнаул              Саратов             Тольятти   \n",
       "Color                   Серый              Зелёный                Синий   \n",
       "Weight                  1.106               14.959                1.681   \n",
       "SName        ООО \"Эльтадор-М\"        ООО \"Абсолют\"            Зет-Стоун   \n",
       "SCity                Тольятти          Владивосток               Тюмень   \n",
       "Address          Шуменская 35      Чистопольская 3         Заводская 23   \n",
       "Risk                        2                    2                    3   \n",
       "\n",
       "                        11801                11802  \n",
       "SPID                    11998                11999  \n",
       "SID                       417                  299  \n",
       "PID                       989                  569  \n",
       "Quantity                    1                   33  \n",
       "Price                  152.98                86.93  \n",
       "ShipDate  2013-05-26 00:00:00  2013-03-09 00:00:00  \n",
       "PName                Поручень                Шуруп  \n",
       "PCity                 Воронеж              Барнаул  \n",
       "Color                 Зелёный              Зелёный  \n",
       "Weight                 14.789                 0.54  \n",
       "SName         ООО \"Самоходов\"              Мегаком  \n",
       "SCity                Тольятти            Ярославль  \n",
       "Address       Луначарского 43           Якорная 22  \n",
       "Risk                        3                    3  \n",
       "\n",
       "[14 rows x 11803 columns]"
      ]
     },
     "execution_count": 11,
     "metadata": {},
     "output_type": "execute_result"
    }
   ],
   "source": [
    "all_together.T"
   ]
  },
  {
   "cell_type": "markdown",
   "metadata": {},
   "source": [
    "1) Название поставщика  \n",
    "2) Город поставщика  \n",
    "3) Ассортимент - вычисляется как дециль количества различных товаров, поставляемых данным поставщиком  \n",
    "4) Вал - вычисляется как дециль суммарного количества товаров, поставленных данным поставщиком  \n",
    "4) Оборот - вычисляется как дециль суммарной стоимости всех товаров, поставленных данным поставщиком  \n",
    "5) Надежность - вычисляется: \"Yes\" в случае Risk=3 или \"No\" иначе (классификационный атрибут). "
   ]
  },
  {
   "cell_type": "code",
   "execution_count": 256,
   "metadata": {
    "ExecuteTime": {
     "end_time": "2019-03-23T14:25:51.544166Z",
     "start_time": "2019-03-23T14:25:51.539918Z"
    }
   },
   "outputs": [],
   "source": [
    "data = pd.DataFrame()"
   ]
  },
  {
   "cell_type": "markdown",
   "metadata": {},
   "source": [
    "#### Название поставщика"
   ]
  },
  {
   "cell_type": "code",
   "execution_count": 257,
   "metadata": {
    "ExecuteTime": {
     "end_time": "2019-03-23T14:25:51.835676Z",
     "start_time": "2019-03-23T14:25:51.829675Z"
    }
   },
   "outputs": [],
   "source": [
    "data['Название поставщика'] = all_together['SName']"
   ]
  },
  {
   "cell_type": "markdown",
   "metadata": {},
   "source": [
    "#### Город поставщика"
   ]
  },
  {
   "cell_type": "code",
   "execution_count": 258,
   "metadata": {
    "ExecuteTime": {
     "end_time": "2019-03-23T14:25:52.117073Z",
     "start_time": "2019-03-23T14:25:52.112795Z"
    }
   },
   "outputs": [],
   "source": [
    "data['Город поставщика'] = all_together['SCity']"
   ]
  },
  {
   "cell_type": "markdown",
   "metadata": {},
   "source": [
    "#### Ассортимент\n",
    "Вычисляется как дециль количества различных товаров, поставляемых данным поставщиком"
   ]
  },
  {
   "cell_type": "code",
   "execution_count": 259,
   "metadata": {
    "ExecuteTime": {
     "end_time": "2019-03-23T14:25:52.548555Z",
     "start_time": "2019-03-23T14:25:52.382358Z"
    }
   },
   "outputs": [],
   "source": [
    "ranges = all_together[['SName','SCity','PName']].groupby(['SName', 'SCity']).aggregate(lambda x: x.nunique() / 10)\n",
    "ranges['Ассортимент'] = ranges['PName']\n",
    "ranges = ranges.drop(['PName'], axis=1)"
   ]
  },
  {
   "cell_type": "code",
   "execution_count": 260,
   "metadata": {
    "ExecuteTime": {
     "end_time": "2019-03-23T14:25:52.560113Z",
     "start_time": "2019-03-23T14:25:52.550912Z"
    }
   },
   "outputs": [],
   "source": [
    "data = data.join(ranges, on=['Название поставщика', 'Город поставщика'], sort=False)"
   ]
  },
  {
   "cell_type": "markdown",
   "metadata": {
    "ExecuteTime": {
     "end_time": "2019-03-23T13:40:41.739270Z",
     "start_time": "2019-03-23T13:40:41.714996Z"
    }
   },
   "source": [
    "#### Вал\n",
    "Вычисляется как дециль суммарного количества товаров, поставленных данным поставщиком"
   ]
  },
  {
   "cell_type": "code",
   "execution_count": 261,
   "metadata": {
    "ExecuteTime": {
     "end_time": "2019-03-23T14:25:52.826661Z",
     "start_time": "2019-03-23T14:25:52.805301Z"
    }
   },
   "outputs": [],
   "source": [
    "shaft = all_together[['SName','SCity','Quantity']].groupby(['SName', 'SCity']).aggregate(lambda x: np.sum(x.values) / 10)\n",
    "shaft['Вал'] = shaft['Quantity']\n",
    "shaft = shaft.drop(['Quantity'], axis=1)"
   ]
  },
  {
   "cell_type": "code",
   "execution_count": 262,
   "metadata": {
    "ExecuteTime": {
     "end_time": "2019-03-23T14:25:52.964968Z",
     "start_time": "2019-03-23T14:25:52.954667Z"
    }
   },
   "outputs": [],
   "source": [
    "data = data.join(shaft, on=['Название поставщика', 'Город поставщика'], sort=False)"
   ]
  },
  {
   "cell_type": "markdown",
   "metadata": {
    "ExecuteTime": {
     "end_time": "2019-03-23T13:46:09.845727Z",
     "start_time": "2019-03-23T13:46:09.841813Z"
    }
   },
   "source": [
    "#### Оборот\n",
    "Вычисляется как дециль суммарной стоимости всех товаров, поставленных данным поставщиком"
   ]
  },
  {
   "cell_type": "code",
   "execution_count": 263,
   "metadata": {
    "ExecuteTime": {
     "end_time": "2019-03-23T14:25:53.559813Z",
     "start_time": "2019-03-23T14:25:53.242516Z"
    }
   },
   "outputs": [],
   "source": [
    "all_together['total_price'] = all_together.apply(lambda x: x['Quantity'] * x['Price'], axis=1)"
   ]
  },
  {
   "cell_type": "code",
   "execution_count": 264,
   "metadata": {
    "ExecuteTime": {
     "end_time": "2019-03-23T14:25:53.584275Z",
     "start_time": "2019-03-23T14:25:53.562249Z"
    }
   },
   "outputs": [],
   "source": [
    "circulation = all_together[['SName','SCity','total_price']].groupby(['SName', 'SCity']).aggregate(lambda x: np.sum(x.values) / 10)\n",
    "circulation['Оборот'] = circulation['total_price']\n",
    "circulation = circulation.drop(['total_price'], axis=1)"
   ]
  },
  {
   "cell_type": "code",
   "execution_count": 265,
   "metadata": {
    "ExecuteTime": {
     "end_time": "2019-03-23T14:25:53.594261Z",
     "start_time": "2019-03-23T14:25:53.586147Z"
    }
   },
   "outputs": [],
   "source": [
    "data = data.join(circulation, on=['Название поставщика', 'Город поставщика'], sort=False)"
   ]
  },
  {
   "cell_type": "markdown",
   "metadata": {},
   "source": [
    "#### Надежность\n",
    "Вычисляется: \"Yes\" в случае Risk=3 или \"No\" иначе (классификационный атрибут)."
   ]
  },
  {
   "cell_type": "code",
   "execution_count": 266,
   "metadata": {
    "ExecuteTime": {
     "end_time": "2019-03-23T14:25:53.837311Z",
     "start_time": "2019-03-23T14:25:53.829800Z"
    }
   },
   "outputs": [],
   "source": [
    "data['Надежность'] = all_together['Risk'].apply(lambda x: 'Yes' if x == 1 else 'No')"
   ]
  },
  {
   "cell_type": "code",
   "execution_count": 267,
   "metadata": {
    "ExecuteTime": {
     "end_time": "2019-03-23T14:25:54.003829Z",
     "start_time": "2019-03-23T14:25:53.991781Z"
    }
   },
   "outputs": [
    {
     "data": {
      "text/html": [
       "<div>\n",
       "<style scoped>\n",
       "    .dataframe tbody tr th:only-of-type {\n",
       "        vertical-align: middle;\n",
       "    }\n",
       "\n",
       "    .dataframe tbody tr th {\n",
       "        vertical-align: top;\n",
       "    }\n",
       "\n",
       "    .dataframe thead th {\n",
       "        text-align: right;\n",
       "    }\n",
       "</style>\n",
       "<table border=\"1\" class=\"dataframe\">\n",
       "  <thead>\n",
       "    <tr style=\"text-align: right;\">\n",
       "      <th></th>\n",
       "      <th>Название поставщика</th>\n",
       "      <th>Город поставщика</th>\n",
       "      <th>Ассортимент</th>\n",
       "      <th>Вал</th>\n",
       "      <th>Оборот</th>\n",
       "      <th>Надежность</th>\n",
       "    </tr>\n",
       "  </thead>\n",
       "  <tbody>\n",
       "    <tr>\n",
       "      <th>0</th>\n",
       "      <td>ГК \"Эталон\"</td>\n",
       "      <td>Воронеж</td>\n",
       "      <td>1.3</td>\n",
       "      <td>403.5</td>\n",
       "      <td>74439.372056</td>\n",
       "      <td>No</td>\n",
       "    </tr>\n",
       "    <tr>\n",
       "      <th>1</th>\n",
       "      <td>﻿Синапсис</td>\n",
       "      <td>Пермь</td>\n",
       "      <td>1.5</td>\n",
       "      <td>509.8</td>\n",
       "      <td>127584.927000</td>\n",
       "      <td>No</td>\n",
       "    </tr>\n",
       "    <tr>\n",
       "      <th>2</th>\n",
       "      <td>Янус</td>\n",
       "      <td>Санкт-Петербург</td>\n",
       "      <td>1.2</td>\n",
       "      <td>273.2</td>\n",
       "      <td>50970.750000</td>\n",
       "      <td>Yes</td>\n",
       "    </tr>\n",
       "    <tr>\n",
       "      <th>3</th>\n",
       "      <td>﻿Синапсис</td>\n",
       "      <td>Волгоград</td>\n",
       "      <td>1.3</td>\n",
       "      <td>552.4</td>\n",
       "      <td>120065.989000</td>\n",
       "      <td>No</td>\n",
       "    </tr>\n",
       "    <tr>\n",
       "      <th>4</th>\n",
       "      <td>ООО \"ВиК-инжиниринг\"</td>\n",
       "      <td>Санкт-Петербург</td>\n",
       "      <td>1.0</td>\n",
       "      <td>500.5</td>\n",
       "      <td>161811.694000</td>\n",
       "      <td>No</td>\n",
       "    </tr>\n",
       "  </tbody>\n",
       "</table>\n",
       "</div>"
      ],
      "text/plain": [
       "    Название поставщика Город поставщика  Ассортимент    Вал         Оборот  \\\n",
       "0           ГК \"Эталон\"          Воронеж          1.3  403.5   74439.372056   \n",
       "1             ﻿Синапсис            Пермь          1.5  509.8  127584.927000   \n",
       "2                  Янус  Санкт-Петербург          1.2  273.2   50970.750000   \n",
       "3             ﻿Синапсис        Волгоград          1.3  552.4  120065.989000   \n",
       "4  ООО \"ВиК-инжиниринг\"  Санкт-Петербург          1.0  500.5  161811.694000   \n",
       "\n",
       "  Надежность  \n",
       "0         No  \n",
       "1         No  \n",
       "2        Yes  \n",
       "3         No  \n",
       "4         No  "
      ]
     },
     "execution_count": 267,
     "metadata": {},
     "output_type": "execute_result"
    }
   ],
   "source": [
    "data.head()"
   ]
  },
  {
   "cell_type": "code",
   "execution_count": 268,
   "metadata": {
    "ExecuteTime": {
     "end_time": "2019-03-23T14:25:54.187797Z",
     "start_time": "2019-03-23T14:25:54.180862Z"
    }
   },
   "outputs": [
    {
     "data": {
      "text/plain": [
       "['Ассортимент', 'Вал', 'Оборот']"
      ]
     },
     "execution_count": 268,
     "metadata": {},
     "output_type": "execute_result"
    }
   ],
   "source": [
    "categorical_feature_names = ['Название поставщика', 'Город поставщика']\n",
    "target_feature_name = 'Надежность'\n",
    "num_feature_names = list(data.drop(categorical_feature_names + [target_feature_name], axis=1).columns.values)\n",
    "num_feature_names"
   ]
  },
  {
   "cell_type": "code",
   "execution_count": 269,
   "metadata": {
    "ExecuteTime": {
     "end_time": "2019-03-23T14:25:54.304178Z",
     "start_time": "2019-03-23T14:25:54.293644Z"
    }
   },
   "outputs": [
    {
     "data": {
      "text/html": [
       "<div>\n",
       "<style scoped>\n",
       "    .dataframe tbody tr th:only-of-type {\n",
       "        vertical-align: middle;\n",
       "    }\n",
       "\n",
       "    .dataframe tbody tr th {\n",
       "        vertical-align: top;\n",
       "    }\n",
       "\n",
       "    .dataframe thead th {\n",
       "        text-align: right;\n",
       "    }\n",
       "</style>\n",
       "<table border=\"1\" class=\"dataframe\">\n",
       "  <thead>\n",
       "    <tr style=\"text-align: right;\">\n",
       "      <th></th>\n",
       "      <th>Ассортимент</th>\n",
       "      <th>Вал</th>\n",
       "      <th>Оборот</th>\n",
       "    </tr>\n",
       "  </thead>\n",
       "  <tbody>\n",
       "    <tr>\n",
       "      <th>0</th>\n",
       "      <td>1.3</td>\n",
       "      <td>403.5</td>\n",
       "      <td>74439.372056</td>\n",
       "    </tr>\n",
       "    <tr>\n",
       "      <th>1</th>\n",
       "      <td>1.5</td>\n",
       "      <td>509.8</td>\n",
       "      <td>127584.927000</td>\n",
       "    </tr>\n",
       "    <tr>\n",
       "      <th>2</th>\n",
       "      <td>1.2</td>\n",
       "      <td>273.2</td>\n",
       "      <td>50970.750000</td>\n",
       "    </tr>\n",
       "    <tr>\n",
       "      <th>3</th>\n",
       "      <td>1.3</td>\n",
       "      <td>552.4</td>\n",
       "      <td>120065.989000</td>\n",
       "    </tr>\n",
       "    <tr>\n",
       "      <th>4</th>\n",
       "      <td>1.0</td>\n",
       "      <td>500.5</td>\n",
       "      <td>161811.694000</td>\n",
       "    </tr>\n",
       "  </tbody>\n",
       "</table>\n",
       "</div>"
      ],
      "text/plain": [
       "   Ассортимент    Вал         Оборот\n",
       "0          1.3  403.5   74439.372056\n",
       "1          1.5  509.8  127584.927000\n",
       "2          1.2  273.2   50970.750000\n",
       "3          1.3  552.4  120065.989000\n",
       "4          1.0  500.5  161811.694000"
      ]
     },
     "execution_count": 269,
     "metadata": {},
     "output_type": "execute_result"
    }
   ],
   "source": [
    "num_features = data[num_feature_names]\n",
    "num_features.head()"
   ]
  },
  {
   "cell_type": "code",
   "execution_count": 270,
   "metadata": {
    "ExecuteTime": {
     "end_time": "2019-03-23T14:25:54.459342Z",
     "start_time": "2019-03-23T14:25:54.454806Z"
    }
   },
   "outputs": [],
   "source": [
    "encoder = OneHotEncoder(sparse=False)"
   ]
  },
  {
   "cell_type": "code",
   "execution_count": 271,
   "metadata": {
    "ExecuteTime": {
     "end_time": "2019-03-23T14:25:54.628592Z",
     "start_time": "2019-03-23T14:25:54.612061Z"
    }
   },
   "outputs": [],
   "source": [
    "cat_features = encoder.fit_transform(data[categorical_feature_names])"
   ]
  },
  {
   "cell_type": "code",
   "execution_count": 272,
   "metadata": {
    "ExecuteTime": {
     "end_time": "2019-03-23T14:25:54.790094Z",
     "start_time": "2019-03-23T14:25:54.776436Z"
    }
   },
   "outputs": [],
   "source": [
    "cat_df = pd.DataFrame({k: v for k, v in zip(encoder.get_feature_names(), cat_features.T)})"
   ]
  },
  {
   "cell_type": "code",
   "execution_count": 273,
   "metadata": {
    "ExecuteTime": {
     "end_time": "2019-03-23T14:25:55.912162Z",
     "start_time": "2019-03-23T14:25:55.903661Z"
    }
   },
   "outputs": [],
   "source": [
    "features = pd.concat([num_features, cat_df], axis=1, sort=False)"
   ]
  },
  {
   "cell_type": "code",
   "execution_count": 274,
   "metadata": {
    "ExecuteTime": {
     "end_time": "2019-03-23T14:25:56.061554Z",
     "start_time": "2019-03-23T14:25:56.058134Z"
    }
   },
   "outputs": [],
   "source": [
    "features_names = list(features.columns.values)"
   ]
  },
  {
   "cell_type": "code",
   "execution_count": 279,
   "metadata": {
    "ExecuteTime": {
     "end_time": "2019-03-23T14:26:50.529528Z",
     "start_time": "2019-03-23T14:26:50.526564Z"
    }
   },
   "outputs": [],
   "source": [
    "target = data[target_feature_name]"
   ]
  },
  {
   "cell_type": "code",
   "execution_count": 282,
   "metadata": {
    "ExecuteTime": {
     "end_time": "2019-03-23T14:26:59.155332Z",
     "start_time": "2019-03-23T14:26:59.151932Z"
    }
   },
   "outputs": [],
   "source": [
    "data_x, data_y = features.values, target.values"
   ]
  },
  {
   "cell_type": "code",
   "execution_count": 287,
   "metadata": {
    "ExecuteTime": {
     "end_time": "2019-03-23T14:27:03.150751Z",
     "start_time": "2019-03-23T14:27:03.137284Z"
    }
   },
   "outputs": [],
   "source": [
    "x_train, x_test, y_train, y_test = train_test_split(data_x, data_y, test_size=0.3, random_state=42)"
   ]
  },
  {
   "cell_type": "code",
   "execution_count": 288,
   "metadata": {
    "ExecuteTime": {
     "end_time": "2019-03-23T14:27:03.272960Z",
     "start_time": "2019-03-23T14:27:03.269387Z"
    }
   },
   "outputs": [],
   "source": [
    "clf_tree = DecisionTreeClassifier(\n",
    "    criterion='entropy', \n",
    "    max_depth=None, \n",
    "    random_state=17,\n",
    ")"
   ]
  },
  {
   "cell_type": "code",
   "execution_count": 289,
   "metadata": {
    "ExecuteTime": {
     "end_time": "2019-03-23T14:27:03.473011Z",
     "start_time": "2019-03-23T14:27:03.410056Z"
    }
   },
   "outputs": [
    {
     "data": {
      "text/plain": [
       "DecisionTreeClassifier(class_weight=None, criterion='entropy', max_depth=None,\n",
       "            max_features=None, max_leaf_nodes=None,\n",
       "            min_impurity_decrease=0.0, min_impurity_split=None,\n",
       "            min_samples_leaf=1, min_samples_split=2,\n",
       "            min_weight_fraction_leaf=0.0, presort=False, random_state=17,\n",
       "            splitter='best')"
      ]
     },
     "execution_count": 289,
     "metadata": {},
     "output_type": "execute_result"
    }
   ],
   "source": [
    "clf_tree.fit(x_train, y_train)"
   ]
  },
  {
   "cell_type": "code",
   "execution_count": 290,
   "metadata": {
    "ExecuteTime": {
     "end_time": "2019-03-23T14:27:03.547082Z",
     "start_time": "2019-03-23T14:27:03.543072Z"
    }
   },
   "outputs": [],
   "source": [
    "class_names = clf_tree.classes_"
   ]
  },
  {
   "cell_type": "code",
   "execution_count": 313,
   "metadata": {
    "ExecuteTime": {
     "end_time": "2019-03-23T14:31:51.813129Z",
     "start_time": "2019-03-23T14:31:51.801675Z"
    }
   },
   "outputs": [],
   "source": [
    "def plot_confusion_matrix(y_true, y_pred, classes,\n",
    "                          normalize=False,\n",
    "                          title=None,\n",
    "                          cmap=plt.cm.Blues):\n",
    "    \"\"\"\n",
    "    This function prints and plots the confusion matrix.\n",
    "    Normalization can be applied by setting `normalize=True`.\n",
    "    \"\"\"\n",
    "    if not title:\n",
    "        if normalize:\n",
    "            title = 'Normalized confusion matrix'\n",
    "        else:\n",
    "            title = 'Confusion matrix, without normalization'\n",
    "\n",
    "    # Compute confusion matrix\n",
    "    cm = confusion_matrix(y_true, y_pred)\n",
    "\n",
    "    \n",
    "    if normalize:\n",
    "        cm = cm.astype('float') / cm.sum(axis=1)[:, np.newaxis]\n",
    "        print(\"Normalized confusion matrix\")\n",
    "    else:\n",
    "        print('Confusion matrix, without normalization')\n",
    "\n",
    "    print(cm)\n",
    "\n",
    "    fig, ax = plt.subplots(figsize=(8,8))\n",
    "    im = ax.imshow(cm, interpolation='nearest', cmap=cmap)\n",
    "    ax.figure.colorbar(im, ax=ax)\n",
    "    # We want to show all ticks...\n",
    "    ax.set(xticks=np.arange(cm.shape[1]),\n",
    "           yticks=np.arange(cm.shape[0]),\n",
    "           # ... and label them with the respective list entries\n",
    "           xticklabels=classes, yticklabels=classes,\n",
    "           title=title,\n",
    "           ylabel='True label',\n",
    "           xlabel='Predicted label')\n",
    "\n",
    "    # Rotate the tick labels and set their alignment.\n",
    "    plt.setp(ax.get_xticklabels(), rotation=45, ha=\"right\",\n",
    "             rotation_mode=\"anchor\")\n",
    "\n",
    "    # Loop over data dimensions and create text annotations.\n",
    "    fmt = '.2f' if normalize else 'd'\n",
    "    thresh = cm.max() / 2.\n",
    "    for i in range(cm.shape[0]):\n",
    "        for j in range(cm.shape[1]):\n",
    "            ax.text(j, i, format(cm[i, j], fmt),\n",
    "                    ha=\"center\", va=\"center\",\n",
    "                    color=\"white\" if cm[i, j] > thresh else \"black\")\n",
    "    fig.tight_layout()\n",
    "    return ax"
   ]
  },
  {
   "cell_type": "code",
   "execution_count": 314,
   "metadata": {
    "ExecuteTime": {
     "end_time": "2019-03-23T14:31:52.426027Z",
     "start_time": "2019-03-23T14:31:52.421261Z"
    }
   },
   "outputs": [],
   "source": [
    "test_predicts = clf_tree.predict(x_test)"
   ]
  },
  {
   "cell_type": "code",
   "execution_count": 315,
   "metadata": {
    "ExecuteTime": {
     "end_time": "2019-03-23T14:31:53.275559Z",
     "start_time": "2019-03-23T14:31:52.949628Z"
    }
   },
   "outputs": [
    {
     "name": "stdout",
     "output_type": "stream",
     "text": [
      "Confusion matrix, without normalization\n",
      "[[2109  296]\n",
      " [ 339  797]]\n"
     ]
    },
    {
     "data": {
      "text/plain": [
       "<matplotlib.axes._subplots.AxesSubplot at 0x1334aebe0>"
      ]
     },
     "execution_count": 315,
     "metadata": {},
     "output_type": "execute_result"
    },
    {
     "data": {
      "image/png": "[encoded data removed]",
      "text/plain": [
       "<Figure size 576x576 with 2 Axes>"
      ]
     },
     "metadata": {
      "needs_background": "light"
     },
     "output_type": "display_data"
    }
   ],
   "source": [
    "plot_confusion_matrix(y_test,test_predicts , class_names)"
   ]
  },
  {
   "cell_type": "code",
   "execution_count": 321,
   "metadata": {
    "ExecuteTime": {
     "end_time": "2019-03-23T14:35:36.550325Z",
     "start_time": "2019-03-23T14:35:36.545684Z"
    }
   },
   "outputs": [],
   "source": [
    "yes_no_to_1_0 = lambda x: 1 if x == 'Yes' else 0\n",
    "expect, actual = list(map(yes_no_to_1_0, y_test)), list(map(yes_no_to_1_0, test_predicts))"
   ]
  },
  {
   "cell_type": "code",
   "execution_count": 328,
   "metadata": {
    "ExecuteTime": {
     "end_time": "2019-03-23T14:37:52.480071Z",
     "start_time": "2019-03-23T14:37:52.464212Z"
    }
   },
   "outputs": [],
   "source": [
    "accuracy = metrics.accuracy_score(expect, actual)\n",
    "precision = metrics.precision_score(expect, actual)\n",
    "recall = metrics.recall_score(expect, actual)\n",
    "f1 = metrics.f1_score(expect, actual)"
   ]
  },
  {
   "cell_type": "markdown",
   "metadata": {
    "ExecuteTime": {
     "end_time": "2019-03-23T14:35:59.836665Z",
     "start_time": "2019-03-23T14:35:59.831885Z"
    },
    "variables": {
     "'%.5f' % accuracy": "0.82067",
     "'%.5f' % f1": "0.71512",
     "'%.5f' % precision": "0.72919",
     "'%.5f' % recall": "0.70158"
    }
   },
   "source": [
    "- Доля правильных ответов: `{{'%.5f' % accuracy}}`  \n",
    "- Точность: `{{'%.5f' % precision}}`  \n",
    "- Полнота: `{{'%.5f' % recall}}`    \n",
    "- F-мера (F1): `{{'%.5f' % f1}}`  "
   ]
  }
 ],
 "metadata": {
  "kernelspec": {
   "display_name": "Python 3",
   "language": "python",
   "name": "python3"
  },
  "language_info": {
   "codemirror_mode": {
    "name": "ipython",
    "version": 3
   },
   "file_extension": ".py",
   "mimetype": "text/x-python",
   "name": "python",
   "nbconvert_exporter": "python",
   "pygments_lexer": "ipython3",
   "version": "3.6.5"
  }
 },
 "nbformat": 4,
 "nbformat_minor": 2
}
