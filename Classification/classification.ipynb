{
 "cells": [
  {
   "cell_type": "code",
   "execution_count": 194,
   "metadata": {
    "ExecuteTime": {
     "end_time": "2019-03-23T13:08:41.080761Z",
     "start_time": "2019-03-23T13:08:41.076983Z"
    }
   },
   "outputs": [],
   "source": [
    "import os\n",
    "import shutil\n",
    "\n",
    "import pandas as pd\n",
    "import pydotplus\n",
    "import numpy as np\n",
    "\n",
    "from sklearn.tree import DecisionTreeClassifier\n",
    "from sklearn.tree import export_graphviz\n",
    "from sklearn.preprocessing import OneHotEncoder"
   ]
  },
  {
   "cell_type": "code",
   "execution_count": 195,
   "metadata": {
    "ExecuteTime": {
     "end_time": "2019-03-23T13:08:41.261165Z",
     "start_time": "2019-03-23T13:08:41.256167Z"
    }
   },
   "outputs": [],
   "source": [
    "IMAGES_DIR = 'images'\n",
    "shutil.rmtree(IMAGES_DIR, ignore_errors=True)\n",
    "os.mkdir(IMAGES_DIR)"
   ]
  },
  {
   "cell_type": "code",
   "execution_count": 196,
   "metadata": {
    "ExecuteTime": {
     "end_time": "2019-03-23T13:08:41.421052Z",
     "start_time": "2019-03-23T13:08:41.417796Z"
    }
   },
   "outputs": [],
   "source": [
    "MARKS_DIR = 'marks'\n",
    "MARKS_INFO = os.path.join(MARKS_DIR, 'marks-info.txt')\n",
    "MARKS_DATA = os.path.join(MARKS_DIR, 'marks.csv')"
   ]
  },
  {
   "cell_type": "code",
   "execution_count": 197,
   "metadata": {
    "ExecuteTime": {
     "end_time": "2019-03-23T13:08:41.593876Z",
     "start_time": "2019-03-23T13:08:41.586340Z"
    }
   },
   "outputs": [
    {
     "name": "stdout",
     "output_type": "stream",
     "text": [
      "Файл служит источником данных для решения задачи классификации путем построения дерева решений. Файл содержит анонимные данные об оценках школьников за письменную контрольную работу в реальной школе. Каждая строка содержит перечисленные через запятую следующие данные: \n",
      "пол ученика (PUPIL_SEX); \n",
      "класс ученика (PUPIL_CLASS); \n",
      "процент заданий контрольной работы, оцененных учителем как правильно выполненные (TEACHER_RIGHT); \n",
      "количество символов \"птичка\", проставленных учителем (TEACHER_CHK);\n",
      "количество символов вопроса, проставленных учителем (TEACHER_QUEST);\n",
      "количество исправлений, сделанных учителем (TEACHER_CORR);\n",
      "количество исправлений, сделанных учеником (PUPIL_CORR);\n",
      "количество фактов использования учеником штриха-замазки (PUPIL_STRIP);\n",
      "итоговая оценка, выставленная учителем (FINALMARK).\n",
      "Файл содержит 72 строки.\n"
     ]
    }
   ],
   "source": [
    "with open(MARKS_INFO, 'r', encoding='cp1251') as f:\n",
    "    info = f.read()\n",
    "print(info)"
   ]
  },
  {
   "cell_type": "code",
   "execution_count": 69,
   "metadata": {
    "ExecuteTime": {
     "end_time": "2019-03-23T12:35:55.411379Z",
     "start_time": "2019-03-23T12:35:55.397334Z"
    }
   },
   "outputs": [],
   "source": [
    "marks_data = pd.read_csv(MARKS_DATA)"
   ]
  },
  {
   "cell_type": "code",
   "execution_count": 107,
   "metadata": {
    "ExecuteTime": {
     "end_time": "2019-03-23T12:47:18.853862Z",
     "start_time": "2019-03-23T12:47:18.827307Z"
    }
   },
   "outputs": [
    {
     "data": {
      "text/html": [
       "<div>\n",
       "<style scoped>\n",
       "    .dataframe tbody tr th:only-of-type {\n",
       "        vertical-align: middle;\n",
       "    }\n",
       "\n",
       "    .dataframe tbody tr th {\n",
       "        vertical-align: top;\n",
       "    }\n",
       "\n",
       "    .dataframe thead th {\n",
       "        text-align: right;\n",
       "    }\n",
       "</style>\n",
       "<table border=\"1\" class=\"dataframe\">\n",
       "  <thead>\n",
       "    <tr style=\"text-align: right;\">\n",
       "      <th></th>\n",
       "      <th>0</th>\n",
       "      <th>1</th>\n",
       "      <th>2</th>\n",
       "      <th>3</th>\n",
       "      <th>4</th>\n",
       "      <th>5</th>\n",
       "      <th>6</th>\n",
       "      <th>7</th>\n",
       "      <th>8</th>\n",
       "      <th>9</th>\n",
       "      <th>...</th>\n",
       "      <th>62</th>\n",
       "      <th>63</th>\n",
       "      <th>64</th>\n",
       "      <th>65</th>\n",
       "      <th>66</th>\n",
       "      <th>67</th>\n",
       "      <th>68</th>\n",
       "      <th>69</th>\n",
       "      <th>70</th>\n",
       "      <th>71</th>\n",
       "    </tr>\n",
       "  </thead>\n",
       "  <tbody>\n",
       "    <tr>\n",
       "      <th>PUPIL_SEX</th>\n",
       "      <td>F</td>\n",
       "      <td>F</td>\n",
       "      <td>F</td>\n",
       "      <td>M</td>\n",
       "      <td>M</td>\n",
       "      <td>M</td>\n",
       "      <td>F</td>\n",
       "      <td>F</td>\n",
       "      <td>F</td>\n",
       "      <td>F</td>\n",
       "      <td>...</td>\n",
       "      <td>F</td>\n",
       "      <td>F</td>\n",
       "      <td>F</td>\n",
       "      <td>F</td>\n",
       "      <td>F</td>\n",
       "      <td>F</td>\n",
       "      <td>F</td>\n",
       "      <td>F</td>\n",
       "      <td>F</td>\n",
       "      <td>F</td>\n",
       "    </tr>\n",
       "    <tr>\n",
       "      <th>PUPIL_CLASS</th>\n",
       "      <td>8A</td>\n",
       "      <td>8A</td>\n",
       "      <td>8A</td>\n",
       "      <td>8A</td>\n",
       "      <td>8A</td>\n",
       "      <td>8A</td>\n",
       "      <td>8A</td>\n",
       "      <td>8A</td>\n",
       "      <td>8A</td>\n",
       "      <td>8A</td>\n",
       "      <td>...</td>\n",
       "      <td>8A</td>\n",
       "      <td>8A</td>\n",
       "      <td>8A</td>\n",
       "      <td>8A</td>\n",
       "      <td>8A</td>\n",
       "      <td>8A</td>\n",
       "      <td>8A</td>\n",
       "      <td>8A</td>\n",
       "      <td>8A</td>\n",
       "      <td>8A</td>\n",
       "    </tr>\n",
       "    <tr>\n",
       "      <th>TEACHER_RIGHT</th>\n",
       "      <td>65</td>\n",
       "      <td>70</td>\n",
       "      <td>85</td>\n",
       "      <td>55</td>\n",
       "      <td>40</td>\n",
       "      <td>65</td>\n",
       "      <td>67</td>\n",
       "      <td>60</td>\n",
       "      <td>100</td>\n",
       "      <td>100</td>\n",
       "      <td>...</td>\n",
       "      <td>90</td>\n",
       "      <td>95</td>\n",
       "      <td>50</td>\n",
       "      <td>60</td>\n",
       "      <td>70</td>\n",
       "      <td>80</td>\n",
       "      <td>85</td>\n",
       "      <td>90</td>\n",
       "      <td>95</td>\n",
       "      <td>55</td>\n",
       "    </tr>\n",
       "    <tr>\n",
       "      <th>TEACHER_CHK</th>\n",
       "      <td>0</td>\n",
       "      <td>4</td>\n",
       "      <td>0</td>\n",
       "      <td>0</td>\n",
       "      <td>1</td>\n",
       "      <td>0</td>\n",
       "      <td>0</td>\n",
       "      <td>0</td>\n",
       "      <td>0</td>\n",
       "      <td>1</td>\n",
       "      <td>...</td>\n",
       "      <td>0</td>\n",
       "      <td>0</td>\n",
       "      <td>0</td>\n",
       "      <td>0</td>\n",
       "      <td>0</td>\n",
       "      <td>1</td>\n",
       "      <td>0</td>\n",
       "      <td>0</td>\n",
       "      <td>0</td>\n",
       "      <td>0</td>\n",
       "    </tr>\n",
       "    <tr>\n",
       "      <th>TEACHER_QUEST</th>\n",
       "      <td>4</td>\n",
       "      <td>0</td>\n",
       "      <td>0</td>\n",
       "      <td>0</td>\n",
       "      <td>2</td>\n",
       "      <td>3</td>\n",
       "      <td>0</td>\n",
       "      <td>2</td>\n",
       "      <td>0</td>\n",
       "      <td>0</td>\n",
       "      <td>...</td>\n",
       "      <td>0</td>\n",
       "      <td>1</td>\n",
       "      <td>2</td>\n",
       "      <td>0</td>\n",
       "      <td>0</td>\n",
       "      <td>0</td>\n",
       "      <td>0</td>\n",
       "      <td>0</td>\n",
       "      <td>0</td>\n",
       "      <td>0</td>\n",
       "    </tr>\n",
       "    <tr>\n",
       "      <th>TEACHER_CORR</th>\n",
       "      <td>2</td>\n",
       "      <td>4</td>\n",
       "      <td>4</td>\n",
       "      <td>1</td>\n",
       "      <td>0</td>\n",
       "      <td>4</td>\n",
       "      <td>1</td>\n",
       "      <td>0</td>\n",
       "      <td>2</td>\n",
       "      <td>2</td>\n",
       "      <td>...</td>\n",
       "      <td>0</td>\n",
       "      <td>2</td>\n",
       "      <td>6</td>\n",
       "      <td>4</td>\n",
       "      <td>2</td>\n",
       "      <td>2</td>\n",
       "      <td>1</td>\n",
       "      <td>0</td>\n",
       "      <td>3</td>\n",
       "      <td>0</td>\n",
       "    </tr>\n",
       "    <tr>\n",
       "      <th>PUPIL_CORR</th>\n",
       "      <td>1</td>\n",
       "      <td>0</td>\n",
       "      <td>3</td>\n",
       "      <td>8</td>\n",
       "      <td>3</td>\n",
       "      <td>4</td>\n",
       "      <td>3</td>\n",
       "      <td>5</td>\n",
       "      <td>0</td>\n",
       "      <td>3</td>\n",
       "      <td>...</td>\n",
       "      <td>1</td>\n",
       "      <td>1</td>\n",
       "      <td>0</td>\n",
       "      <td>5</td>\n",
       "      <td>1</td>\n",
       "      <td>1</td>\n",
       "      <td>2</td>\n",
       "      <td>1</td>\n",
       "      <td>1</td>\n",
       "      <td>3</td>\n",
       "    </tr>\n",
       "    <tr>\n",
       "      <th>PUPIL_STRIP</th>\n",
       "      <td>6</td>\n",
       "      <td>4</td>\n",
       "      <td>5</td>\n",
       "      <td>3</td>\n",
       "      <td>4</td>\n",
       "      <td>8</td>\n",
       "      <td>3</td>\n",
       "      <td>9</td>\n",
       "      <td>2</td>\n",
       "      <td>1</td>\n",
       "      <td>...</td>\n",
       "      <td>0</td>\n",
       "      <td>0</td>\n",
       "      <td>5</td>\n",
       "      <td>0</td>\n",
       "      <td>4</td>\n",
       "      <td>7</td>\n",
       "      <td>2</td>\n",
       "      <td>1</td>\n",
       "      <td>2</td>\n",
       "      <td>3</td>\n",
       "    </tr>\n",
       "    <tr>\n",
       "      <th>FINALMARK</th>\n",
       "      <td>4-</td>\n",
       "      <td>3</td>\n",
       "      <td>4</td>\n",
       "      <td>3</td>\n",
       "      <td>2</td>\n",
       "      <td>4-</td>\n",
       "      <td>4-</td>\n",
       "      <td>3</td>\n",
       "      <td>5-</td>\n",
       "      <td>4</td>\n",
       "      <td>...</td>\n",
       "      <td>4</td>\n",
       "      <td>5-</td>\n",
       "      <td>3</td>\n",
       "      <td>3</td>\n",
       "      <td>4-</td>\n",
       "      <td>4-</td>\n",
       "      <td>4</td>\n",
       "      <td>4</td>\n",
       "      <td>5-</td>\n",
       "      <td>3</td>\n",
       "    </tr>\n",
       "  </tbody>\n",
       "</table>\n",
       "<p>9 rows × 72 columns</p>\n",
       "</div>"
      ],
      "text/plain": [
       "               0   1   2   3   4   5   6   7    8    9   ...  62  63  64  65  \\\n",
       "PUPIL_SEX       F   F   F   M   M   M   F   F    F    F  ...   F   F   F   F   \n",
       "PUPIL_CLASS    8A  8A  8A  8A  8A  8A  8A  8A   8A   8A  ...  8A  8A  8A  8A   \n",
       "TEACHER_RIGHT  65  70  85  55  40  65  67  60  100  100  ...  90  95  50  60   \n",
       "TEACHER_CHK     0   4   0   0   1   0   0   0    0    1  ...   0   0   0   0   \n",
       "TEACHER_QUEST   4   0   0   0   2   3   0   2    0    0  ...   0   1   2   0   \n",
       "TEACHER_CORR    2   4   4   1   0   4   1   0    2    2  ...   0   2   6   4   \n",
       "PUPIL_CORR      1   0   3   8   3   4   3   5    0    3  ...   1   1   0   5   \n",
       "PUPIL_STRIP     6   4   5   3   4   8   3   9    2    1  ...   0   0   5   0   \n",
       "FINALMARK      4-   3   4   3   2  4-  4-   3   5-    4  ...   4  5-   3   3   \n",
       "\n",
       "               66  67  68  69  70  71  \n",
       "PUPIL_SEX       F   F   F   F   F   F  \n",
       "PUPIL_CLASS    8A  8A  8A  8A  8A  8A  \n",
       "TEACHER_RIGHT  70  80  85  90  95  55  \n",
       "TEACHER_CHK     0   1   0   0   0   0  \n",
       "TEACHER_QUEST   0   0   0   0   0   0  \n",
       "TEACHER_CORR    2   2   1   0   3   0  \n",
       "PUPIL_CORR      1   1   2   1   1   3  \n",
       "PUPIL_STRIP     4   7   2   1   2   3  \n",
       "FINALMARK      4-  4-   4   4  5-   3  \n",
       "\n",
       "[9 rows x 72 columns]"
      ]
     },
     "execution_count": 107,
     "metadata": {},
     "output_type": "execute_result"
    }
   ],
   "source": [
    "marks_data.T"
   ]
  },
  {
   "cell_type": "code",
   "execution_count": 117,
   "metadata": {
    "ExecuteTime": {
     "end_time": "2019-03-23T12:48:16.392812Z",
     "start_time": "2019-03-23T12:48:16.388085Z"
    }
   },
   "outputs": [],
   "source": [
    "marks_train, marks_test = marks_data.drop(['FINALMARK'], axis=1), marks_data['FINALMARK']"
   ]
  },
  {
   "cell_type": "code",
   "execution_count": 118,
   "metadata": {
    "ExecuteTime": {
     "end_time": "2019-03-23T12:48:16.550742Z",
     "start_time": "2019-03-23T12:48:16.547265Z"
    }
   },
   "outputs": [],
   "source": [
    "CAT_FEATURES = ['PUPIL_SEX', 'PUPIL_CLASS']"
   ]
  },
  {
   "cell_type": "code",
   "execution_count": 119,
   "metadata": {
    "ExecuteTime": {
     "end_time": "2019-03-23T12:48:16.713902Z",
     "start_time": "2019-03-23T12:48:16.709164Z"
    }
   },
   "outputs": [],
   "source": [
    "num_features = marks_train.drop(CAT_FEATURES, axis=1)"
   ]
  },
  {
   "cell_type": "code",
   "execution_count": 120,
   "metadata": {
    "ExecuteTime": {
     "end_time": "2019-03-23T12:48:16.873769Z",
     "start_time": "2019-03-23T12:48:16.868139Z"
    }
   },
   "outputs": [
    {
     "data": {
      "text/plain": [
       "['TEACHER_RIGHT',\n",
       " 'TEACHER_CHK',\n",
       " 'TEACHER_QUEST',\n",
       " 'TEACHER_CORR',\n",
       " 'PUPIL_CORR',\n",
       " 'PUPIL_STRIP']"
      ]
     },
     "execution_count": 120,
     "metadata": {},
     "output_type": "execute_result"
    }
   ],
   "source": [
    "FEATURES = list(num_features.columns.values)\n",
    "FEATURES"
   ]
  },
  {
   "cell_type": "code",
   "execution_count": 121,
   "metadata": {
    "ExecuteTime": {
     "end_time": "2019-03-23T12:48:17.028561Z",
     "start_time": "2019-03-23T12:48:17.025383Z"
    }
   },
   "outputs": [],
   "source": [
    "marks_encoder = OneHotEncoder(handle_unknown='ignore')"
   ]
  },
  {
   "cell_type": "code",
   "execution_count": 122,
   "metadata": {
    "ExecuteTime": {
     "end_time": "2019-03-23T12:48:17.822792Z",
     "start_time": "2019-03-23T12:48:17.813848Z"
    },
    "scrolled": true
   },
   "outputs": [],
   "source": [
    "cat_features = marks_encoder.fit_transform(marks_train[CAT_FEATURES])"
   ]
  },
  {
   "cell_type": "code",
   "execution_count": 125,
   "metadata": {
    "ExecuteTime": {
     "end_time": "2019-03-23T12:48:30.280809Z",
     "start_time": "2019-03-23T12:48:30.262929Z"
    }
   },
   "outputs": [
    {
     "data": {
      "text/html": [
       "<div>\n",
       "<style scoped>\n",
       "    .dataframe tbody tr th:only-of-type {\n",
       "        vertical-align: middle;\n",
       "    }\n",
       "\n",
       "    .dataframe tbody tr th {\n",
       "        vertical-align: top;\n",
       "    }\n",
       "\n",
       "    .dataframe thead th {\n",
       "        text-align: right;\n",
       "    }\n",
       "</style>\n",
       "<table border=\"1\" class=\"dataframe\">\n",
       "  <thead>\n",
       "    <tr style=\"text-align: right;\">\n",
       "      <th></th>\n",
       "      <th>0</th>\n",
       "      <th>1</th>\n",
       "      <th>2</th>\n",
       "      <th>3</th>\n",
       "      <th>4</th>\n",
       "      <th>5</th>\n",
       "      <th>6</th>\n",
       "      <th>7</th>\n",
       "      <th>8</th>\n",
       "      <th>9</th>\n",
       "      <th>...</th>\n",
       "      <th>62</th>\n",
       "      <th>63</th>\n",
       "      <th>64</th>\n",
       "      <th>65</th>\n",
       "      <th>66</th>\n",
       "      <th>67</th>\n",
       "      <th>68</th>\n",
       "      <th>69</th>\n",
       "      <th>70</th>\n",
       "      <th>71</th>\n",
       "    </tr>\n",
       "  </thead>\n",
       "  <tbody>\n",
       "    <tr>\n",
       "      <th>TEACHER_RIGHT</th>\n",
       "      <td>65</td>\n",
       "      <td>70</td>\n",
       "      <td>85</td>\n",
       "      <td>55</td>\n",
       "      <td>40</td>\n",
       "      <td>65</td>\n",
       "      <td>67</td>\n",
       "      <td>60</td>\n",
       "      <td>100</td>\n",
       "      <td>100</td>\n",
       "      <td>...</td>\n",
       "      <td>90</td>\n",
       "      <td>95</td>\n",
       "      <td>50</td>\n",
       "      <td>60</td>\n",
       "      <td>70</td>\n",
       "      <td>80</td>\n",
       "      <td>85</td>\n",
       "      <td>90</td>\n",
       "      <td>95</td>\n",
       "      <td>55</td>\n",
       "    </tr>\n",
       "    <tr>\n",
       "      <th>TEACHER_CHK</th>\n",
       "      <td>0</td>\n",
       "      <td>4</td>\n",
       "      <td>0</td>\n",
       "      <td>0</td>\n",
       "      <td>1</td>\n",
       "      <td>0</td>\n",
       "      <td>0</td>\n",
       "      <td>0</td>\n",
       "      <td>0</td>\n",
       "      <td>1</td>\n",
       "      <td>...</td>\n",
       "      <td>0</td>\n",
       "      <td>0</td>\n",
       "      <td>0</td>\n",
       "      <td>0</td>\n",
       "      <td>0</td>\n",
       "      <td>1</td>\n",
       "      <td>0</td>\n",
       "      <td>0</td>\n",
       "      <td>0</td>\n",
       "      <td>0</td>\n",
       "    </tr>\n",
       "    <tr>\n",
       "      <th>TEACHER_QUEST</th>\n",
       "      <td>4</td>\n",
       "      <td>0</td>\n",
       "      <td>0</td>\n",
       "      <td>0</td>\n",
       "      <td>2</td>\n",
       "      <td>3</td>\n",
       "      <td>0</td>\n",
       "      <td>2</td>\n",
       "      <td>0</td>\n",
       "      <td>0</td>\n",
       "      <td>...</td>\n",
       "      <td>0</td>\n",
       "      <td>1</td>\n",
       "      <td>2</td>\n",
       "      <td>0</td>\n",
       "      <td>0</td>\n",
       "      <td>0</td>\n",
       "      <td>0</td>\n",
       "      <td>0</td>\n",
       "      <td>0</td>\n",
       "      <td>0</td>\n",
       "    </tr>\n",
       "    <tr>\n",
       "      <th>TEACHER_CORR</th>\n",
       "      <td>2</td>\n",
       "      <td>4</td>\n",
       "      <td>4</td>\n",
       "      <td>1</td>\n",
       "      <td>0</td>\n",
       "      <td>4</td>\n",
       "      <td>1</td>\n",
       "      <td>0</td>\n",
       "      <td>2</td>\n",
       "      <td>2</td>\n",
       "      <td>...</td>\n",
       "      <td>0</td>\n",
       "      <td>2</td>\n",
       "      <td>6</td>\n",
       "      <td>4</td>\n",
       "      <td>2</td>\n",
       "      <td>2</td>\n",
       "      <td>1</td>\n",
       "      <td>0</td>\n",
       "      <td>3</td>\n",
       "      <td>0</td>\n",
       "    </tr>\n",
       "    <tr>\n",
       "      <th>PUPIL_CORR</th>\n",
       "      <td>1</td>\n",
       "      <td>0</td>\n",
       "      <td>3</td>\n",
       "      <td>8</td>\n",
       "      <td>3</td>\n",
       "      <td>4</td>\n",
       "      <td>3</td>\n",
       "      <td>5</td>\n",
       "      <td>0</td>\n",
       "      <td>3</td>\n",
       "      <td>...</td>\n",
       "      <td>1</td>\n",
       "      <td>1</td>\n",
       "      <td>0</td>\n",
       "      <td>5</td>\n",
       "      <td>1</td>\n",
       "      <td>1</td>\n",
       "      <td>2</td>\n",
       "      <td>1</td>\n",
       "      <td>1</td>\n",
       "      <td>3</td>\n",
       "    </tr>\n",
       "    <tr>\n",
       "      <th>PUPIL_STRIP</th>\n",
       "      <td>6</td>\n",
       "      <td>4</td>\n",
       "      <td>5</td>\n",
       "      <td>3</td>\n",
       "      <td>4</td>\n",
       "      <td>8</td>\n",
       "      <td>3</td>\n",
       "      <td>9</td>\n",
       "      <td>2</td>\n",
       "      <td>1</td>\n",
       "      <td>...</td>\n",
       "      <td>0</td>\n",
       "      <td>0</td>\n",
       "      <td>5</td>\n",
       "      <td>0</td>\n",
       "      <td>4</td>\n",
       "      <td>7</td>\n",
       "      <td>2</td>\n",
       "      <td>1</td>\n",
       "      <td>2</td>\n",
       "      <td>3</td>\n",
       "    </tr>\n",
       "  </tbody>\n",
       "</table>\n",
       "<p>6 rows × 72 columns</p>\n",
       "</div>"
      ],
      "text/plain": [
       "               0   1   2   3   4   5   6   7    8    9   ...  62  63  64  65  \\\n",
       "TEACHER_RIGHT  65  70  85  55  40  65  67  60  100  100  ...  90  95  50  60   \n",
       "TEACHER_CHK     0   4   0   0   1   0   0   0    0    1  ...   0   0   0   0   \n",
       "TEACHER_QUEST   4   0   0   0   2   3   0   2    0    0  ...   0   1   2   0   \n",
       "TEACHER_CORR    2   4   4   1   0   4   1   0    2    2  ...   0   2   6   4   \n",
       "PUPIL_CORR      1   0   3   8   3   4   3   5    0    3  ...   1   1   0   5   \n",
       "PUPIL_STRIP     6   4   5   3   4   8   3   9    2    1  ...   0   0   5   0   \n",
       "\n",
       "               66  67  68  69  70  71  \n",
       "TEACHER_RIGHT  70  80  85  90  95  55  \n",
       "TEACHER_CHK     0   1   0   0   0   0  \n",
       "TEACHER_QUEST   0   0   0   0   0   0  \n",
       "TEACHER_CORR    2   2   1   0   3   0  \n",
       "PUPIL_CORR      1   1   2   1   1   3  \n",
       "PUPIL_STRIP     4   7   2   1   2   3  \n",
       "\n",
       "[6 rows x 72 columns]"
      ]
     },
     "execution_count": 125,
     "metadata": {},
     "output_type": "execute_result"
    }
   ],
   "source": [
    "num_features.T"
   ]
  },
  {
   "cell_type": "code",
   "execution_count": 128,
   "metadata": {
    "ExecuteTime": {
     "end_time": "2019-03-23T12:50:37.373054Z",
     "start_time": "2019-03-23T12:50:37.360532Z"
    }
   },
   "outputs": [
    {
     "ename": "AttributeError",
     "evalue": "'numpy.ndarray' object has no attribute 'toarray'",
     "output_type": "error",
     "traceback": [
      "\u001b[0;31m---------------------------------------------------------------------------\u001b[0m",
      "\u001b[0;31mAttributeError\u001b[0m                            Traceback (most recent call last)",
      "\u001b[0;32m<ipython-input-128-c3ec0ee34a03>\u001b[0m in \u001b[0;36m<module>\u001b[0;34m\u001b[0m\n\u001b[0;32m----> 1\u001b[0;31m \u001b[0mcat_features\u001b[0m \u001b[0;34m=\u001b[0m \u001b[0mcat_features\u001b[0m\u001b[0;34m.\u001b[0m\u001b[0mtoarray\u001b[0m\u001b[0;34m(\u001b[0m\u001b[0;34m)\u001b[0m\u001b[0;34m\u001b[0m\u001b[0m\n\u001b[0m\u001b[1;32m      2\u001b[0m \u001b[0mcat_features\u001b[0m\u001b[0;34m\u001b[0m\u001b[0m\n",
      "\u001b[0;31mAttributeError\u001b[0m: 'numpy.ndarray' object has no attribute 'toarray'"
     ]
    }
   ],
   "source": [
    "cat_features = cat_features.toarray()"
   ]
  },
  {
   "cell_type": "code",
   "execution_count": 131,
   "metadata": {
    "ExecuteTime": {
     "end_time": "2019-03-23T12:52:41.749300Z",
     "start_time": "2019-03-23T12:52:41.745670Z"
    }
   },
   "outputs": [],
   "source": [
    "one_hot_features = {name: features for name, features in zip(marks_encoder.get_feature_names(), cat_features.T)}"
   ]
  },
  {
   "cell_type": "code",
   "execution_count": 133,
   "metadata": {
    "ExecuteTime": {
     "end_time": "2019-03-23T12:54:21.574066Z",
     "start_time": "2019-03-23T12:54:21.562962Z"
    }
   },
   "outputs": [
    {
     "data": {
      "text/html": [
       "<div>\n",
       "<style scoped>\n",
       "    .dataframe tbody tr th:only-of-type {\n",
       "        vertical-align: middle;\n",
       "    }\n",
       "\n",
       "    .dataframe tbody tr th {\n",
       "        vertical-align: top;\n",
       "    }\n",
       "\n",
       "    .dataframe thead th {\n",
       "        text-align: right;\n",
       "    }\n",
       "</style>\n",
       "<table border=\"1\" class=\"dataframe\">\n",
       "  <thead>\n",
       "    <tr style=\"text-align: right;\">\n",
       "      <th></th>\n",
       "      <th>x0_F</th>\n",
       "      <th>x0_M</th>\n",
       "      <th>x1_8A</th>\n",
       "      <th>x1_8B</th>\n",
       "    </tr>\n",
       "  </thead>\n",
       "  <tbody>\n",
       "    <tr>\n",
       "      <th>0</th>\n",
       "      <td>1.0</td>\n",
       "      <td>0.0</td>\n",
       "      <td>1.0</td>\n",
       "      <td>0.0</td>\n",
       "    </tr>\n",
       "    <tr>\n",
       "      <th>1</th>\n",
       "      <td>1.0</td>\n",
       "      <td>0.0</td>\n",
       "      <td>1.0</td>\n",
       "      <td>0.0</td>\n",
       "    </tr>\n",
       "    <tr>\n",
       "      <th>2</th>\n",
       "      <td>1.0</td>\n",
       "      <td>0.0</td>\n",
       "      <td>1.0</td>\n",
       "      <td>0.0</td>\n",
       "    </tr>\n",
       "    <tr>\n",
       "      <th>3</th>\n",
       "      <td>0.0</td>\n",
       "      <td>1.0</td>\n",
       "      <td>1.0</td>\n",
       "      <td>0.0</td>\n",
       "    </tr>\n",
       "    <tr>\n",
       "      <th>4</th>\n",
       "      <td>0.0</td>\n",
       "      <td>1.0</td>\n",
       "      <td>1.0</td>\n",
       "      <td>0.0</td>\n",
       "    </tr>\n",
       "  </tbody>\n",
       "</table>\n",
       "</div>"
      ],
      "text/plain": [
       "   x0_F  x0_M  x1_8A  x1_8B\n",
       "0   1.0   0.0    1.0    0.0\n",
       "1   1.0   0.0    1.0    0.0\n",
       "2   1.0   0.0    1.0    0.0\n",
       "3   0.0   1.0    1.0    0.0\n",
       "4   0.0   1.0    1.0    0.0"
      ]
     },
     "execution_count": 133,
     "metadata": {},
     "output_type": "execute_result"
    }
   ],
   "source": [
    "one_hot_data = pd.DataFrame(one_hot_features)\n",
    "one_hot_data.head()"
   ]
  },
  {
   "cell_type": "code",
   "execution_count": 138,
   "metadata": {
    "ExecuteTime": {
     "end_time": "2019-03-23T12:55:19.870407Z",
     "start_time": "2019-03-23T12:55:19.855308Z"
    }
   },
   "outputs": [
    {
     "data": {
      "text/html": [
       "<div>\n",
       "<style scoped>\n",
       "    .dataframe tbody tr th:only-of-type {\n",
       "        vertical-align: middle;\n",
       "    }\n",
       "\n",
       "    .dataframe tbody tr th {\n",
       "        vertical-align: top;\n",
       "    }\n",
       "\n",
       "    .dataframe thead th {\n",
       "        text-align: right;\n",
       "    }\n",
       "</style>\n",
       "<table border=\"1\" class=\"dataframe\">\n",
       "  <thead>\n",
       "    <tr style=\"text-align: right;\">\n",
       "      <th></th>\n",
       "      <th>TEACHER_RIGHT</th>\n",
       "      <th>TEACHER_CHK</th>\n",
       "      <th>TEACHER_QUEST</th>\n",
       "      <th>TEACHER_CORR</th>\n",
       "      <th>PUPIL_CORR</th>\n",
       "      <th>PUPIL_STRIP</th>\n",
       "      <th>x0_F</th>\n",
       "      <th>x0_M</th>\n",
       "      <th>x1_8A</th>\n",
       "      <th>x1_8B</th>\n",
       "    </tr>\n",
       "  </thead>\n",
       "  <tbody>\n",
       "    <tr>\n",
       "      <th>0</th>\n",
       "      <td>65</td>\n",
       "      <td>0</td>\n",
       "      <td>4</td>\n",
       "      <td>2</td>\n",
       "      <td>1</td>\n",
       "      <td>6</td>\n",
       "      <td>1.0</td>\n",
       "      <td>0.0</td>\n",
       "      <td>1.0</td>\n",
       "      <td>0.0</td>\n",
       "    </tr>\n",
       "    <tr>\n",
       "      <th>1</th>\n",
       "      <td>70</td>\n",
       "      <td>4</td>\n",
       "      <td>0</td>\n",
       "      <td>4</td>\n",
       "      <td>0</td>\n",
       "      <td>4</td>\n",
       "      <td>1.0</td>\n",
       "      <td>0.0</td>\n",
       "      <td>1.0</td>\n",
       "      <td>0.0</td>\n",
       "    </tr>\n",
       "    <tr>\n",
       "      <th>2</th>\n",
       "      <td>85</td>\n",
       "      <td>0</td>\n",
       "      <td>0</td>\n",
       "      <td>4</td>\n",
       "      <td>3</td>\n",
       "      <td>5</td>\n",
       "      <td>1.0</td>\n",
       "      <td>0.0</td>\n",
       "      <td>1.0</td>\n",
       "      <td>0.0</td>\n",
       "    </tr>\n",
       "    <tr>\n",
       "      <th>3</th>\n",
       "      <td>55</td>\n",
       "      <td>0</td>\n",
       "      <td>0</td>\n",
       "      <td>1</td>\n",
       "      <td>8</td>\n",
       "      <td>3</td>\n",
       "      <td>0.0</td>\n",
       "      <td>1.0</td>\n",
       "      <td>1.0</td>\n",
       "      <td>0.0</td>\n",
       "    </tr>\n",
       "    <tr>\n",
       "      <th>4</th>\n",
       "      <td>40</td>\n",
       "      <td>1</td>\n",
       "      <td>2</td>\n",
       "      <td>0</td>\n",
       "      <td>3</td>\n",
       "      <td>4</td>\n",
       "      <td>0.0</td>\n",
       "      <td>1.0</td>\n",
       "      <td>1.0</td>\n",
       "      <td>0.0</td>\n",
       "    </tr>\n",
       "  </tbody>\n",
       "</table>\n",
       "</div>"
      ],
      "text/plain": [
       "   TEACHER_RIGHT  TEACHER_CHK  TEACHER_QUEST  TEACHER_CORR  PUPIL_CORR  \\\n",
       "0             65            0              4             2           1   \n",
       "1             70            4              0             4           0   \n",
       "2             85            0              0             4           3   \n",
       "3             55            0              0             1           8   \n",
       "4             40            1              2             0           3   \n",
       "\n",
       "   PUPIL_STRIP  x0_F  x0_M  x1_8A  x1_8B  \n",
       "0            6   1.0   0.0    1.0    0.0  \n",
       "1            4   1.0   0.0    1.0    0.0  \n",
       "2            5   1.0   0.0    1.0    0.0  \n",
       "3            3   0.0   1.0    1.0    0.0  \n",
       "4            4   0.0   1.0    1.0    0.0  "
      ]
     },
     "execution_count": 138,
     "metadata": {},
     "output_type": "execute_result"
    }
   ],
   "source": [
    "mark_features = pd.concat([num_features, one_hot_data], axis=1, sort=False)\n",
    "mark_features.head()"
   ]
  },
  {
   "cell_type": "code",
   "execution_count": 139,
   "metadata": {
    "ExecuteTime": {
     "end_time": "2019-03-23T12:56:05.754960Z",
     "start_time": "2019-03-23T12:56:05.751570Z"
    }
   },
   "outputs": [],
   "source": [
    "feature_names = list(mark_features.columns.values)"
   ]
  },
  {
   "cell_type": "markdown",
   "metadata": {},
   "source": [
    "**Разные варианты глубины**"
   ]
  },
  {
   "cell_type": "code",
   "execution_count": 188,
   "metadata": {
    "ExecuteTime": {
     "end_time": "2019-03-23T13:07:15.728392Z",
     "start_time": "2019-03-23T13:07:15.725098Z"
    }
   },
   "outputs": [],
   "source": [
    "clf_marks_tree = DecisionTreeClassifier(\n",
    "    criterion='entropy', \n",
    "#     max_depth=3, \n",
    "    random_state=17,\n",
    ")"
   ]
  },
  {
   "cell_type": "code",
   "execution_count": 189,
   "metadata": {
    "ExecuteTime": {
     "end_time": "2019-03-23T13:07:15.897656Z",
     "start_time": "2019-03-23T13:07:15.889179Z"
    },
    "scrolled": true
   },
   "outputs": [
    {
     "data": {
      "text/plain": [
       "DecisionTreeClassifier(class_weight=None, criterion='entropy', max_depth=None,\n",
       "            max_features=None, max_leaf_nodes=None,\n",
       "            min_impurity_decrease=0.0, min_impurity_split=None,\n",
       "            min_samples_leaf=1, min_samples_split=2,\n",
       "            min_weight_fraction_leaf=0.0, presort=False, random_state=17,\n",
       "            splitter='best')"
      ]
     },
     "execution_count": 189,
     "metadata": {},
     "output_type": "execute_result"
    }
   ],
   "source": [
    "clf_marks_tree.fit(mark_features, marks_test)"
   ]
  },
  {
   "cell_type": "code",
   "execution_count": 190,
   "metadata": {
    "ExecuteTime": {
     "end_time": "2019-03-23T13:07:16.043566Z",
     "start_time": "2019-03-23T13:07:16.039135Z"
    }
   },
   "outputs": [],
   "source": [
    "def tree_graph_to_png(tree, feature_names, png_file_to_save, class_names=None):\n",
    "    tree_str = export_graphviz(tree, feature_names=feature_names, \n",
    "                                       class_names=class_names,\n",
    "                                     filled=True, out_file=None)\n",
    "    graph = pydotplus.graph_from_dot_data(tree_str)  \n",
    "    graph.write_png(png_file_to_save)"
   ]
  },
  {
   "cell_type": "code",
   "execution_count": 191,
   "metadata": {
    "ExecuteTime": {
     "end_time": "2019-03-23T13:07:16.193586Z",
     "start_time": "2019-03-23T13:07:16.190502Z"
    }
   },
   "outputs": [],
   "source": [
    "marks_image = os.path.join(IMAGES_DIR, 'marks.png')"
   ]
  },
  {
   "cell_type": "code",
   "execution_count": 192,
   "metadata": {
    "ExecuteTime": {
     "end_time": "2019-03-23T13:07:16.758110Z",
     "start_time": "2019-03-23T13:07:16.339043Z"
    }
   },
   "outputs": [],
   "source": [
    "tree_graph_to_png(tree=clf_marks_tree, \n",
    "                  feature_names=feature_names, \n",
    "                  class_names=clf_marks_tree.classes_, \n",
    "                  png_file_to_save=marks_image)"
   ]
  },
  {
   "cell_type": "code",
   "execution_count": 193,
   "metadata": {
    "ExecuteTime": {
     "end_time": "2019-03-23T13:07:16.767831Z",
     "start_time": "2019-03-23T13:07:16.761721Z"
    }
   },
   "outputs": [
    {
     "data": {
      "text/plain": [
       "'images/marks.png'"
      ]
     },
     "execution_count": 193,
     "metadata": {},
     "output_type": "execute_result"
    }
   ],
   "source": [
    "marks_image"
   ]
  },
  {
   "cell_type": "markdown",
   "metadata": {},
   "source": [
    "![](images/marks.png)"
   ]
  },
  {
   "cell_type": "code",
   "execution_count": null,
   "metadata": {},
   "outputs": [],
   "source": []
  },
  {
   "cell_type": "code",
   "execution_count": null,
   "metadata": {},
   "outputs": [],
   "source": []
  }
 ],
 "metadata": {
  "kernelspec": {
   "display_name": "Python 3",
   "language": "python",
   "name": "python3"
  },
  "language_info": {
   "codemirror_mode": {
    "name": "ipython",
    "version": 3
   },
   "file_extension": ".py",
   "mimetype": "text/x-python",
   "name": "python",
   "nbconvert_exporter": "python",
   "pygments_lexer": "ipython3",
   "version": "3.6.5"
  }
 },
 "nbformat": 4,
 "nbformat_minor": 2
}
