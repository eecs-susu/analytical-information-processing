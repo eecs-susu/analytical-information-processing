{
 "cells": [
  {
   "cell_type": "code",
   "execution_count": 21,
   "metadata": {
    "ExecuteTime": {
     "end_time": "2019-03-10T19:50:36.464632Z",
     "start_time": "2019-03-10T19:50:36.460339Z"
    }
   },
   "outputs": [],
   "source": [
    "from io import BytesIO\n",
    "\n",
    "import os\n",
    "import shutil\n",
    "import zipfile\n",
    "\n",
    "import requests"
   ]
  },
  {
   "cell_type": "code",
   "execution_count": 7,
   "metadata": {
    "ExecuteTime": {
     "end_time": "2019-03-10T19:43:47.578221Z",
     "start_time": "2019-03-10T19:43:47.573186Z"
    }
   },
   "outputs": [],
   "source": [
    "ACCDB_PATH = '../data/Branch_1.accdb'"
   ]
  },
  {
   "cell_type": "code",
   "execution_count": 8,
   "metadata": {
    "ExecuteTime": {
     "end_time": "2019-03-10T19:43:48.324857Z",
     "start_time": "2019-03-10T19:43:48.321072Z"
    }
   },
   "outputs": [],
   "source": [
    "INSTANCE_DIR = 'instance/accdb'"
   ]
  },
  {
   "cell_type": "code",
   "execution_count": 12,
   "metadata": {
    "ExecuteTime": {
     "end_time": "2019-03-10T19:45:13.020071Z",
     "start_time": "2019-03-10T19:45:13.017230Z"
    }
   },
   "outputs": [],
   "source": [
    "CONVERTER_URL = 'https://www.rebasedata.com/api/v1/convert?outputFormat=xlsx&errorResponse=json'"
   ]
  },
  {
   "cell_type": "markdown",
   "metadata": {
    "ExecuteTime": {
     "end_time": "2019-03-10T19:44:30.927408Z",
     "start_time": "2019-03-10T19:44:30.924032Z"
    }
   },
   "source": [
    "### Convert ACCDB to XLSX"
   ]
  },
  {
   "cell_type": "code",
   "execution_count": 10,
   "metadata": {
    "ExecuteTime": {
     "end_time": "2019-03-10T19:44:14.694817Z",
     "start_time": "2019-03-10T19:44:14.691704Z"
    }
   },
   "outputs": [],
   "source": [
    "files = {'files[]': open(ACCDB_PATH, 'rb')}"
   ]
  },
  {
   "cell_type": "code",
   "execution_count": 13,
   "metadata": {
    "ExecuteTime": {
     "end_time": "2019-03-10T19:45:57.639770Z",
     "start_time": "2019-03-10T19:45:38.131568Z"
    }
   },
   "outputs": [],
   "source": [
    "response = requests.post(CONVERTER_URL, files=files)"
   ]
  },
  {
   "cell_type": "code",
   "execution_count": 22,
   "metadata": {
    "ExecuteTime": {
     "end_time": "2019-03-10T19:50:52.812097Z",
     "start_time": "2019-03-10T19:50:52.801865Z"
    }
   },
   "outputs": [],
   "source": [
    "content = zipfile.ZipFile(BytesIO(response.content))"
   ]
  },
  {
   "cell_type": "code",
   "execution_count": 30,
   "metadata": {
    "ExecuteTime": {
     "end_time": "2019-03-10T19:55:17.461283Z",
     "start_time": "2019-03-10T19:55:17.456118Z"
    }
   },
   "outputs": [],
   "source": [
    "shutil.rmtree(INSTANCE_DIR)"
   ]
  },
  {
   "cell_type": "code",
   "execution_count": 31,
   "metadata": {
    "ExecuteTime": {
     "end_time": "2019-03-10T19:55:18.147129Z",
     "start_time": "2019-03-10T19:55:18.137422Z"
    }
   },
   "outputs": [],
   "source": [
    "extracted_paths = [\n",
    "    content.extract('P.xlsx', INSTANCE_DIR),\n",
    "    content.extract('S.xlsx', INSTANCE_DIR),\n",
    "    content.extract('SP.xlsx', INSTANCE_DIR),\n",
    "]"
   ]
  },
  {
   "cell_type": "code",
   "execution_count": 33,
   "metadata": {
    "ExecuteTime": {
     "end_time": "2019-03-10T19:56:00.600157Z",
     "start_time": "2019-03-10T19:56:00.594674Z"
    }
   },
   "outputs": [
    {
     "data": {
      "text/plain": [
       "['instance/accdb/P.xlsx', 'instance/accdb/S.xlsx', 'instance/accdb/SP.xlsx']"
      ]
     },
     "execution_count": 33,
     "metadata": {},
     "output_type": "execute_result"
    }
   ],
   "source": [
    "extracted_paths"
   ]
  }
 ],
 "metadata": {
  "kernelspec": {
   "display_name": "Python 3",
   "language": "python",
   "name": "python3"
  },
  "language_info": {
   "codemirror_mode": {
    "name": "ipython",
    "version": 3
   },
   "file_extension": ".py",
   "mimetype": "text/x-python",
   "name": "python",
   "nbconvert_exporter": "python",
   "pygments_lexer": "ipython3",
   "version": "3.6.5"
  }
 },
 "nbformat": 4,
 "nbformat_minor": 2
}
