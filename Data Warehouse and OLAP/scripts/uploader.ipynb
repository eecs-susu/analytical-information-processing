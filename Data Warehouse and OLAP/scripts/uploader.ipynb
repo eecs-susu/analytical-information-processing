{
 "cells": [
  {
   "cell_type": "code",
   "execution_count": 194,
   "metadata": {
    "ExecuteTime": {
     "end_time": "2019-03-10T22:04:21.479253Z",
     "start_time": "2019-03-10T22:04:21.453205Z"
    }
   },
   "outputs": [],
   "source": [
    "from datetime import datetime\n",
    "\n",
    "import json\n",
    "import os\n",
    "\n",
    "import psycopg2\n",
    "import pandas as pd\n",
    "\n",
    "from tqdm import tqdm"
   ]
  },
  {
   "cell_type": "code",
   "execution_count": 126,
   "metadata": {
    "ExecuteTime": {
     "end_time": "2019-03-10T21:14:21.675041Z",
     "start_time": "2019-03-10T21:14:21.672094Z"
    }
   },
   "outputs": [],
   "source": [
    "INSTANCE_DIR = 'instance'"
   ]
  },
  {
   "cell_type": "code",
   "execution_count": 127,
   "metadata": {
    "ExecuteTime": {
     "end_time": "2019-03-10T21:14:21.838132Z",
     "start_time": "2019-03-10T21:14:21.828818Z"
    }
   },
   "outputs": [
    {
     "data": {
      "text/plain": [
       "dict_keys(['host', 'user', 'database', 'password'])"
      ]
     },
     "execution_count": 127,
     "metadata": {},
     "output_type": "execute_result"
    }
   ],
   "source": [
    "with open(os.path.join(INSTANCE_DIR, 'settings.json'), 'r') as f:\n",
    "    settings = json.load(f)\n",
    "settings.keys()"
   ]
  },
  {
   "cell_type": "code",
   "execution_count": 128,
   "metadata": {
    "ExecuteTime": {
     "end_time": "2019-03-10T21:14:21.989595Z",
     "start_time": "2019-03-10T21:14:21.984841Z"
    }
   },
   "outputs": [],
   "source": [
    "DATA_DIR = os.path.join(INSTANCE_DIR, 'xlsx')"
   ]
  },
  {
   "cell_type": "code",
   "execution_count": 129,
   "metadata": {
    "ExecuteTime": {
     "end_time": "2019-03-10T21:14:22.143171Z",
     "start_time": "2019-03-10T21:14:22.139621Z"
    }
   },
   "outputs": [],
   "source": [
    "FILE_NAMES = {\n",
    "    'providers':'s', \n",
    "    'details': 'p', \n",
    "    'supplies': 'sp',\n",
    "}"
   ]
  },
  {
   "cell_type": "code",
   "execution_count": 130,
   "metadata": {
    "ExecuteTime": {
     "end_time": "2019-03-10T21:14:22.308558Z",
     "start_time": "2019-03-10T21:14:22.303249Z"
    }
   },
   "outputs": [
    {
     "data": {
      "text/plain": [
       "{'providers': 'instance/xlsx/s.csv',\n",
       " 'details': 'instance/xlsx/p.csv',\n",
       " 'supplies': 'instance/xlsx/sp.csv'}"
      ]
     },
     "execution_count": 130,
     "metadata": {},
     "output_type": "execute_result"
    }
   ],
   "source": [
    "files = {k:os.path.join(DATA_DIR, f'{v}.csv') for k, v in FILE_NAMES.items()}\n",
    "files"
   ]
  },
  {
   "cell_type": "code",
   "execution_count": 185,
   "metadata": {
    "ExecuteTime": {
     "end_time": "2019-03-10T21:38:31.468724Z",
     "start_time": "2019-03-10T21:38:31.438641Z"
    }
   },
   "outputs": [],
   "source": [
    "providers = pd.read_csv(files['providers'])\n",
    "details = pd.read_csv(files['details'])\n",
    "supplies = pd.read_csv(files['supplies'])"
   ]
  },
  {
   "cell_type": "code",
   "execution_count": 132,
   "metadata": {
    "ExecuteTime": {
     "end_time": "2019-03-10T21:14:23.948566Z",
     "start_time": "2019-03-10T21:14:23.944471Z"
    }
   },
   "outputs": [],
   "source": [
    "dbname = settings['database']\n",
    "user = settings['user']\n",
    "host = settings['host']\n",
    "password = settings['password']"
   ]
  },
  {
   "cell_type": "code",
   "execution_count": 188,
   "metadata": {
    "ExecuteTime": {
     "end_time": "2019-03-10T21:43:53.447660Z",
     "start_time": "2019-03-10T21:43:53.438046Z"
    }
   },
   "outputs": [],
   "source": [
    "connection_string = f\"dbname='{dbname}' user='{user}' host='{host}' password='{password}'\""
   ]
  },
  {
   "cell_type": "code",
   "execution_count": 189,
   "metadata": {
    "ExecuteTime": {
     "end_time": "2019-03-10T21:43:54.461943Z",
     "start_time": "2019-03-10T21:43:53.828840Z"
    }
   },
   "outputs": [],
   "source": [
    "connection = psycopg2.connect(connection_string)"
   ]
  },
  {
   "cell_type": "code",
   "execution_count": 190,
   "metadata": {
    "ExecuteTime": {
     "end_time": "2019-03-10T21:43:54.469541Z",
     "start_time": "2019-03-10T21:43:54.465473Z"
    }
   },
   "outputs": [],
   "source": [
    "cursor = connection.cursor()"
   ]
  },
  {
   "cell_type": "code",
   "execution_count": 136,
   "metadata": {
    "ExecuteTime": {
     "end_time": "2019-03-10T21:14:27.072229Z",
     "start_time": "2019-03-10T21:14:27.067467Z"
    }
   },
   "outputs": [],
   "source": [
    "def prepare_insert_providers_row(row):\n",
    "    if pd.isna(row['Address']):\n",
    "        address = 'NULL'\n",
    "    else:\n",
    "        address = f\"'{row['Address']}'\"\n",
    "    \n",
    "    return (\"INSERT INTO providers \"\n",
    "            f\"VALUES({row['SID']}, '{row['SName']}', '{row['SCity']}', {address}, {row['Risk']});\")"
   ]
  },
  {
   "cell_type": "code",
   "execution_count": 137,
   "metadata": {
    "ExecuteTime": {
     "end_time": "2019-03-10T21:14:29.130919Z",
     "start_time": "2019-03-10T21:14:29.126270Z"
    }
   },
   "outputs": [],
   "source": [
    "def prepare_insert_details_row(row):\n",
    "    if pd.isna(row['Color']):\n",
    "        color = 'NULL'\n",
    "    else:\n",
    "        color = f\"'{row['Color']}'\"\n",
    "    \n",
    "    return (\"INSERT INTO details \"\n",
    "            f\"VALUES({row['PID']}, '{row['PName']}', '{row['PCity']}', {color}, {row['Weight']});\")"
   ]
  },
  {
   "cell_type": "code",
   "execution_count": 181,
   "metadata": {
    "ExecuteTime": {
     "end_time": "2019-03-10T21:32:12.086000Z",
     "start_time": "2019-03-10T21:32:12.082017Z"
    }
   },
   "outputs": [],
   "source": [
    "def prepare_insert_supplies_row(row):\n",
    "    date = datetime.strptime(row['ShipDate'], '%Y-%m-%d')\n",
    "    return (\"INSERT INTO supplies \"\n",
    "            f\"VALUES({row['SPID']}, {row['SID']}, {row['PID']}, {row['Quantity']}, {row['Price']}, %s);\"), (date,)\n"
   ]
  },
  {
   "cell_type": "code",
   "execution_count": 140,
   "metadata": {
    "ExecuteTime": {
     "end_time": "2019-03-10T21:19:35.831559Z",
     "start_time": "2019-03-10T21:17:51.291061Z"
    }
   },
   "outputs": [],
   "source": [
    "for command in tqdm(providers.apply(prepare_insert_providers_row, axis=1).values):\n",
    "    try:\n",
    "        cursor.execute(command)\n",
    "    except:\n",
    "        print(command)\n",
    "        raise"
   ]
  },
  {
   "cell_type": "code",
   "execution_count": 138,
   "metadata": {
    "ExecuteTime": {
     "end_time": "2019-03-10T21:16:19.272267Z",
     "start_time": "2019-03-10T21:14:30.795586Z"
    }
   },
   "outputs": [],
   "source": [
    "for command in tqdm(details.apply(prepare_insert_details_row, axis=1).values):\n",
    "    try:\n",
    "        cursor.execute(command)\n",
    "    except:\n",
    "        print(command)\n",
    "        raise"
   ]
  },
  {
   "cell_type": "code",
   "execution_count": 196,
   "metadata": {
    "ExecuteTime": {
     "end_time": "2019-03-10T22:05:08.359599Z",
     "start_time": "2019-03-10T22:05:07.484605Z"
    }
   },
   "outputs": [
    {
     "name": "stderr",
     "output_type": "stream",
     "text": [
      "100%|██████████| 11803/11803 [00:00<00:00, 2096441.52it/s]\n"
     ]
    }
   ],
   "source": [
    "for command, args in tqdm(supplies.apply(prepare_insert_supplies_row, axis=1).values):\n",
    "    try:\n",
    "        cursor.execute(command, args)\n",
    "    except:\n",
    "        print(command, args)\n",
    "        raise    "
   ]
  },
  {
   "cell_type": "code",
   "execution_count": 192,
   "metadata": {
    "ExecuteTime": {
     "end_time": "2019-03-10T22:03:14.803194Z",
     "start_time": "2019-03-10T22:03:14.699392Z"
    }
   },
   "outputs": [],
   "source": [
    "connection.commit()"
   ]
  },
  {
   "cell_type": "code",
   "execution_count": 193,
   "metadata": {
    "ExecuteTime": {
     "end_time": "2019-03-10T22:04:16.656500Z",
     "start_time": "2019-03-10T22:04:16.650698Z"
    }
   },
   "outputs": [],
   "source": [
    "cursor.close()\n",
    "connection.close()"
   ]
  }
 ],
 "metadata": {
  "kernelspec": {
   "display_name": "Python 3",
   "language": "python",
   "name": "python3"
  },
  "language_info": {
   "codemirror_mode": {
    "name": "ipython",
    "version": 3
   },
   "file_extension": ".py",
   "mimetype": "text/x-python",
   "name": "python",
   "nbconvert_exporter": "python",
   "pygments_lexer": "ipython3",
   "version": "3.6.5"
  }
 },
 "nbformat": 4,
 "nbformat_minor": 2
}
