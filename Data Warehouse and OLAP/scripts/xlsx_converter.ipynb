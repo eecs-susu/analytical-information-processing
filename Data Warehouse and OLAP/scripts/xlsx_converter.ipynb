{
 "cells": [
  {
   "cell_type": "code",
   "execution_count": 58,
   "metadata": {
    "ExecuteTime": {
     "end_time": "2019-03-10T19:23:40.398210Z",
     "start_time": "2019-03-10T19:23:40.394339Z"
    }
   },
   "outputs": [],
   "source": [
    "from collections import Counter\n",
    "\n",
    "import os\n",
    "import shutil\n",
    "\n",
    "import numpy as np\n",
    "import pandas as pd"
   ]
  },
  {
   "cell_type": "code",
   "execution_count": 59,
   "metadata": {
    "ExecuteTime": {
     "end_time": "2019-03-10T19:23:57.866438Z",
     "start_time": "2019-03-10T19:23:57.863183Z"
    }
   },
   "outputs": [],
   "source": [
    "XLSX_PATH = '../data/Branch_2.xlsx'\n",
    "INSTANCE_DIR = 'instance'"
   ]
  },
  {
   "cell_type": "code",
   "execution_count": 3,
   "metadata": {
    "ExecuteTime": {
     "end_time": "2019-03-10T19:11:57.033277Z",
     "start_time": "2019-03-10T19:11:55.826442Z"
    }
   },
   "outputs": [],
   "source": [
    "sheets = pd.read_excel(XLSX_PATH, sheet_name=[0, 1, 2])"
   ]
  },
  {
   "cell_type": "code",
   "execution_count": 4,
   "metadata": {
    "ExecuteTime": {
     "end_time": "2019-03-10T19:11:57.040056Z",
     "start_time": "2019-03-10T19:11:57.036222Z"
    }
   },
   "outputs": [],
   "source": [
    "providers, details, supplies = sheets[0], sheets[1], sheets[2]"
   ]
  },
  {
   "cell_type": "markdown",
   "metadata": {},
   "source": [
    "## Ограничения целостности"
   ]
  },
  {
   "cell_type": "markdown",
   "metadata": {
    "heading_collapsed": true
   },
   "source": [
    "### Поставщики "
   ]
  },
  {
   "cell_type": "markdown",
   "metadata": {
    "hidden": true
   },
   "source": [
    "#### SName NOT NULL\n",
    "Отбрасывание записи"
   ]
  },
  {
   "cell_type": "code",
   "execution_count": 5,
   "metadata": {
    "ExecuteTime": {
     "end_time": "2019-03-10T19:11:57.065721Z",
     "start_time": "2019-03-10T19:11:57.041902Z"
    },
    "hidden": true
   },
   "outputs": [
    {
     "data": {
      "text/html": [
       "<div>\n",
       "<style scoped>\n",
       "    .dataframe tbody tr th:only-of-type {\n",
       "        vertical-align: middle;\n",
       "    }\n",
       "\n",
       "    .dataframe tbody tr th {\n",
       "        vertical-align: top;\n",
       "    }\n",
       "\n",
       "    .dataframe thead th {\n",
       "        text-align: right;\n",
       "    }\n",
       "</style>\n",
       "<table border=\"1\" class=\"dataframe\">\n",
       "  <thead>\n",
       "    <tr style=\"text-align: right;\">\n",
       "      <th></th>\n",
       "      <th>SID</th>\n",
       "      <th>SName</th>\n",
       "      <th>SCity</th>\n",
       "      <th>Address</th>\n",
       "      <th>Risk</th>\n",
       "    </tr>\n",
       "  </thead>\n",
       "  <tbody>\n",
       "    <tr>\n",
       "      <th>240</th>\n",
       "      <td>240</td>\n",
       "      <td>NaN</td>\n",
       "      <td>Саратов</td>\n",
       "      <td>Учебная 21</td>\n",
       "      <td>3.0</td>\n",
       "    </tr>\n",
       "    <tr>\n",
       "      <th>900</th>\n",
       "      <td>900</td>\n",
       "      <td>NaN</td>\n",
       "      <td>﻿Москва</td>\n",
       "      <td>Южная 23</td>\n",
       "      <td>2.0</td>\n",
       "    </tr>\n",
       "  </tbody>\n",
       "</table>\n",
       "</div>"
      ],
      "text/plain": [
       "     SID SName    SCity     Address  Risk\n",
       "240  240   NaN  Саратов  Учебная 21   3.0\n",
       "900  900   NaN  ﻿Москва    Южная 23   2.0"
      ]
     },
     "execution_count": 5,
     "metadata": {},
     "output_type": "execute_result"
    }
   ],
   "source": [
    "providers[providers['SName'].isna()].head()"
   ]
  },
  {
   "cell_type": "code",
   "execution_count": 6,
   "metadata": {
    "ExecuteTime": {
     "end_time": "2019-03-10T19:11:57.075507Z",
     "start_time": "2019-03-10T19:11:57.067622Z"
    },
    "hidden": true
   },
   "outputs": [],
   "source": [
    "providers = providers.dropna(subset=['SName'])"
   ]
  },
  {
   "cell_type": "code",
   "execution_count": 7,
   "metadata": {
    "ExecuteTime": {
     "end_time": "2019-03-10T19:11:57.086181Z",
     "start_time": "2019-03-10T19:11:57.077941Z"
    },
    "hidden": true
   },
   "outputs": [
    {
     "data": {
      "text/html": [
       "<div>\n",
       "<style scoped>\n",
       "    .dataframe tbody tr th:only-of-type {\n",
       "        vertical-align: middle;\n",
       "    }\n",
       "\n",
       "    .dataframe tbody tr th {\n",
       "        vertical-align: top;\n",
       "    }\n",
       "\n",
       "    .dataframe thead th {\n",
       "        text-align: right;\n",
       "    }\n",
       "</style>\n",
       "<table border=\"1\" class=\"dataframe\">\n",
       "  <thead>\n",
       "    <tr style=\"text-align: right;\">\n",
       "      <th></th>\n",
       "      <th>SID</th>\n",
       "      <th>SName</th>\n",
       "      <th>SCity</th>\n",
       "      <th>Address</th>\n",
       "      <th>Risk</th>\n",
       "    </tr>\n",
       "  </thead>\n",
       "  <tbody>\n",
       "  </tbody>\n",
       "</table>\n",
       "</div>"
      ],
      "text/plain": [
       "Empty DataFrame\n",
       "Columns: [SID, SName, SCity, Address, Risk]\n",
       "Index: []"
      ]
     },
     "execution_count": 7,
     "metadata": {},
     "output_type": "execute_result"
    }
   ],
   "source": [
    "providers[providers['SName'].isna()].head()"
   ]
  },
  {
   "cell_type": "markdown",
   "metadata": {
    "hidden": true
   },
   "source": [
    "#### SCity NOT NULL\n",
    "Замена пустого значения наиболее часто встречающимся значением города поставщика в рамках данного филиала"
   ]
  },
  {
   "cell_type": "code",
   "execution_count": 8,
   "metadata": {
    "ExecuteTime": {
     "end_time": "2019-03-10T19:11:57.101170Z",
     "start_time": "2019-03-10T19:11:57.088258Z"
    },
    "hidden": true
   },
   "outputs": [
    {
     "data": {
      "text/html": [
       "<div>\n",
       "<style scoped>\n",
       "    .dataframe tbody tr th:only-of-type {\n",
       "        vertical-align: middle;\n",
       "    }\n",
       "\n",
       "    .dataframe tbody tr th {\n",
       "        vertical-align: top;\n",
       "    }\n",
       "\n",
       "    .dataframe thead th {\n",
       "        text-align: right;\n",
       "    }\n",
       "</style>\n",
       "<table border=\"1\" class=\"dataframe\">\n",
       "  <thead>\n",
       "    <tr style=\"text-align: right;\">\n",
       "      <th></th>\n",
       "      <th>SID</th>\n",
       "      <th>SName</th>\n",
       "      <th>SCity</th>\n",
       "      <th>Address</th>\n",
       "      <th>Risk</th>\n",
       "    </tr>\n",
       "  </thead>\n",
       "  <tbody>\n",
       "    <tr>\n",
       "      <th>540</th>\n",
       "      <td>540</td>\n",
       "      <td>Феникс</td>\n",
       "      <td>NaN</td>\n",
       "      <td>Уральская 37</td>\n",
       "      <td>1.0</td>\n",
       "    </tr>\n",
       "    <tr>\n",
       "      <th>660</th>\n",
       "      <td>660</td>\n",
       "      <td>ООО \"МТА\"</td>\n",
       "      <td>NaN</td>\n",
       "      <td>Ереванская 46</td>\n",
       "      <td>2.0</td>\n",
       "    </tr>\n",
       "    <tr>\n",
       "      <th>780</th>\n",
       "      <td>780</td>\n",
       "      <td>ООО \"Эльтадор-М\"</td>\n",
       "      <td>NaN</td>\n",
       "      <td>Родькина 47</td>\n",
       "      <td>1.0</td>\n",
       "    </tr>\n",
       "    <tr>\n",
       "      <th>1020</th>\n",
       "      <td>1020</td>\n",
       "      <td>СлавКабель</td>\n",
       "      <td>NaN</td>\n",
       "      <td>Литовская 31</td>\n",
       "      <td>1.0</td>\n",
       "    </tr>\n",
       "  </tbody>\n",
       "</table>\n",
       "</div>"
      ],
      "text/plain": [
       "       SID             SName SCity        Address  Risk\n",
       "540    540            Феникс   NaN   Уральская 37   1.0\n",
       "660    660         ООО \"МТА\"   NaN  Ереванская 46   2.0\n",
       "780    780  ООО \"Эльтадор-М\"   NaN    Родькина 47   1.0\n",
       "1020  1020        СлавКабель   NaN   Литовская 31   1.0"
      ]
     },
     "execution_count": 8,
     "metadata": {},
     "output_type": "execute_result"
    }
   ],
   "source": [
    "providers[providers['SCity'].isna()]"
   ]
  },
  {
   "cell_type": "code",
   "execution_count": 9,
   "metadata": {
    "ExecuteTime": {
     "end_time": "2019-03-10T19:11:57.108919Z",
     "start_time": "2019-03-10T19:11:57.103486Z"
    },
    "hidden": true
   },
   "outputs": [],
   "source": [
    "def apply_most_common_constraint(container, column_name, name_column=None, extra_f=None):\n",
    "    container = container.dropna(subset=[column_name])\n",
    "    def apply_each_row(row):\n",
    "        row = row.copy()\n",
    "        if pd.isna(row[column_name]) or (extra_f is not None and extra_f(row)):\n",
    "            if name_column is not None:\n",
    "                freq = Counter(container[container[name_column] == row[name_column]][column_name])\n",
    "            else:\n",
    "                freq = Counter(container[column_name])\n",
    "            most_common = freq.most_common()[0][0]\n",
    "            row[column_name] = most_common\n",
    "        return row\n",
    "    return apply_each_row"
   ]
  },
  {
   "cell_type": "code",
   "execution_count": 10,
   "metadata": {
    "ExecuteTime": {
     "end_time": "2019-03-10T19:11:57.379850Z",
     "start_time": "2019-03-10T19:11:57.111722Z"
    },
    "hidden": true
   },
   "outputs": [],
   "source": [
    "providers = providers.apply(\n",
    "    apply_most_common_constraint(providers, 'SCity', 'SName'), \n",
    "    axis=1,\n",
    ")"
   ]
  },
  {
   "cell_type": "code",
   "execution_count": 11,
   "metadata": {
    "ExecuteTime": {
     "end_time": "2019-03-10T19:11:57.388070Z",
     "start_time": "2019-03-10T19:11:57.381905Z"
    },
    "hidden": true
   },
   "outputs": [
    {
     "data": {
      "text/html": [
       "<div>\n",
       "<style scoped>\n",
       "    .dataframe tbody tr th:only-of-type {\n",
       "        vertical-align: middle;\n",
       "    }\n",
       "\n",
       "    .dataframe tbody tr th {\n",
       "        vertical-align: top;\n",
       "    }\n",
       "\n",
       "    .dataframe thead th {\n",
       "        text-align: right;\n",
       "    }\n",
       "</style>\n",
       "<table border=\"1\" class=\"dataframe\">\n",
       "  <thead>\n",
       "    <tr style=\"text-align: right;\">\n",
       "      <th></th>\n",
       "      <th>SID</th>\n",
       "      <th>SName</th>\n",
       "      <th>SCity</th>\n",
       "      <th>Address</th>\n",
       "      <th>Risk</th>\n",
       "    </tr>\n",
       "  </thead>\n",
       "  <tbody>\n",
       "  </tbody>\n",
       "</table>\n",
       "</div>"
      ],
      "text/plain": [
       "Empty DataFrame\n",
       "Columns: [SID, SName, SCity, Address, Risk]\n",
       "Index: []"
      ]
     },
     "execution_count": 11,
     "metadata": {},
     "output_type": "execute_result"
    }
   ],
   "source": [
    "providers[providers['SCity'].isna()]"
   ]
  },
  {
   "cell_type": "markdown",
   "metadata": {
    "hidden": true
   },
   "source": [
    "#### UNIQUE (SName, Address, SCity)\n",
    "Отбрасывание записей-дубликатов "
   ]
  },
  {
   "cell_type": "code",
   "execution_count": 12,
   "metadata": {
    "ExecuteTime": {
     "end_time": "2019-03-10T19:11:57.395242Z",
     "start_time": "2019-03-10T19:11:57.390272Z"
    },
    "hidden": true
   },
   "outputs": [],
   "source": [
    "providers_unique_subset = ['SName', 'Address', 'SCity']"
   ]
  },
  {
   "cell_type": "code",
   "execution_count": 13,
   "metadata": {
    "ExecuteTime": {
     "end_time": "2019-03-10T19:11:57.418310Z",
     "start_time": "2019-03-10T19:11:57.402051Z"
    },
    "hidden": true,
    "scrolled": true
   },
   "outputs": [
    {
     "data": {
      "text/html": [
       "<div>\n",
       "<style scoped>\n",
       "    .dataframe tbody tr th:only-of-type {\n",
       "        vertical-align: middle;\n",
       "    }\n",
       "\n",
       "    .dataframe tbody tr th {\n",
       "        vertical-align: top;\n",
       "    }\n",
       "\n",
       "    .dataframe thead th {\n",
       "        text-align: right;\n",
       "    }\n",
       "</style>\n",
       "<table border=\"1\" class=\"dataframe\">\n",
       "  <thead>\n",
       "    <tr style=\"text-align: right;\">\n",
       "      <th></th>\n",
       "      <th>SID</th>\n",
       "      <th>SName</th>\n",
       "      <th>SCity</th>\n",
       "      <th>Address</th>\n",
       "      <th>Risk</th>\n",
       "    </tr>\n",
       "  </thead>\n",
       "  <tbody>\n",
       "    <tr>\n",
       "      <th>179</th>\n",
       "      <td>179</td>\n",
       "      <td>ВАЛСИ</td>\n",
       "      <td>Новгород</td>\n",
       "      <td>Рылеева 6</td>\n",
       "      <td>2.0</td>\n",
       "    </tr>\n",
       "    <tr>\n",
       "      <th>180</th>\n",
       "      <td>180</td>\n",
       "      <td>ВАЛСИ</td>\n",
       "      <td>Новгород</td>\n",
       "      <td>Рылеева 6</td>\n",
       "      <td>3.0</td>\n",
       "    </tr>\n",
       "    <tr>\n",
       "      <th>599</th>\n",
       "      <td>599</td>\n",
       "      <td>ВАЛСИ</td>\n",
       "      <td>Ярославль</td>\n",
       "      <td>Южноуральская 32</td>\n",
       "      <td>2.0</td>\n",
       "    </tr>\n",
       "    <tr>\n",
       "      <th>600</th>\n",
       "      <td>600</td>\n",
       "      <td>ВАЛСИ</td>\n",
       "      <td>Ярославль</td>\n",
       "      <td>Южноуральская 32</td>\n",
       "      <td>3.0</td>\n",
       "    </tr>\n",
       "    <tr>\n",
       "      <th>839</th>\n",
       "      <td>839</td>\n",
       "      <td>Зет-Стоун</td>\n",
       "      <td>Воронеж</td>\n",
       "      <td>Украинская 19</td>\n",
       "      <td>1.0</td>\n",
       "    </tr>\n",
       "  </tbody>\n",
       "</table>\n",
       "</div>"
      ],
      "text/plain": [
       "     SID      SName      SCity           Address  Risk\n",
       "179  179      ВАЛСИ   Новгород         Рылеева 6   2.0\n",
       "180  180      ВАЛСИ   Новгород         Рылеева 6   3.0\n",
       "599  599      ВАЛСИ  Ярославль  Южноуральская 32   2.0\n",
       "600  600      ВАЛСИ  Ярославль  Южноуральская 32   3.0\n",
       "839  839  Зет-Стоун    Воронеж     Украинская 19   1.0"
      ]
     },
     "execution_count": 13,
     "metadata": {},
     "output_type": "execute_result"
    }
   ],
   "source": [
    "providers[providers.duplicated(subset=providers_unique_subset, keep=False)].head()"
   ]
  },
  {
   "cell_type": "code",
   "execution_count": 14,
   "metadata": {
    "ExecuteTime": {
     "end_time": "2019-03-10T19:11:57.431851Z",
     "start_time": "2019-03-10T19:11:57.425221Z"
    },
    "hidden": true
   },
   "outputs": [],
   "source": [
    "providers = providers.drop_duplicates(subset=providers_unique_subset, keep='first')"
   ]
  },
  {
   "cell_type": "code",
   "execution_count": 15,
   "metadata": {
    "ExecuteTime": {
     "end_time": "2019-03-10T19:11:57.446162Z",
     "start_time": "2019-03-10T19:11:57.433897Z"
    },
    "hidden": true
   },
   "outputs": [
    {
     "data": {
      "text/html": [
       "<div>\n",
       "<style scoped>\n",
       "    .dataframe tbody tr th:only-of-type {\n",
       "        vertical-align: middle;\n",
       "    }\n",
       "\n",
       "    .dataframe tbody tr th {\n",
       "        vertical-align: top;\n",
       "    }\n",
       "\n",
       "    .dataframe thead th {\n",
       "        text-align: right;\n",
       "    }\n",
       "</style>\n",
       "<table border=\"1\" class=\"dataframe\">\n",
       "  <thead>\n",
       "    <tr style=\"text-align: right;\">\n",
       "      <th></th>\n",
       "      <th>SID</th>\n",
       "      <th>SName</th>\n",
       "      <th>SCity</th>\n",
       "      <th>Address</th>\n",
       "      <th>Risk</th>\n",
       "    </tr>\n",
       "  </thead>\n",
       "  <tbody>\n",
       "  </tbody>\n",
       "</table>\n",
       "</div>"
      ],
      "text/plain": [
       "Empty DataFrame\n",
       "Columns: [SID, SName, SCity, Address, Risk]\n",
       "Index: []"
      ]
     },
     "execution_count": 15,
     "metadata": {},
     "output_type": "execute_result"
    }
   ],
   "source": [
    "providers[providers.duplicated(subset=providers_unique_subset, keep=False)].head()"
   ]
  },
  {
   "cell_type": "markdown",
   "metadata": {
    "hidden": true
   },
   "source": [
    "#### Risk in (1, 2, 3)  \n",
    "Замена ошибочного значения наиболее часто встречающимся значением риска сотрудничества в рамках данного города данного филиала"
   ]
  },
  {
   "cell_type": "code",
   "execution_count": 16,
   "metadata": {
    "ExecuteTime": {
     "end_time": "2019-03-10T19:11:57.451063Z",
     "start_time": "2019-03-10T19:11:57.448215Z"
    },
    "hidden": true
   },
   "outputs": [],
   "source": [
    "possible_risks = [1, 2, 3]"
   ]
  },
  {
   "cell_type": "code",
   "execution_count": 17,
   "metadata": {
    "ExecuteTime": {
     "end_time": "2019-03-10T19:11:57.466534Z",
     "start_time": "2019-03-10T19:11:57.453098Z"
    },
    "hidden": true
   },
   "outputs": [
    {
     "data": {
      "text/html": [
       "<div>\n",
       "<style scoped>\n",
       "    .dataframe tbody tr th:only-of-type {\n",
       "        vertical-align: middle;\n",
       "    }\n",
       "\n",
       "    .dataframe tbody tr th {\n",
       "        vertical-align: top;\n",
       "    }\n",
       "\n",
       "    .dataframe thead th {\n",
       "        text-align: right;\n",
       "    }\n",
       "</style>\n",
       "<table border=\"1\" class=\"dataframe\">\n",
       "  <thead>\n",
       "    <tr style=\"text-align: right;\">\n",
       "      <th></th>\n",
       "      <th>SID</th>\n",
       "      <th>SName</th>\n",
       "      <th>SCity</th>\n",
       "      <th>Address</th>\n",
       "      <th>Risk</th>\n",
       "    </tr>\n",
       "  </thead>\n",
       "  <tbody>\n",
       "    <tr>\n",
       "      <th>60</th>\n",
       "      <td>60</td>\n",
       "      <td>Мотэк-99</td>\n",
       "      <td>Уфа</td>\n",
       "      <td>Житомирская 12</td>\n",
       "      <td>NaN</td>\n",
       "    </tr>\n",
       "    <tr>\n",
       "      <th>120</th>\n",
       "      <td>120</td>\n",
       "      <td>Феникс</td>\n",
       "      <td>Ульяновск</td>\n",
       "      <td>Майкова 12</td>\n",
       "      <td>NaN</td>\n",
       "    </tr>\n",
       "    <tr>\n",
       "      <th>420</th>\n",
       "      <td>420</td>\n",
       "      <td>﻿Синапсис</td>\n",
       "      <td>Ульяновск</td>\n",
       "      <td>Львовская 22</td>\n",
       "      <td>NaN</td>\n",
       "    </tr>\n",
       "    <tr>\n",
       "      <th>480</th>\n",
       "      <td>480</td>\n",
       "      <td>Мотэк-99</td>\n",
       "      <td>Самара</td>\n",
       "      <td>Ростовская 49</td>\n",
       "      <td>NaN</td>\n",
       "    </tr>\n",
       "    <tr>\n",
       "      <th>960</th>\n",
       "      <td>960</td>\n",
       "      <td>Феникс</td>\n",
       "      <td>Уфа</td>\n",
       "      <td>Евтеева 14</td>\n",
       "      <td>NaN</td>\n",
       "    </tr>\n",
       "  </tbody>\n",
       "</table>\n",
       "</div>"
      ],
      "text/plain": [
       "     SID      SName      SCity         Address  Risk\n",
       "60    60   Мотэк-99        Уфа  Житомирская 12   NaN\n",
       "120  120     Феникс  Ульяновск      Майкова 12   NaN\n",
       "420  420  ﻿Синапсис  Ульяновск    Львовская 22   NaN\n",
       "480  480   Мотэк-99     Самара   Ростовская 49   NaN\n",
       "960  960     Феникс        Уфа      Евтеева 14   NaN"
      ]
     },
     "execution_count": 17,
     "metadata": {},
     "output_type": "execute_result"
    }
   ],
   "source": [
    "providers[np.logical_not(providers['Risk'].isin(possible_risks))]"
   ]
  },
  {
   "cell_type": "code",
   "execution_count": 18,
   "metadata": {
    "ExecuteTime": {
     "end_time": "2019-03-10T19:11:57.746045Z",
     "start_time": "2019-03-10T19:11:57.467825Z"
    },
    "hidden": true
   },
   "outputs": [],
   "source": [
    "invalid_risk_rows = np.logical_not(providers['Risk'].isin(possible_risks))\n",
    "providers = providers.apply(\n",
    "    apply_most_common_constraint(providers, 'Risk', 'SName', extra_f=lambda e: e['Risk'] not in possible_risks),\n",
    "    axis=1,\n",
    ")"
   ]
  },
  {
   "cell_type": "code",
   "execution_count": 19,
   "metadata": {
    "ExecuteTime": {
     "end_time": "2019-03-10T19:11:57.754991Z",
     "start_time": "2019-03-10T19:11:57.748267Z"
    },
    "hidden": true
   },
   "outputs": [
    {
     "data": {
      "text/html": [
       "<div>\n",
       "<style scoped>\n",
       "    .dataframe tbody tr th:only-of-type {\n",
       "        vertical-align: middle;\n",
       "    }\n",
       "\n",
       "    .dataframe tbody tr th {\n",
       "        vertical-align: top;\n",
       "    }\n",
       "\n",
       "    .dataframe thead th {\n",
       "        text-align: right;\n",
       "    }\n",
       "</style>\n",
       "<table border=\"1\" class=\"dataframe\">\n",
       "  <thead>\n",
       "    <tr style=\"text-align: right;\">\n",
       "      <th></th>\n",
       "      <th>SID</th>\n",
       "      <th>SName</th>\n",
       "      <th>SCity</th>\n",
       "      <th>Address</th>\n",
       "      <th>Risk</th>\n",
       "    </tr>\n",
       "  </thead>\n",
       "  <tbody>\n",
       "  </tbody>\n",
       "</table>\n",
       "</div>"
      ],
      "text/plain": [
       "Empty DataFrame\n",
       "Columns: [SID, SName, SCity, Address, Risk]\n",
       "Index: []"
      ]
     },
     "execution_count": 19,
     "metadata": {},
     "output_type": "execute_result"
    }
   ],
   "source": [
    "providers[np.logical_not(providers['Risk'].isin(possible_risks))]"
   ]
  },
  {
   "cell_type": "markdown",
   "metadata": {},
   "source": [
    "### Детали"
   ]
  },
  {
   "cell_type": "markdown",
   "metadata": {},
   "source": [
    "#### PName NOT NULL\n",
    "Отбрасывание записи"
   ]
  },
  {
   "cell_type": "code",
   "execution_count": 20,
   "metadata": {
    "ExecuteTime": {
     "end_time": "2019-03-10T19:11:57.770825Z",
     "start_time": "2019-03-10T19:11:57.757226Z"
    }
   },
   "outputs": [
    {
     "data": {
      "text/html": [
       "<div>\n",
       "<style scoped>\n",
       "    .dataframe tbody tr th:only-of-type {\n",
       "        vertical-align: middle;\n",
       "    }\n",
       "\n",
       "    .dataframe tbody tr th {\n",
       "        vertical-align: top;\n",
       "    }\n",
       "\n",
       "    .dataframe thead th {\n",
       "        text-align: right;\n",
       "    }\n",
       "</style>\n",
       "<table border=\"1\" class=\"dataframe\">\n",
       "  <thead>\n",
       "    <tr style=\"text-align: right;\">\n",
       "      <th></th>\n",
       "      <th>PID</th>\n",
       "      <th>PName</th>\n",
       "      <th>PCity</th>\n",
       "      <th>Color</th>\n",
       "      <th>Weight</th>\n",
       "    </tr>\n",
       "  </thead>\n",
       "  <tbody>\n",
       "    <tr>\n",
       "      <th>240</th>\n",
       "      <td>240</td>\n",
       "      <td>NaN</td>\n",
       "      <td>Саратов</td>\n",
       "      <td>Зелёный</td>\n",
       "      <td>1.821</td>\n",
       "    </tr>\n",
       "    <tr>\n",
       "      <th>300</th>\n",
       "      <td>300</td>\n",
       "      <td>NaN</td>\n",
       "      <td>﻿Москва</td>\n",
       "      <td>Серый</td>\n",
       "      <td>1.410</td>\n",
       "    </tr>\n",
       "    <tr>\n",
       "      <th>720</th>\n",
       "      <td>720</td>\n",
       "      <td>NaN</td>\n",
       "      <td>Ульяновск</td>\n",
       "      <td>Серый</td>\n",
       "      <td>0.466</td>\n",
       "    </tr>\n",
       "    <tr>\n",
       "      <th>1020</th>\n",
       "      <td>1020</td>\n",
       "      <td>NaN</td>\n",
       "      <td>Ульяновск</td>\n",
       "      <td>Синий</td>\n",
       "      <td>1.646</td>\n",
       "    </tr>\n",
       "  </tbody>\n",
       "</table>\n",
       "</div>"
      ],
      "text/plain": [
       "       PID PName      PCity    Color  Weight\n",
       "240    240   NaN    Саратов  Зелёный   1.821\n",
       "300    300   NaN    ﻿Москва    Серый   1.410\n",
       "720    720   NaN  Ульяновск    Серый   0.466\n",
       "1020  1020   NaN  Ульяновск    Синий   1.646"
      ]
     },
     "execution_count": 20,
     "metadata": {},
     "output_type": "execute_result"
    }
   ],
   "source": [
    "details[details['PName'].isna()]"
   ]
  },
  {
   "cell_type": "code",
   "execution_count": 21,
   "metadata": {
    "ExecuteTime": {
     "end_time": "2019-03-10T19:11:57.780866Z",
     "start_time": "2019-03-10T19:11:57.773256Z"
    }
   },
   "outputs": [],
   "source": [
    "details = details.dropna(subset=['PName'])"
   ]
  },
  {
   "cell_type": "code",
   "execution_count": 22,
   "metadata": {
    "ExecuteTime": {
     "end_time": "2019-03-10T19:11:57.794109Z",
     "start_time": "2019-03-10T19:11:57.782820Z"
    }
   },
   "outputs": [
    {
     "data": {
      "text/html": [
       "<div>\n",
       "<style scoped>\n",
       "    .dataframe tbody tr th:only-of-type {\n",
       "        vertical-align: middle;\n",
       "    }\n",
       "\n",
       "    .dataframe tbody tr th {\n",
       "        vertical-align: top;\n",
       "    }\n",
       "\n",
       "    .dataframe thead th {\n",
       "        text-align: right;\n",
       "    }\n",
       "</style>\n",
       "<table border=\"1\" class=\"dataframe\">\n",
       "  <thead>\n",
       "    <tr style=\"text-align: right;\">\n",
       "      <th></th>\n",
       "      <th>PID</th>\n",
       "      <th>PName</th>\n",
       "      <th>PCity</th>\n",
       "      <th>Color</th>\n",
       "      <th>Weight</th>\n",
       "    </tr>\n",
       "  </thead>\n",
       "  <tbody>\n",
       "  </tbody>\n",
       "</table>\n",
       "</div>"
      ],
      "text/plain": [
       "Empty DataFrame\n",
       "Columns: [PID, PName, PCity, Color, Weight]\n",
       "Index: []"
      ]
     },
     "execution_count": 22,
     "metadata": {},
     "output_type": "execute_result"
    }
   ],
   "source": [
    "details[details['PName'].isna()]"
   ]
  },
  {
   "cell_type": "markdown",
   "metadata": {},
   "source": [
    "#### PCity NOT NULL\n",
    "Замена пустого значения наиболее часто встречающимся значением города детали в рамках данного филиала"
   ]
  },
  {
   "cell_type": "code",
   "execution_count": 23,
   "metadata": {
    "ExecuteTime": {
     "end_time": "2019-03-10T19:11:57.813386Z",
     "start_time": "2019-03-10T19:11:57.796163Z"
    }
   },
   "outputs": [
    {
     "data": {
      "text/html": [
       "<div>\n",
       "<style scoped>\n",
       "    .dataframe tbody tr th:only-of-type {\n",
       "        vertical-align: middle;\n",
       "    }\n",
       "\n",
       "    .dataframe tbody tr th {\n",
       "        vertical-align: top;\n",
       "    }\n",
       "\n",
       "    .dataframe thead th {\n",
       "        text-align: right;\n",
       "    }\n",
       "</style>\n",
       "<table border=\"1\" class=\"dataframe\">\n",
       "  <thead>\n",
       "    <tr style=\"text-align: right;\">\n",
       "      <th></th>\n",
       "      <th>PID</th>\n",
       "      <th>PName</th>\n",
       "      <th>PCity</th>\n",
       "      <th>Color</th>\n",
       "      <th>Weight</th>\n",
       "    </tr>\n",
       "  </thead>\n",
       "  <tbody>\n",
       "    <tr>\n",
       "      <th>0</th>\n",
       "      <td>0</td>\n",
       "      <td>﻿Гайка</td>\n",
       "      <td>NaN</td>\n",
       "      <td>Чёрный</td>\n",
       "      <td>0.852</td>\n",
       "    </tr>\n",
       "    <tr>\n",
       "      <th>60</th>\n",
       "      <td>60</td>\n",
       "      <td>Ручка</td>\n",
       "      <td>NaN</td>\n",
       "      <td>Жёлтый</td>\n",
       "      <td>1.398</td>\n",
       "    </tr>\n",
       "    <tr>\n",
       "      <th>600</th>\n",
       "      <td>600</td>\n",
       "      <td>Кожух</td>\n",
       "      <td>NaN</td>\n",
       "      <td>Синий</td>\n",
       "      <td>12.194</td>\n",
       "    </tr>\n",
       "    <tr>\n",
       "      <th>900</th>\n",
       "      <td>900</td>\n",
       "      <td>Отвёртка</td>\n",
       "      <td>NaN</td>\n",
       "      <td>Жёлтый</td>\n",
       "      <td>0.312</td>\n",
       "    </tr>\n",
       "    <tr>\n",
       "      <th>960</th>\n",
       "      <td>960</td>\n",
       "      <td>﻿Гайка</td>\n",
       "      <td>NaN</td>\n",
       "      <td>Красный</td>\n",
       "      <td>1.673</td>\n",
       "    </tr>\n",
       "  </tbody>\n",
       "</table>\n",
       "</div>"
      ],
      "text/plain": [
       "     PID     PName PCity    Color  Weight\n",
       "0      0    ﻿Гайка   NaN   Чёрный   0.852\n",
       "60    60     Ручка   NaN   Жёлтый   1.398\n",
       "600  600     Кожух   NaN    Синий  12.194\n",
       "900  900  Отвёртка   NaN   Жёлтый   0.312\n",
       "960  960    ﻿Гайка   NaN  Красный   1.673"
      ]
     },
     "execution_count": 23,
     "metadata": {},
     "output_type": "execute_result"
    }
   ],
   "source": [
    "details[details['PCity'].isna()].head()"
   ]
  },
  {
   "cell_type": "code",
   "execution_count": 24,
   "metadata": {
    "ExecuteTime": {
     "end_time": "2019-03-10T19:11:58.093621Z",
     "start_time": "2019-03-10T19:11:57.816342Z"
    }
   },
   "outputs": [],
   "source": [
    "details = details.apply(\n",
    "    apply_most_common_constraint(details, 'PCity', 'PName'),\n",
    "    axis=1,\n",
    ")"
   ]
  },
  {
   "cell_type": "code",
   "execution_count": 25,
   "metadata": {
    "ExecuteTime": {
     "end_time": "2019-03-10T19:11:58.103385Z",
     "start_time": "2019-03-10T19:11:58.095711Z"
    }
   },
   "outputs": [
    {
     "data": {
      "text/html": [
       "<div>\n",
       "<style scoped>\n",
       "    .dataframe tbody tr th:only-of-type {\n",
       "        vertical-align: middle;\n",
       "    }\n",
       "\n",
       "    .dataframe tbody tr th {\n",
       "        vertical-align: top;\n",
       "    }\n",
       "\n",
       "    .dataframe thead th {\n",
       "        text-align: right;\n",
       "    }\n",
       "</style>\n",
       "<table border=\"1\" class=\"dataframe\">\n",
       "  <thead>\n",
       "    <tr style=\"text-align: right;\">\n",
       "      <th></th>\n",
       "      <th>PID</th>\n",
       "      <th>PName</th>\n",
       "      <th>PCity</th>\n",
       "      <th>Color</th>\n",
       "      <th>Weight</th>\n",
       "    </tr>\n",
       "  </thead>\n",
       "  <tbody>\n",
       "  </tbody>\n",
       "</table>\n",
       "</div>"
      ],
      "text/plain": [
       "Empty DataFrame\n",
       "Columns: [PID, PName, PCity, Color, Weight]\n",
       "Index: []"
      ]
     },
     "execution_count": 25,
     "metadata": {},
     "output_type": "execute_result"
    }
   ],
   "source": [
    "details[details['PCity'].isna()].head()"
   ]
  },
  {
   "cell_type": "markdown",
   "metadata": {
    "ExecuteTime": {
     "end_time": "2019-03-10T18:19:09.773513Z",
     "start_time": "2019-03-10T18:19:09.768989Z"
    },
    "code_folding": [
     0
    ]
   },
   "source": [
    "#### Weight > 0  \n",
    "Замена ошибочного значения средним значением веса деталей в рамках данного города данного филиала"
   ]
  },
  {
   "cell_type": "code",
   "execution_count": 26,
   "metadata": {
    "ExecuteTime": {
     "end_time": "2019-03-10T19:11:58.120799Z",
     "start_time": "2019-03-10T19:11:58.105900Z"
    }
   },
   "outputs": [
    {
     "data": {
      "text/html": [
       "<div>\n",
       "<style scoped>\n",
       "    .dataframe tbody tr th:only-of-type {\n",
       "        vertical-align: middle;\n",
       "    }\n",
       "\n",
       "    .dataframe tbody tr th {\n",
       "        vertical-align: top;\n",
       "    }\n",
       "\n",
       "    .dataframe thead th {\n",
       "        text-align: right;\n",
       "    }\n",
       "</style>\n",
       "<table border=\"1\" class=\"dataframe\">\n",
       "  <thead>\n",
       "    <tr style=\"text-align: right;\">\n",
       "      <th></th>\n",
       "      <th>PID</th>\n",
       "      <th>PName</th>\n",
       "      <th>PCity</th>\n",
       "      <th>Color</th>\n",
       "      <th>Weight</th>\n",
       "    </tr>\n",
       "  </thead>\n",
       "  <tbody>\n",
       "    <tr>\n",
       "      <th>180</th>\n",
       "      <td>180</td>\n",
       "      <td>Отвёртка</td>\n",
       "      <td>Самара</td>\n",
       "      <td>Синий</td>\n",
       "      <td>-1.0</td>\n",
       "    </tr>\n",
       "    <tr>\n",
       "      <th>540</th>\n",
       "      <td>540</td>\n",
       "      <td>Ручка</td>\n",
       "      <td>Саратов</td>\n",
       "      <td>Красный</td>\n",
       "      <td>-1.0</td>\n",
       "    </tr>\n",
       "    <tr>\n",
       "      <th>660</th>\n",
       "      <td>660</td>\n",
       "      <td>Отвёртка</td>\n",
       "      <td>Уфа</td>\n",
       "      <td>Зелёный</td>\n",
       "      <td>-1.0</td>\n",
       "    </tr>\n",
       "    <tr>\n",
       "      <th>780</th>\n",
       "      <td>780</td>\n",
       "      <td>Ручка</td>\n",
       "      <td>Самара</td>\n",
       "      <td>Белый</td>\n",
       "      <td>-1.0</td>\n",
       "    </tr>\n",
       "    <tr>\n",
       "      <th>840</th>\n",
       "      <td>840</td>\n",
       "      <td>Кожух</td>\n",
       "      <td>Саратов</td>\n",
       "      <td>Чёрный</td>\n",
       "      <td>-1.0</td>\n",
       "    </tr>\n",
       "  </tbody>\n",
       "</table>\n",
       "</div>"
      ],
      "text/plain": [
       "     PID     PName    PCity    Color  Weight\n",
       "180  180  Отвёртка   Самара    Синий    -1.0\n",
       "540  540     Ручка  Саратов  Красный    -1.0\n",
       "660  660  Отвёртка      Уфа  Зелёный    -1.0\n",
       "780  780     Ручка   Самара    Белый    -1.0\n",
       "840  840     Кожух  Саратов   Чёрный    -1.0"
      ]
     },
     "execution_count": 26,
     "metadata": {},
     "output_type": "execute_result"
    }
   ],
   "source": [
    "details[(details['Weight'] <= 0) | details['Weight'].isna()].head()"
   ]
  },
  {
   "cell_type": "code",
   "execution_count": 27,
   "metadata": {
    "ExecuteTime": {
     "end_time": "2019-03-10T19:11:58.133654Z",
     "start_time": "2019-03-10T19:11:58.123044Z"
    }
   },
   "outputs": [],
   "source": [
    "mean_weight = details[details['Weight'] > 0]['Weight'].mean()"
   ]
  },
  {
   "cell_type": "code",
   "execution_count": 28,
   "metadata": {
    "ExecuteTime": {
     "end_time": "2019-03-10T19:11:58.150513Z",
     "start_time": "2019-03-10T19:11:58.135199Z"
    }
   },
   "outputs": [],
   "source": [
    "details[details['Weight'] <= 0] = mean_weight\n",
    "details[details['Weight'].isna()] = mean_weight"
   ]
  },
  {
   "cell_type": "code",
   "execution_count": 29,
   "metadata": {
    "ExecuteTime": {
     "end_time": "2019-03-10T19:11:58.164759Z",
     "start_time": "2019-03-10T19:11:58.152571Z"
    }
   },
   "outputs": [
    {
     "data": {
      "text/html": [
       "<div>\n",
       "<style scoped>\n",
       "    .dataframe tbody tr th:only-of-type {\n",
       "        vertical-align: middle;\n",
       "    }\n",
       "\n",
       "    .dataframe tbody tr th {\n",
       "        vertical-align: top;\n",
       "    }\n",
       "\n",
       "    .dataframe thead th {\n",
       "        text-align: right;\n",
       "    }\n",
       "</style>\n",
       "<table border=\"1\" class=\"dataframe\">\n",
       "  <thead>\n",
       "    <tr style=\"text-align: right;\">\n",
       "      <th></th>\n",
       "      <th>PID</th>\n",
       "      <th>PName</th>\n",
       "      <th>PCity</th>\n",
       "      <th>Color</th>\n",
       "      <th>Weight</th>\n",
       "    </tr>\n",
       "  </thead>\n",
       "  <tbody>\n",
       "  </tbody>\n",
       "</table>\n",
       "</div>"
      ],
      "text/plain": [
       "Empty DataFrame\n",
       "Columns: [PID, PName, PCity, Color, Weight]\n",
       "Index: []"
      ]
     },
     "execution_count": 29,
     "metadata": {},
     "output_type": "execute_result"
    }
   ],
   "source": [
    "details[(details['Weight'] <= 0) | details['Weight'].isna()].head()"
   ]
  },
  {
   "cell_type": "markdown",
   "metadata": {},
   "source": [
    "#### UNIQUE (PName, PCity, Color)  \n",
    "Отбрасывание записей-дубликатов"
   ]
  },
  {
   "cell_type": "code",
   "execution_count": 30,
   "metadata": {
    "ExecuteTime": {
     "end_time": "2019-03-10T19:11:58.170275Z",
     "start_time": "2019-03-10T19:11:58.167110Z"
    }
   },
   "outputs": [],
   "source": [
    "details_unique_subset = ['PName', 'PCity', 'Color']"
   ]
  },
  {
   "cell_type": "code",
   "execution_count": 31,
   "metadata": {
    "ExecuteTime": {
     "end_time": "2019-03-10T19:11:58.189645Z",
     "start_time": "2019-03-10T19:11:58.172464Z"
    }
   },
   "outputs": [
    {
     "data": {
      "text/html": [
       "<div>\n",
       "<style scoped>\n",
       "    .dataframe tbody tr th:only-of-type {\n",
       "        vertical-align: middle;\n",
       "    }\n",
       "\n",
       "    .dataframe tbody tr th {\n",
       "        vertical-align: top;\n",
       "    }\n",
       "\n",
       "    .dataframe thead th {\n",
       "        text-align: right;\n",
       "    }\n",
       "</style>\n",
       "<table border=\"1\" class=\"dataframe\">\n",
       "  <thead>\n",
       "    <tr style=\"text-align: right;\">\n",
       "      <th></th>\n",
       "      <th>PID</th>\n",
       "      <th>PName</th>\n",
       "      <th>PCity</th>\n",
       "      <th>Color</th>\n",
       "      <th>Weight</th>\n",
       "    </tr>\n",
       "  </thead>\n",
       "  <tbody>\n",
       "    <tr>\n",
       "      <th>4</th>\n",
       "      <td>4.000000</td>\n",
       "      <td>Отвёртка</td>\n",
       "      <td>Новгород</td>\n",
       "      <td>Жёлтый</td>\n",
       "      <td>0.162000</td>\n",
       "    </tr>\n",
       "    <tr>\n",
       "      <th>119</th>\n",
       "      <td>119.000000</td>\n",
       "      <td>Радиатор</td>\n",
       "      <td>Барнаул</td>\n",
       "      <td>Чёрный</td>\n",
       "      <td>10.256000</td>\n",
       "    </tr>\n",
       "    <tr>\n",
       "      <th>120</th>\n",
       "      <td>120.000000</td>\n",
       "      <td>Радиатор</td>\n",
       "      <td>Барнаул</td>\n",
       "      <td>Чёрный</td>\n",
       "      <td>18.671000</td>\n",
       "    </tr>\n",
       "    <tr>\n",
       "      <th>180</th>\n",
       "      <td>7.272451</td>\n",
       "      <td>7.27245</td>\n",
       "      <td>7.27245</td>\n",
       "      <td>7.27245</td>\n",
       "      <td>7.272451</td>\n",
       "    </tr>\n",
       "    <tr>\n",
       "      <th>359</th>\n",
       "      <td>359.000000</td>\n",
       "      <td>Радиатор</td>\n",
       "      <td>Ростов-на-Дону</td>\n",
       "      <td>Зелёный</td>\n",
       "      <td>12.282000</td>\n",
       "    </tr>\n",
       "  </tbody>\n",
       "</table>\n",
       "</div>"
      ],
      "text/plain": [
       "            PID     PName           PCity    Color     Weight\n",
       "4      4.000000  Отвёртка        Новгород   Жёлтый   0.162000\n",
       "119  119.000000  Радиатор         Барнаул   Чёрный  10.256000\n",
       "120  120.000000  Радиатор         Барнаул   Чёрный  18.671000\n",
       "180    7.272451   7.27245         7.27245  7.27245   7.272451\n",
       "359  359.000000  Радиатор  Ростов-на-Дону  Зелёный  12.282000"
      ]
     },
     "execution_count": 31,
     "metadata": {},
     "output_type": "execute_result"
    }
   ],
   "source": [
    "details[details.duplicated(subset=details_unique_subset, keep=False)].head()"
   ]
  },
  {
   "cell_type": "code",
   "execution_count": 32,
   "metadata": {
    "ExecuteTime": {
     "end_time": "2019-03-10T19:11:58.200185Z",
     "start_time": "2019-03-10T19:11:58.194211Z"
    }
   },
   "outputs": [],
   "source": [
    "details = details.drop_duplicates(subset=details_unique_subset, keep='first')"
   ]
  },
  {
   "cell_type": "code",
   "execution_count": 33,
   "metadata": {
    "ExecuteTime": {
     "end_time": "2019-03-10T19:11:58.215232Z",
     "start_time": "2019-03-10T19:11:58.202072Z"
    }
   },
   "outputs": [
    {
     "data": {
      "text/html": [
       "<div>\n",
       "<style scoped>\n",
       "    .dataframe tbody tr th:only-of-type {\n",
       "        vertical-align: middle;\n",
       "    }\n",
       "\n",
       "    .dataframe tbody tr th {\n",
       "        vertical-align: top;\n",
       "    }\n",
       "\n",
       "    .dataframe thead th {\n",
       "        text-align: right;\n",
       "    }\n",
       "</style>\n",
       "<table border=\"1\" class=\"dataframe\">\n",
       "  <thead>\n",
       "    <tr style=\"text-align: right;\">\n",
       "      <th></th>\n",
       "      <th>PID</th>\n",
       "      <th>PName</th>\n",
       "      <th>PCity</th>\n",
       "      <th>Color</th>\n",
       "      <th>Weight</th>\n",
       "    </tr>\n",
       "  </thead>\n",
       "  <tbody>\n",
       "  </tbody>\n",
       "</table>\n",
       "</div>"
      ],
      "text/plain": [
       "Empty DataFrame\n",
       "Columns: [PID, PName, PCity, Color, Weight]\n",
       "Index: []"
      ]
     },
     "execution_count": 33,
     "metadata": {},
     "output_type": "execute_result"
    }
   ],
   "source": [
    "details[details.duplicated(subset=details_unique_subset, keep=False)].head()"
   ]
  },
  {
   "cell_type": "markdown",
   "metadata": {
    "ExecuteTime": {
     "end_time": "2019-03-10T18:26:09.908860Z",
     "start_time": "2019-03-10T18:26:09.906399Z"
    }
   },
   "source": [
    "### Поставки"
   ]
  },
  {
   "cell_type": "markdown",
   "metadata": {
    "heading_collapsed": true
   },
   "source": [
    "#### ShipDate NOT NULL\n",
    "Отбрасывание записи"
   ]
  },
  {
   "cell_type": "code",
   "execution_count": 34,
   "metadata": {
    "ExecuteTime": {
     "end_time": "2019-03-10T19:11:58.230520Z",
     "start_time": "2019-03-10T19:11:58.216846Z"
    },
    "hidden": true
   },
   "outputs": [
    {
     "data": {
      "text/html": [
       "<div>\n",
       "<style scoped>\n",
       "    .dataframe tbody tr th:only-of-type {\n",
       "        vertical-align: middle;\n",
       "    }\n",
       "\n",
       "    .dataframe tbody tr th {\n",
       "        vertical-align: top;\n",
       "    }\n",
       "\n",
       "    .dataframe thead th {\n",
       "        text-align: right;\n",
       "    }\n",
       "</style>\n",
       "<table border=\"1\" class=\"dataframe\">\n",
       "  <thead>\n",
       "    <tr style=\"text-align: right;\">\n",
       "      <th></th>\n",
       "      <th>SPID</th>\n",
       "      <th>SID</th>\n",
       "      <th>PID</th>\n",
       "      <th>Quantity</th>\n",
       "      <th>Price</th>\n",
       "      <th>ShipDate</th>\n",
       "    </tr>\n",
       "  </thead>\n",
       "  <tbody>\n",
       "    <tr>\n",
       "      <th>5400</th>\n",
       "      <td>5400</td>\n",
       "      <td>117</td>\n",
       "      <td>164</td>\n",
       "      <td>687</td>\n",
       "      <td>369.04</td>\n",
       "      <td>NaT</td>\n",
       "    </tr>\n",
       "    <tr>\n",
       "      <th>9000</th>\n",
       "      <td>9000</td>\n",
       "      <td>375</td>\n",
       "      <td>476</td>\n",
       "      <td>1</td>\n",
       "      <td>492.61</td>\n",
       "      <td>NaT</td>\n",
       "    </tr>\n",
       "    <tr>\n",
       "      <th>9600</th>\n",
       "      <td>9600</td>\n",
       "      <td>272</td>\n",
       "      <td>1149</td>\n",
       "      <td>53</td>\n",
       "      <td>470.73</td>\n",
       "      <td>NaT</td>\n",
       "    </tr>\n",
       "    <tr>\n",
       "      <th>11400</th>\n",
       "      <td>11400</td>\n",
       "      <td>100</td>\n",
       "      <td>533</td>\n",
       "      <td>659</td>\n",
       "      <td>493.28</td>\n",
       "      <td>NaT</td>\n",
       "    </tr>\n",
       "  </tbody>\n",
       "</table>\n",
       "</div>"
      ],
      "text/plain": [
       "        SPID  SID   PID  Quantity   Price ShipDate\n",
       "5400    5400  117   164       687  369.04      NaT\n",
       "9000    9000  375   476         1  492.61      NaT\n",
       "9600    9600  272  1149        53  470.73      NaT\n",
       "11400  11400  100   533       659  493.28      NaT"
      ]
     },
     "execution_count": 34,
     "metadata": {},
     "output_type": "execute_result"
    }
   ],
   "source": [
    "supplies[supplies['ShipDate'].isna()]"
   ]
  },
  {
   "cell_type": "code",
   "execution_count": 35,
   "metadata": {
    "ExecuteTime": {
     "end_time": "2019-03-10T19:11:58.240092Z",
     "start_time": "2019-03-10T19:11:58.232305Z"
    },
    "hidden": true
   },
   "outputs": [],
   "source": [
    "supplies = supplies.dropna(subset=['ShipDate'])"
   ]
  },
  {
   "cell_type": "code",
   "execution_count": 36,
   "metadata": {
    "ExecuteTime": {
     "end_time": "2019-03-10T19:11:58.252397Z",
     "start_time": "2019-03-10T19:11:58.243338Z"
    },
    "hidden": true
   },
   "outputs": [
    {
     "data": {
      "text/html": [
       "<div>\n",
       "<style scoped>\n",
       "    .dataframe tbody tr th:only-of-type {\n",
       "        vertical-align: middle;\n",
       "    }\n",
       "\n",
       "    .dataframe tbody tr th {\n",
       "        vertical-align: top;\n",
       "    }\n",
       "\n",
       "    .dataframe thead th {\n",
       "        text-align: right;\n",
       "    }\n",
       "</style>\n",
       "<table border=\"1\" class=\"dataframe\">\n",
       "  <thead>\n",
       "    <tr style=\"text-align: right;\">\n",
       "      <th></th>\n",
       "      <th>SPID</th>\n",
       "      <th>SID</th>\n",
       "      <th>PID</th>\n",
       "      <th>Quantity</th>\n",
       "      <th>Price</th>\n",
       "      <th>ShipDate</th>\n",
       "    </tr>\n",
       "  </thead>\n",
       "  <tbody>\n",
       "  </tbody>\n",
       "</table>\n",
       "</div>"
      ],
      "text/plain": [
       "Empty DataFrame\n",
       "Columns: [SPID, SID, PID, Quantity, Price, ShipDate]\n",
       "Index: []"
      ]
     },
     "execution_count": 36,
     "metadata": {},
     "output_type": "execute_result"
    }
   ],
   "source": [
    "supplies[supplies['ShipDate'].isna()]"
   ]
  },
  {
   "cell_type": "markdown",
   "metadata": {
    "ExecuteTime": {
     "end_time": "2019-03-10T18:28:28.112735Z",
     "start_time": "2019-03-10T18:28:28.107262Z"
    },
    "heading_collapsed": true
   },
   "source": [
    "#### Qty > 0  \n",
    "Замена ошибочного значения наиболее часто встречающимся значением риска сотрудничества в рамках данного города данного филиала"
   ]
  },
  {
   "cell_type": "code",
   "execution_count": 37,
   "metadata": {
    "ExecuteTime": {
     "end_time": "2019-03-10T19:11:58.269222Z",
     "start_time": "2019-03-10T19:11:58.254395Z"
    },
    "hidden": true
   },
   "outputs": [
    {
     "data": {
      "text/html": [
       "<div>\n",
       "<style scoped>\n",
       "    .dataframe tbody tr th:only-of-type {\n",
       "        vertical-align: middle;\n",
       "    }\n",
       "\n",
       "    .dataframe tbody tr th {\n",
       "        vertical-align: top;\n",
       "    }\n",
       "\n",
       "    .dataframe thead th {\n",
       "        text-align: right;\n",
       "    }\n",
       "</style>\n",
       "<table border=\"1\" class=\"dataframe\">\n",
       "  <thead>\n",
       "    <tr style=\"text-align: right;\">\n",
       "      <th></th>\n",
       "      <th>SPID</th>\n",
       "      <th>SID</th>\n",
       "      <th>PID</th>\n",
       "      <th>Quantity</th>\n",
       "      <th>Price</th>\n",
       "      <th>ShipDate</th>\n",
       "    </tr>\n",
       "  </thead>\n",
       "  <tbody>\n",
       "    <tr>\n",
       "      <th>1200</th>\n",
       "      <td>1200</td>\n",
       "      <td>219</td>\n",
       "      <td>26</td>\n",
       "      <td>-1</td>\n",
       "      <td>72.33</td>\n",
       "      <td>2014-05-05</td>\n",
       "    </tr>\n",
       "    <tr>\n",
       "      <th>1800</th>\n",
       "      <td>1800</td>\n",
       "      <td>1020</td>\n",
       "      <td>816</td>\n",
       "      <td>-1</td>\n",
       "      <td>381.99</td>\n",
       "      <td>2013-06-14</td>\n",
       "    </tr>\n",
       "    <tr>\n",
       "      <th>3000</th>\n",
       "      <td>3000</td>\n",
       "      <td>990</td>\n",
       "      <td>431</td>\n",
       "      <td>-1</td>\n",
       "      <td>298.71</td>\n",
       "      <td>2013-03-20</td>\n",
       "    </tr>\n",
       "    <tr>\n",
       "      <th>4800</th>\n",
       "      <td>4800</td>\n",
       "      <td>144</td>\n",
       "      <td>776</td>\n",
       "      <td>-1</td>\n",
       "      <td>393.41</td>\n",
       "      <td>2014-05-17</td>\n",
       "    </tr>\n",
       "    <tr>\n",
       "      <th>6000</th>\n",
       "      <td>6000</td>\n",
       "      <td>205</td>\n",
       "      <td>573</td>\n",
       "      <td>-1</td>\n",
       "      <td>219.51</td>\n",
       "      <td>2014-12-11</td>\n",
       "    </tr>\n",
       "  </tbody>\n",
       "</table>\n",
       "</div>"
      ],
      "text/plain": [
       "      SPID   SID  PID  Quantity   Price   ShipDate\n",
       "1200  1200   219   26        -1   72.33 2014-05-05\n",
       "1800  1800  1020  816        -1  381.99 2013-06-14\n",
       "3000  3000   990  431        -1  298.71 2013-03-20\n",
       "4800  4800   144  776        -1  393.41 2014-05-17\n",
       "6000  6000   205  573        -1  219.51 2014-12-11"
      ]
     },
     "execution_count": 37,
     "metadata": {},
     "output_type": "execute_result"
    }
   ],
   "source": [
    "supplies[supplies['Quantity'] <= 0].head()"
   ]
  },
  {
   "cell_type": "code",
   "execution_count": 38,
   "metadata": {
    "ExecuteTime": {
     "end_time": "2019-03-10T19:12:01.062031Z",
     "start_time": "2019-03-10T19:11:58.271132Z"
    },
    "hidden": true
   },
   "outputs": [],
   "source": [
    "supplies = supplies.apply(\n",
    "    apply_most_common_constraint(supplies, 'Quantity', extra_f=lambda e: e['Quantity'] <= 0), \n",
    "    axis=1,\n",
    ")"
   ]
  },
  {
   "cell_type": "code",
   "execution_count": 39,
   "metadata": {
    "ExecuteTime": {
     "end_time": "2019-03-10T19:12:01.071582Z",
     "start_time": "2019-03-10T19:12:01.063954Z"
    },
    "hidden": true
   },
   "outputs": [
    {
     "data": {
      "text/html": [
       "<div>\n",
       "<style scoped>\n",
       "    .dataframe tbody tr th:only-of-type {\n",
       "        vertical-align: middle;\n",
       "    }\n",
       "\n",
       "    .dataframe tbody tr th {\n",
       "        vertical-align: top;\n",
       "    }\n",
       "\n",
       "    .dataframe thead th {\n",
       "        text-align: right;\n",
       "    }\n",
       "</style>\n",
       "<table border=\"1\" class=\"dataframe\">\n",
       "  <thead>\n",
       "    <tr style=\"text-align: right;\">\n",
       "      <th></th>\n",
       "      <th>SPID</th>\n",
       "      <th>SID</th>\n",
       "      <th>PID</th>\n",
       "      <th>Quantity</th>\n",
       "      <th>Price</th>\n",
       "      <th>ShipDate</th>\n",
       "    </tr>\n",
       "  </thead>\n",
       "  <tbody>\n",
       "  </tbody>\n",
       "</table>\n",
       "</div>"
      ],
      "text/plain": [
       "Empty DataFrame\n",
       "Columns: [SPID, SID, PID, Quantity, Price, ShipDate]\n",
       "Index: []"
      ]
     },
     "execution_count": 39,
     "metadata": {},
     "output_type": "execute_result"
    }
   ],
   "source": [
    "supplies[supplies['Quantity'] <= 0].head()"
   ]
  },
  {
   "cell_type": "markdown",
   "metadata": {
    "ExecuteTime": {
     "end_time": "2019-03-10T18:33:21.043015Z",
     "start_time": "2019-03-10T18:33:21.038402Z"
    }
   },
   "source": [
    "#### Price > 0\n",
    "Замена ошибочного значения средним значением цены деталей в рамках данного города данного филиала"
   ]
  },
  {
   "cell_type": "code",
   "execution_count": 40,
   "metadata": {
    "ExecuteTime": {
     "end_time": "2019-03-10T19:12:01.083799Z",
     "start_time": "2019-03-10T19:12:01.073881Z"
    }
   },
   "outputs": [],
   "source": [
    "supplies['Price'] = pd.to_numeric(supplies['Price'], errors='coerce')"
   ]
  },
  {
   "cell_type": "code",
   "execution_count": 41,
   "metadata": {
    "ExecuteTime": {
     "end_time": "2019-03-10T19:12:01.100718Z",
     "start_time": "2019-03-10T19:12:01.085765Z"
    }
   },
   "outputs": [
    {
     "data": {
      "text/html": [
       "<div>\n",
       "<style scoped>\n",
       "    .dataframe tbody tr th:only-of-type {\n",
       "        vertical-align: middle;\n",
       "    }\n",
       "\n",
       "    .dataframe tbody tr th {\n",
       "        vertical-align: top;\n",
       "    }\n",
       "\n",
       "    .dataframe thead th {\n",
       "        text-align: right;\n",
       "    }\n",
       "</style>\n",
       "<table border=\"1\" class=\"dataframe\">\n",
       "  <thead>\n",
       "    <tr style=\"text-align: right;\">\n",
       "      <th></th>\n",
       "      <th>SPID</th>\n",
       "      <th>SID</th>\n",
       "      <th>PID</th>\n",
       "      <th>Quantity</th>\n",
       "      <th>Price</th>\n",
       "      <th>ShipDate</th>\n",
       "    </tr>\n",
       "  </thead>\n",
       "  <tbody>\n",
       "    <tr>\n",
       "      <th>1</th>\n",
       "      <td>1</td>\n",
       "      <td>714</td>\n",
       "      <td>603</td>\n",
       "      <td>35</td>\n",
       "      <td>NaN</td>\n",
       "      <td>2014-04-23</td>\n",
       "    </tr>\n",
       "    <tr>\n",
       "      <th>184</th>\n",
       "      <td>184</td>\n",
       "      <td>371</td>\n",
       "      <td>1150</td>\n",
       "      <td>5</td>\n",
       "      <td>NaN</td>\n",
       "      <td>2013-12-05</td>\n",
       "    </tr>\n",
       "    <tr>\n",
       "      <th>201</th>\n",
       "      <td>201</td>\n",
       "      <td>152</td>\n",
       "      <td>775</td>\n",
       "      <td>8</td>\n",
       "      <td>NaN</td>\n",
       "      <td>2014-08-22</td>\n",
       "    </tr>\n",
       "    <tr>\n",
       "      <th>578</th>\n",
       "      <td>578</td>\n",
       "      <td>61</td>\n",
       "      <td>886</td>\n",
       "      <td>56</td>\n",
       "      <td>NaN</td>\n",
       "      <td>2013-09-17</td>\n",
       "    </tr>\n",
       "    <tr>\n",
       "      <th>654</th>\n",
       "      <td>654</td>\n",
       "      <td>355</td>\n",
       "      <td>137</td>\n",
       "      <td>454</td>\n",
       "      <td>NaN</td>\n",
       "      <td>2014-11-04</td>\n",
       "    </tr>\n",
       "  </tbody>\n",
       "</table>\n",
       "</div>"
      ],
      "text/plain": [
       "     SPID  SID   PID  Quantity  Price   ShipDate\n",
       "1       1  714   603        35    NaN 2014-04-23\n",
       "184   184  371  1150         5    NaN 2013-12-05\n",
       "201   201  152   775         8    NaN 2014-08-22\n",
       "578   578   61   886        56    NaN 2013-09-17\n",
       "654   654  355   137       454    NaN 2014-11-04"
      ]
     },
     "execution_count": 41,
     "metadata": {},
     "output_type": "execute_result"
    }
   ],
   "source": [
    "supplies[supplies['Price'].isna() | (supplies['Price'] <= 0)].head()"
   ]
  },
  {
   "cell_type": "code",
   "execution_count": 42,
   "metadata": {
    "ExecuteTime": {
     "end_time": "2019-03-10T19:12:01.110278Z",
     "start_time": "2019-03-10T19:12:01.102622Z"
    }
   },
   "outputs": [],
   "source": [
    "mean_price = supplies[np.logical_not(supplies['Price'].isna() | (supplies['Price'] <= 0))]['Price'].mean()"
   ]
  },
  {
   "cell_type": "code",
   "execution_count": 43,
   "metadata": {
    "ExecuteTime": {
     "end_time": "2019-03-10T19:12:01.147246Z",
     "start_time": "2019-03-10T19:12:01.112254Z"
    }
   },
   "outputs": [],
   "source": [
    "supplies[supplies['Price'].isna() | (supplies['Price'] <= 0)] = mean_price"
   ]
  },
  {
   "cell_type": "code",
   "execution_count": 44,
   "metadata": {
    "ExecuteTime": {
     "end_time": "2019-03-10T19:12:01.159222Z",
     "start_time": "2019-03-10T19:12:01.149104Z"
    }
   },
   "outputs": [
    {
     "data": {
      "text/html": [
       "<div>\n",
       "<style scoped>\n",
       "    .dataframe tbody tr th:only-of-type {\n",
       "        vertical-align: middle;\n",
       "    }\n",
       "\n",
       "    .dataframe tbody tr th {\n",
       "        vertical-align: top;\n",
       "    }\n",
       "\n",
       "    .dataframe thead th {\n",
       "        text-align: right;\n",
       "    }\n",
       "</style>\n",
       "<table border=\"1\" class=\"dataframe\">\n",
       "  <thead>\n",
       "    <tr style=\"text-align: right;\">\n",
       "      <th></th>\n",
       "      <th>SPID</th>\n",
       "      <th>SID</th>\n",
       "      <th>PID</th>\n",
       "      <th>Quantity</th>\n",
       "      <th>Price</th>\n",
       "      <th>ShipDate</th>\n",
       "    </tr>\n",
       "  </thead>\n",
       "  <tbody>\n",
       "  </tbody>\n",
       "</table>\n",
       "</div>"
      ],
      "text/plain": [
       "Empty DataFrame\n",
       "Columns: [SPID, SID, PID, Quantity, Price, ShipDate]\n",
       "Index: []"
      ]
     },
     "execution_count": 44,
     "metadata": {},
     "output_type": "execute_result"
    }
   ],
   "source": [
    "supplies[supplies['Price'].isna() | (supplies['Price'] <= 0)].head()"
   ]
  },
  {
   "cell_type": "code",
   "execution_count": 45,
   "metadata": {
    "ExecuteTime": {
     "end_time": "2019-03-10T19:12:01.164701Z",
     "start_time": "2019-03-10T19:12:01.161317Z"
    }
   },
   "outputs": [],
   "source": [
    "#### Уберем данные, которых уже нет"
   ]
  },
  {
   "cell_type": "code",
   "execution_count": 46,
   "metadata": {
    "ExecuteTime": {
     "end_time": "2019-03-10T19:12:01.170696Z",
     "start_time": "2019-03-10T19:12:01.166794Z"
    }
   },
   "outputs": [],
   "source": [
    "def apply_existance_constaints(row):\n",
    "    row = row.copy()\n",
    "    if (\n",
    "        (row['PID'] not in details['PID']) \n",
    "        or (row['SID'] not in providers['SID'])\n",
    "    ):\n",
    "        row['SPID'] = None\n",
    "    return row"
   ]
  },
  {
   "cell_type": "code",
   "execution_count": 47,
   "metadata": {
    "ExecuteTime": {
     "end_time": "2019-03-10T19:12:04.514907Z",
     "start_time": "2019-03-10T19:12:01.174239Z"
    }
   },
   "outputs": [],
   "source": [
    "supplies = supplies.apply(apply_existance_constaints, axis=1).dropna(subset=['SPID'])"
   ]
  },
  {
   "cell_type": "markdown",
   "metadata": {
    "ExecuteTime": {
     "end_time": "2019-03-10T18:50:52.372368Z",
     "start_time": "2019-03-10T18:50:52.361934Z"
    }
   },
   "source": [
    "#### SP.Qty * P.Weight <= 1500  \n",
    "Отбрасывание записи"
   ]
  },
  {
   "cell_type": "code",
   "execution_count": 48,
   "metadata": {
    "ExecuteTime": {
     "end_time": "2019-03-10T19:12:04.532577Z",
     "start_time": "2019-03-10T19:12:04.517146Z"
    }
   },
   "outputs": [
    {
     "data": {
      "text/html": [
       "<div>\n",
       "<style scoped>\n",
       "    .dataframe tbody tr th:only-of-type {\n",
       "        vertical-align: middle;\n",
       "    }\n",
       "\n",
       "    .dataframe tbody tr th {\n",
       "        vertical-align: top;\n",
       "    }\n",
       "\n",
       "    .dataframe thead th {\n",
       "        text-align: right;\n",
       "    }\n",
       "</style>\n",
       "<table border=\"1\" class=\"dataframe\">\n",
       "  <thead>\n",
       "    <tr style=\"text-align: right;\">\n",
       "      <th></th>\n",
       "      <th>PID</th>\n",
       "      <th>Weight</th>\n",
       "    </tr>\n",
       "  </thead>\n",
       "  <tbody>\n",
       "    <tr>\n",
       "      <th>0</th>\n",
       "      <td>0.0</td>\n",
       "      <td>0.852</td>\n",
       "    </tr>\n",
       "    <tr>\n",
       "      <th>1</th>\n",
       "      <td>1.0</td>\n",
       "      <td>1.731</td>\n",
       "    </tr>\n",
       "    <tr>\n",
       "      <th>2</th>\n",
       "      <td>2.0</td>\n",
       "      <td>0.866</td>\n",
       "    </tr>\n",
       "    <tr>\n",
       "      <th>3</th>\n",
       "      <td>3.0</td>\n",
       "      <td>1.166</td>\n",
       "    </tr>\n",
       "    <tr>\n",
       "      <th>4</th>\n",
       "      <td>4.0</td>\n",
       "      <td>0.162</td>\n",
       "    </tr>\n",
       "  </tbody>\n",
       "</table>\n",
       "</div>"
      ],
      "text/plain": [
       "   PID  Weight\n",
       "0  0.0   0.852\n",
       "1  1.0   1.731\n",
       "2  2.0   0.866\n",
       "3  3.0   1.166\n",
       "4  4.0   0.162"
      ]
     },
     "execution_count": 48,
     "metadata": {},
     "output_type": "execute_result"
    }
   ],
   "source": [
    "details[['PID', 'Weight']].head()"
   ]
  },
  {
   "cell_type": "code",
   "execution_count": 49,
   "metadata": {
    "ExecuteTime": {
     "end_time": "2019-03-10T19:12:04.550157Z",
     "start_time": "2019-03-10T19:12:04.535725Z"
    }
   },
   "outputs": [],
   "source": [
    "qty_and_weight = supplies[['PID', 'Quantity']].join(details[['PID', 'Weight']].set_index('PID'), on='PID', how='left')"
   ]
  },
  {
   "cell_type": "code",
   "execution_count": 50,
   "metadata": {
    "ExecuteTime": {
     "end_time": "2019-03-10T19:12:04.561766Z",
     "start_time": "2019-03-10T19:12:04.551550Z"
    }
   },
   "outputs": [
    {
     "data": {
      "text/html": [
       "<div>\n",
       "<style scoped>\n",
       "    .dataframe tbody tr th:only-of-type {\n",
       "        vertical-align: middle;\n",
       "    }\n",
       "\n",
       "    .dataframe tbody tr th {\n",
       "        vertical-align: top;\n",
       "    }\n",
       "\n",
       "    .dataframe thead th {\n",
       "        text-align: right;\n",
       "    }\n",
       "</style>\n",
       "<table border=\"1\" class=\"dataframe\">\n",
       "  <thead>\n",
       "    <tr style=\"text-align: right;\">\n",
       "      <th></th>\n",
       "      <th>PID</th>\n",
       "      <th>Quantity</th>\n",
       "      <th>Weight</th>\n",
       "    </tr>\n",
       "  </thead>\n",
       "  <tbody>\n",
       "    <tr>\n",
       "      <th>0</th>\n",
       "      <td>303.0</td>\n",
       "      <td>144.0</td>\n",
       "      <td>13.833</td>\n",
       "    </tr>\n",
       "    <tr>\n",
       "      <th>2</th>\n",
       "      <td>648.0</td>\n",
       "      <td>23.0</td>\n",
       "      <td>19.232</td>\n",
       "    </tr>\n",
       "    <tr>\n",
       "      <th>3</th>\n",
       "      <td>265.0</td>\n",
       "      <td>22.0</td>\n",
       "      <td>1.586</td>\n",
       "    </tr>\n",
       "    <tr>\n",
       "      <th>4</th>\n",
       "      <td>114.0</td>\n",
       "      <td>250.0</td>\n",
       "      <td>0.945</td>\n",
       "    </tr>\n",
       "    <tr>\n",
       "      <th>5</th>\n",
       "      <td>1005.0</td>\n",
       "      <td>37.0</td>\n",
       "      <td>19.466</td>\n",
       "    </tr>\n",
       "  </tbody>\n",
       "</table>\n",
       "</div>"
      ],
      "text/plain": [
       "      PID  Quantity  Weight\n",
       "0   303.0     144.0  13.833\n",
       "2   648.0      23.0  19.232\n",
       "3   265.0      22.0   1.586\n",
       "4   114.0     250.0   0.945\n",
       "5  1005.0      37.0  19.466"
      ]
     },
     "execution_count": 50,
     "metadata": {},
     "output_type": "execute_result"
    }
   ],
   "source": [
    "qty_and_weight.head()"
   ]
  },
  {
   "cell_type": "code",
   "execution_count": 52,
   "metadata": {
    "ExecuteTime": {
     "end_time": "2019-03-10T19:12:16.525628Z",
     "start_time": "2019-03-10T19:12:16.515142Z"
    }
   },
   "outputs": [],
   "source": [
    "valid_supplies_indices = qty_and_weight['Quantity'] * qty_and_weight['Weight'] <= 1500"
   ]
  },
  {
   "cell_type": "code",
   "execution_count": 53,
   "metadata": {
    "ExecuteTime": {
     "end_time": "2019-03-10T19:12:17.051050Z",
     "start_time": "2019-03-10T19:12:17.045516Z"
    }
   },
   "outputs": [],
   "source": [
    "supplies = supplies[valid_supplies_indices]"
   ]
  },
  {
   "cell_type": "markdown",
   "metadata": {
    "ExecuteTime": {
     "end_time": "2019-03-10T19:24:22.429746Z",
     "start_time": "2019-03-10T19:24:22.426839Z"
    }
   },
   "source": [
    "## Сохранить результаты"
   ]
  },
  {
   "cell_type": "code",
   "execution_count": 69,
   "metadata": {
    "ExecuteTime": {
     "end_time": "2019-03-10T19:28:31.342237Z",
     "start_time": "2019-03-10T19:28:31.338048Z"
    }
   },
   "outputs": [],
   "source": [
    "shutil.rmtree(INSTANCE_DIR, ignore_errors=True)"
   ]
  },
  {
   "cell_type": "code",
   "execution_count": 70,
   "metadata": {
    "ExecuteTime": {
     "end_time": "2019-03-10T19:28:40.701926Z",
     "start_time": "2019-03-10T19:28:40.698462Z"
    }
   },
   "outputs": [],
   "source": [
    "os.mkdir('instance')"
   ]
  },
  {
   "cell_type": "code",
   "execution_count": 67,
   "metadata": {
    "ExecuteTime": {
     "end_time": "2019-03-10T19:27:49.190854Z",
     "start_time": "2019-03-10T19:27:49.177588Z"
    }
   },
   "outputs": [],
   "source": [
    "providers.to_csv('instance/s.csv', index=False)"
   ]
  },
  {
   "cell_type": "code",
   "execution_count": 73,
   "metadata": {
    "ExecuteTime": {
     "end_time": "2019-03-10T19:29:20.959284Z",
     "start_time": "2019-03-10T19:29:20.950540Z"
    }
   },
   "outputs": [
    {
     "ename": "AttributeError",
     "evalue": "module 'pandas' has no attribute 'to_csv'",
     "output_type": "error",
     "traceback": [
      "\u001b[0;31m---------------------------------------------------------------------------\u001b[0m",
      "\u001b[0;31mAttributeError\u001b[0m                            Traceback (most recent call last)",
      "\u001b[0;32m<ipython-input-73-1e6d63ba9ef5>\u001b[0m in \u001b[0;36m<module>\u001b[0;34m\u001b[0m\n\u001b[0;32m----> 1\u001b[0;31m \u001b[0mpd\u001b[0m\u001b[0;34m.\u001b[0m\u001b[0mto_csv\u001b[0m\u001b[0;34m\u001b[0m\u001b[0m\n\u001b[0m",
      "\u001b[0;31mAttributeError\u001b[0m: module 'pandas' has no attribute 'to_csv'"
     ]
    }
   ],
   "source": []
  },
  {
   "cell_type": "code",
   "execution_count": null,
   "metadata": {},
   "outputs": [],
   "source": []
  }
 ],
 "metadata": {
  "kernelspec": {
   "display_name": "Python 3",
   "language": "python",
   "name": "python3"
  },
  "language_info": {
   "codemirror_mode": {
    "name": "ipython",
    "version": 3
   },
   "file_extension": ".py",
   "mimetype": "text/x-python",
   "name": "python",
   "nbconvert_exporter": "python",
   "pygments_lexer": "ipython3",
   "version": "3.6.5"
  }
 },
 "nbformat": 4,
 "nbformat_minor": 2
}
