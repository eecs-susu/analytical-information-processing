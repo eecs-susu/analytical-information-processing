{
 "cells": [
  {
   "cell_type": "code",
   "execution_count": 3,
   "metadata": {
    "ExecuteTime": {
     "end_time": "2019-03-10T16:57:31.300565Z",
     "start_time": "2019-03-10T16:57:31.296940Z"
    }
   },
   "outputs": [],
   "source": [
    "import pandas as pd\n",
    "import numpy as np\n",
    "from collections import Counter"
   ]
  },
  {
   "cell_type": "code",
   "execution_count": 4,
   "metadata": {
    "ExecuteTime": {
     "end_time": "2019-03-10T16:57:58.805220Z",
     "start_time": "2019-03-10T16:57:58.801765Z"
    }
   },
   "outputs": [],
   "source": [
    "XLSX_PATH = '../data/Branch_2.xlsx'"
   ]
  },
  {
   "cell_type": "code",
   "execution_count": 6,
   "metadata": {
    "ExecuteTime": {
     "end_time": "2019-03-10T16:58:17.500795Z",
     "start_time": "2019-03-10T16:58:16.205530Z"
    }
   },
   "outputs": [],
   "source": [
    "sheets = pd.read_excel(XLSX_PATH, sheet_name=[0, 1, 2])"
   ]
  },
  {
   "cell_type": "code",
   "execution_count": 213,
   "metadata": {
    "ExecuteTime": {
     "end_time": "2019-03-10T18:05:35.646145Z",
     "start_time": "2019-03-10T18:05:35.642287Z"
    }
   },
   "outputs": [],
   "source": [
    "providers, details, supplies = sheets[0], sheets[1], sheets[2]"
   ]
  },
  {
   "cell_type": "markdown",
   "metadata": {},
   "source": [
    "## Ограничения целостности"
   ]
  },
  {
   "cell_type": "markdown",
   "metadata": {},
   "source": [
    "### Поставщики "
   ]
  },
  {
   "cell_type": "markdown",
   "metadata": {},
   "source": [
    "#### SName NOT NULL\n",
    "Отбрасывание записи"
   ]
  },
  {
   "cell_type": "code",
   "execution_count": 214,
   "metadata": {
    "ExecuteTime": {
     "end_time": "2019-03-10T18:05:36.221576Z",
     "start_time": "2019-03-10T18:05:36.209471Z"
    }
   },
   "outputs": [
    {
     "data": {
      "text/html": [
       "<div>\n",
       "<style scoped>\n",
       "    .dataframe tbody tr th:only-of-type {\n",
       "        vertical-align: middle;\n",
       "    }\n",
       "\n",
       "    .dataframe tbody tr th {\n",
       "        vertical-align: top;\n",
       "    }\n",
       "\n",
       "    .dataframe thead th {\n",
       "        text-align: right;\n",
       "    }\n",
       "</style>\n",
       "<table border=\"1\" class=\"dataframe\">\n",
       "  <thead>\n",
       "    <tr style=\"text-align: right;\">\n",
       "      <th></th>\n",
       "      <th>SID</th>\n",
       "      <th>SName</th>\n",
       "      <th>SCity</th>\n",
       "      <th>Address</th>\n",
       "      <th>Risk</th>\n",
       "    </tr>\n",
       "  </thead>\n",
       "  <tbody>\n",
       "    <tr>\n",
       "      <th>240</th>\n",
       "      <td>240</td>\n",
       "      <td>NaN</td>\n",
       "      <td>Саратов</td>\n",
       "      <td>Учебная 21</td>\n",
       "      <td>3.0</td>\n",
       "    </tr>\n",
       "    <tr>\n",
       "      <th>900</th>\n",
       "      <td>900</td>\n",
       "      <td>NaN</td>\n",
       "      <td>﻿Москва</td>\n",
       "      <td>Южная 23</td>\n",
       "      <td>2.0</td>\n",
       "    </tr>\n",
       "  </tbody>\n",
       "</table>\n",
       "</div>"
      ],
      "text/plain": [
       "     SID SName    SCity     Address  Risk\n",
       "240  240   NaN  Саратов  Учебная 21   3.0\n",
       "900  900   NaN  ﻿Москва    Южная 23   2.0"
      ]
     },
     "execution_count": 214,
     "metadata": {},
     "output_type": "execute_result"
    }
   ],
   "source": [
    "providers[providers['SName'].isna()].head()"
   ]
  },
  {
   "cell_type": "code",
   "execution_count": 215,
   "metadata": {
    "ExecuteTime": {
     "end_time": "2019-03-10T18:05:36.370409Z",
     "start_time": "2019-03-10T18:05:36.364084Z"
    }
   },
   "outputs": [],
   "source": [
    "providers = providers.dropna(subset=['SName'])"
   ]
  },
  {
   "cell_type": "code",
   "execution_count": 216,
   "metadata": {
    "ExecuteTime": {
     "end_time": "2019-03-10T18:05:36.510219Z",
     "start_time": "2019-03-10T18:05:36.501464Z"
    }
   },
   "outputs": [
    {
     "data": {
      "text/html": [
       "<div>\n",
       "<style scoped>\n",
       "    .dataframe tbody tr th:only-of-type {\n",
       "        vertical-align: middle;\n",
       "    }\n",
       "\n",
       "    .dataframe tbody tr th {\n",
       "        vertical-align: top;\n",
       "    }\n",
       "\n",
       "    .dataframe thead th {\n",
       "        text-align: right;\n",
       "    }\n",
       "</style>\n",
       "<table border=\"1\" class=\"dataframe\">\n",
       "  <thead>\n",
       "    <tr style=\"text-align: right;\">\n",
       "      <th></th>\n",
       "      <th>SID</th>\n",
       "      <th>SName</th>\n",
       "      <th>SCity</th>\n",
       "      <th>Address</th>\n",
       "      <th>Risk</th>\n",
       "    </tr>\n",
       "  </thead>\n",
       "  <tbody>\n",
       "  </tbody>\n",
       "</table>\n",
       "</div>"
      ],
      "text/plain": [
       "Empty DataFrame\n",
       "Columns: [SID, SName, SCity, Address, Risk]\n",
       "Index: []"
      ]
     },
     "execution_count": 216,
     "metadata": {},
     "output_type": "execute_result"
    }
   ],
   "source": [
    "providers[providers['SName'].isna()].head()"
   ]
  },
  {
   "cell_type": "markdown",
   "metadata": {},
   "source": [
    "#### SCity NOT NULL\n",
    "Замена пустого значения наиболее часто встречающимся значением города поставщика в рамках данного филиала"
   ]
  },
  {
   "cell_type": "code",
   "execution_count": 217,
   "metadata": {
    "ExecuteTime": {
     "end_time": "2019-03-10T18:05:36.818845Z",
     "start_time": "2019-03-10T18:05:36.804994Z"
    }
   },
   "outputs": [
    {
     "data": {
      "text/html": [
       "<div>\n",
       "<style scoped>\n",
       "    .dataframe tbody tr th:only-of-type {\n",
       "        vertical-align: middle;\n",
       "    }\n",
       "\n",
       "    .dataframe tbody tr th {\n",
       "        vertical-align: top;\n",
       "    }\n",
       "\n",
       "    .dataframe thead th {\n",
       "        text-align: right;\n",
       "    }\n",
       "</style>\n",
       "<table border=\"1\" class=\"dataframe\">\n",
       "  <thead>\n",
       "    <tr style=\"text-align: right;\">\n",
       "      <th></th>\n",
       "      <th>SID</th>\n",
       "      <th>SName</th>\n",
       "      <th>SCity</th>\n",
       "      <th>Address</th>\n",
       "      <th>Risk</th>\n",
       "    </tr>\n",
       "  </thead>\n",
       "  <tbody>\n",
       "    <tr>\n",
       "      <th>540</th>\n",
       "      <td>540</td>\n",
       "      <td>Феникс</td>\n",
       "      <td>NaN</td>\n",
       "      <td>Уральская 37</td>\n",
       "      <td>1.0</td>\n",
       "    </tr>\n",
       "    <tr>\n",
       "      <th>660</th>\n",
       "      <td>660</td>\n",
       "      <td>ООО \"МТА\"</td>\n",
       "      <td>NaN</td>\n",
       "      <td>Ереванская 46</td>\n",
       "      <td>2.0</td>\n",
       "    </tr>\n",
       "    <tr>\n",
       "      <th>780</th>\n",
       "      <td>780</td>\n",
       "      <td>ООО \"Эльтадор-М\"</td>\n",
       "      <td>NaN</td>\n",
       "      <td>Родькина 47</td>\n",
       "      <td>1.0</td>\n",
       "    </tr>\n",
       "    <tr>\n",
       "      <th>1020</th>\n",
       "      <td>1020</td>\n",
       "      <td>СлавКабель</td>\n",
       "      <td>NaN</td>\n",
       "      <td>Литовская 31</td>\n",
       "      <td>1.0</td>\n",
       "    </tr>\n",
       "  </tbody>\n",
       "</table>\n",
       "</div>"
      ],
      "text/plain": [
       "       SID             SName SCity        Address  Risk\n",
       "540    540            Феникс   NaN   Уральская 37   1.0\n",
       "660    660         ООО \"МТА\"   NaN  Ереванская 46   2.0\n",
       "780    780  ООО \"Эльтадор-М\"   NaN    Родькина 47   1.0\n",
       "1020  1020        СлавКабель   NaN   Литовская 31   1.0"
      ]
     },
     "execution_count": 217,
     "metadata": {},
     "output_type": "execute_result"
    }
   ],
   "source": [
    "providers[providers['SCity'].isna()]"
   ]
  },
  {
   "cell_type": "code",
   "execution_count": 218,
   "metadata": {
    "ExecuteTime": {
     "end_time": "2019-03-10T18:05:36.958464Z",
     "start_time": "2019-03-10T18:05:36.953230Z"
    }
   },
   "outputs": [],
   "source": [
    "def apply_most_common_constraint(container, column_name, name_column=None):\n",
    "    container = container.dropna(subset=[column_name])\n",
    "    def apply_each_row(row):\n",
    "        row = row.copy()\n",
    "        if pd.isna(row[column_name]):\n",
    "            if name_column is not None:\n",
    "                freq = Counter(container[container[name_column] == row[name_column]][column_name])\n",
    "            else:\n",
    "                freq = Counter(container[column_name])\n",
    "            most_common = freq.most_common()[0][0]\n",
    "            row[column_name] = most_common\n",
    "        return row\n",
    "    return apply_each_row"
   ]
  },
  {
   "cell_type": "code",
   "execution_count": 219,
   "metadata": {
    "ExecuteTime": {
     "end_time": "2019-03-10T18:05:37.410120Z",
     "start_time": "2019-03-10T18:05:37.097264Z"
    }
   },
   "outputs": [],
   "source": [
    "providers = providers.apply(\n",
    "    apply_most_common_constraint(providers, 'SCity', 'SName'), \n",
    "    axis=1,\n",
    ")"
   ]
  },
  {
   "cell_type": "code",
   "execution_count": 220,
   "metadata": {
    "ExecuteTime": {
     "end_time": "2019-03-10T18:05:37.423212Z",
     "start_time": "2019-03-10T18:05:37.413820Z"
    }
   },
   "outputs": [
    {
     "data": {
      "text/html": [
       "<div>\n",
       "<style scoped>\n",
       "    .dataframe tbody tr th:only-of-type {\n",
       "        vertical-align: middle;\n",
       "    }\n",
       "\n",
       "    .dataframe tbody tr th {\n",
       "        vertical-align: top;\n",
       "    }\n",
       "\n",
       "    .dataframe thead th {\n",
       "        text-align: right;\n",
       "    }\n",
       "</style>\n",
       "<table border=\"1\" class=\"dataframe\">\n",
       "  <thead>\n",
       "    <tr style=\"text-align: right;\">\n",
       "      <th></th>\n",
       "      <th>SID</th>\n",
       "      <th>SName</th>\n",
       "      <th>SCity</th>\n",
       "      <th>Address</th>\n",
       "      <th>Risk</th>\n",
       "    </tr>\n",
       "  </thead>\n",
       "  <tbody>\n",
       "  </tbody>\n",
       "</table>\n",
       "</div>"
      ],
      "text/plain": [
       "Empty DataFrame\n",
       "Columns: [SID, SName, SCity, Address, Risk]\n",
       "Index: []"
      ]
     },
     "execution_count": 220,
     "metadata": {},
     "output_type": "execute_result"
    }
   ],
   "source": [
    "providers[providers['SCity'].isna()]"
   ]
  },
  {
   "cell_type": "markdown",
   "metadata": {},
   "source": [
    "#### UNIQUE (SName, Address, SCity)\n",
    "Отбрасывание записей-дубликатов "
   ]
  },
  {
   "cell_type": "code",
   "execution_count": 221,
   "metadata": {
    "ExecuteTime": {
     "end_time": "2019-03-10T18:05:37.542807Z",
     "start_time": "2019-03-10T18:05:37.527383Z"
    },
    "scrolled": true
   },
   "outputs": [
    {
     "data": {
      "text/html": [
       "<div>\n",
       "<style scoped>\n",
       "    .dataframe tbody tr th:only-of-type {\n",
       "        vertical-align: middle;\n",
       "    }\n",
       "\n",
       "    .dataframe tbody tr th {\n",
       "        vertical-align: top;\n",
       "    }\n",
       "\n",
       "    .dataframe thead th {\n",
       "        text-align: right;\n",
       "    }\n",
       "</style>\n",
       "<table border=\"1\" class=\"dataframe\">\n",
       "  <thead>\n",
       "    <tr style=\"text-align: right;\">\n",
       "      <th></th>\n",
       "      <th>SID</th>\n",
       "      <th>SName</th>\n",
       "      <th>SCity</th>\n",
       "      <th>Address</th>\n",
       "      <th>Risk</th>\n",
       "    </tr>\n",
       "  </thead>\n",
       "  <tbody>\n",
       "    <tr>\n",
       "      <th>179</th>\n",
       "      <td>179</td>\n",
       "      <td>ВАЛСИ</td>\n",
       "      <td>Новгород</td>\n",
       "      <td>Рылеева 6</td>\n",
       "      <td>2.0</td>\n",
       "    </tr>\n",
       "    <tr>\n",
       "      <th>180</th>\n",
       "      <td>180</td>\n",
       "      <td>ВАЛСИ</td>\n",
       "      <td>Новгород</td>\n",
       "      <td>Рылеева 6</td>\n",
       "      <td>3.0</td>\n",
       "    </tr>\n",
       "    <tr>\n",
       "      <th>599</th>\n",
       "      <td>599</td>\n",
       "      <td>ВАЛСИ</td>\n",
       "      <td>Ярославль</td>\n",
       "      <td>Южноуральская 32</td>\n",
       "      <td>2.0</td>\n",
       "    </tr>\n",
       "    <tr>\n",
       "      <th>600</th>\n",
       "      <td>600</td>\n",
       "      <td>ВАЛСИ</td>\n",
       "      <td>Ярославль</td>\n",
       "      <td>Южноуральская 32</td>\n",
       "      <td>3.0</td>\n",
       "    </tr>\n",
       "    <tr>\n",
       "      <th>839</th>\n",
       "      <td>839</td>\n",
       "      <td>Зет-Стоун</td>\n",
       "      <td>Воронеж</td>\n",
       "      <td>Украинская 19</td>\n",
       "      <td>1.0</td>\n",
       "    </tr>\n",
       "  </tbody>\n",
       "</table>\n",
       "</div>"
      ],
      "text/plain": [
       "     SID      SName      SCity           Address  Risk\n",
       "179  179      ВАЛСИ   Новгород         Рылеева 6   2.0\n",
       "180  180      ВАЛСИ   Новгород         Рылеева 6   3.0\n",
       "599  599      ВАЛСИ  Ярославль  Южноуральская 32   2.0\n",
       "600  600      ВАЛСИ  Ярославль  Южноуральская 32   3.0\n",
       "839  839  Зет-Стоун    Воронеж     Украинская 19   1.0"
      ]
     },
     "execution_count": 221,
     "metadata": {},
     "output_type": "execute_result"
    }
   ],
   "source": [
    "providers[providers.duplicated(subset=['SName', 'Address', 'SCity'], keep=False)].head()"
   ]
  },
  {
   "cell_type": "code",
   "execution_count": 222,
   "metadata": {
    "ExecuteTime": {
     "end_time": "2019-03-10T18:05:37.689352Z",
     "start_time": "2019-03-10T18:05:37.682567Z"
    }
   },
   "outputs": [],
   "source": [
    "providers = providers.drop_duplicates(subset=['SName', 'Address', 'SCity'], keep='first')"
   ]
  },
  {
   "cell_type": "code",
   "execution_count": 223,
   "metadata": {
    "ExecuteTime": {
     "end_time": "2019-03-10T18:05:37.840911Z",
     "start_time": "2019-03-10T18:05:37.829218Z"
    }
   },
   "outputs": [
    {
     "data": {
      "text/html": [
       "<div>\n",
       "<style scoped>\n",
       "    .dataframe tbody tr th:only-of-type {\n",
       "        vertical-align: middle;\n",
       "    }\n",
       "\n",
       "    .dataframe tbody tr th {\n",
       "        vertical-align: top;\n",
       "    }\n",
       "\n",
       "    .dataframe thead th {\n",
       "        text-align: right;\n",
       "    }\n",
       "</style>\n",
       "<table border=\"1\" class=\"dataframe\">\n",
       "  <thead>\n",
       "    <tr style=\"text-align: right;\">\n",
       "      <th></th>\n",
       "      <th>SID</th>\n",
       "      <th>SName</th>\n",
       "      <th>SCity</th>\n",
       "      <th>Address</th>\n",
       "      <th>Risk</th>\n",
       "    </tr>\n",
       "  </thead>\n",
       "  <tbody>\n",
       "  </tbody>\n",
       "</table>\n",
       "</div>"
      ],
      "text/plain": [
       "Empty DataFrame\n",
       "Columns: [SID, SName, SCity, Address, Risk]\n",
       "Index: []"
      ]
     },
     "execution_count": 223,
     "metadata": {},
     "output_type": "execute_result"
    }
   ],
   "source": [
    "providers[providers.duplicated(subset=['SName', 'Address', 'SCity'], keep=False)].head()"
   ]
  },
  {
   "cell_type": "markdown",
   "metadata": {},
   "source": [
    "#### Risk in (1, 2, 3)  \n",
    "Замена ошибочного значения наиболее часто встречающимся значением риска сотрудничества в рамках данного города данного филиала"
   ]
  },
  {
   "cell_type": "code",
   "execution_count": 224,
   "metadata": {
    "ExecuteTime": {
     "end_time": "2019-03-10T18:05:38.123456Z",
     "start_time": "2019-03-10T18:05:38.120325Z"
    }
   },
   "outputs": [],
   "source": [
    "possible_risks = [1, 2, 3]"
   ]
  },
  {
   "cell_type": "code",
   "execution_count": 225,
   "metadata": {
    "ExecuteTime": {
     "end_time": "2019-03-10T18:05:38.621212Z",
     "start_time": "2019-03-10T18:05:38.604893Z"
    }
   },
   "outputs": [
    {
     "data": {
      "text/html": [
       "<div>\n",
       "<style scoped>\n",
       "    .dataframe tbody tr th:only-of-type {\n",
       "        vertical-align: middle;\n",
       "    }\n",
       "\n",
       "    .dataframe tbody tr th {\n",
       "        vertical-align: top;\n",
       "    }\n",
       "\n",
       "    .dataframe thead th {\n",
       "        text-align: right;\n",
       "    }\n",
       "</style>\n",
       "<table border=\"1\" class=\"dataframe\">\n",
       "  <thead>\n",
       "    <tr style=\"text-align: right;\">\n",
       "      <th></th>\n",
       "      <th>SID</th>\n",
       "      <th>SName</th>\n",
       "      <th>SCity</th>\n",
       "      <th>Address</th>\n",
       "      <th>Risk</th>\n",
       "    </tr>\n",
       "  </thead>\n",
       "  <tbody>\n",
       "    <tr>\n",
       "      <th>60</th>\n",
       "      <td>60</td>\n",
       "      <td>Мотэк-99</td>\n",
       "      <td>Уфа</td>\n",
       "      <td>Житомирская 12</td>\n",
       "      <td>NaN</td>\n",
       "    </tr>\n",
       "    <tr>\n",
       "      <th>120</th>\n",
       "      <td>120</td>\n",
       "      <td>Феникс</td>\n",
       "      <td>Ульяновск</td>\n",
       "      <td>Майкова 12</td>\n",
       "      <td>NaN</td>\n",
       "    </tr>\n",
       "    <tr>\n",
       "      <th>420</th>\n",
       "      <td>420</td>\n",
       "      <td>﻿Синапсис</td>\n",
       "      <td>Ульяновск</td>\n",
       "      <td>Львовская 22</td>\n",
       "      <td>NaN</td>\n",
       "    </tr>\n",
       "    <tr>\n",
       "      <th>480</th>\n",
       "      <td>480</td>\n",
       "      <td>Мотэк-99</td>\n",
       "      <td>Самара</td>\n",
       "      <td>Ростовская 49</td>\n",
       "      <td>NaN</td>\n",
       "    </tr>\n",
       "    <tr>\n",
       "      <th>960</th>\n",
       "      <td>960</td>\n",
       "      <td>Феникс</td>\n",
       "      <td>Уфа</td>\n",
       "      <td>Евтеева 14</td>\n",
       "      <td>NaN</td>\n",
       "    </tr>\n",
       "  </tbody>\n",
       "</table>\n",
       "</div>"
      ],
      "text/plain": [
       "     SID      SName      SCity         Address  Risk\n",
       "60    60   Мотэк-99        Уфа  Житомирская 12   NaN\n",
       "120  120     Феникс  Ульяновск      Майкова 12   NaN\n",
       "420  420  ﻿Синапсис  Ульяновск    Львовская 22   NaN\n",
       "480  480   Мотэк-99     Самара   Ростовская 49   NaN\n",
       "960  960     Феникс        Уфа      Евтеева 14   NaN"
      ]
     },
     "execution_count": 225,
     "metadata": {},
     "output_type": "execute_result"
    }
   ],
   "source": [
    "providers[np.logical_not(providers['Risk'].isin(possible_risks))]"
   ]
  },
  {
   "cell_type": "code",
   "execution_count": 226,
   "metadata": {
    "ExecuteTime": {
     "end_time": "2019-03-10T18:05:39.076757Z",
     "start_time": "2019-03-10T18:05:39.055080Z"
    }
   },
   "outputs": [
    {
     "data": {
      "text/html": [
       "<div>\n",
       "<style scoped>\n",
       "    .dataframe tbody tr th:only-of-type {\n",
       "        vertical-align: middle;\n",
       "    }\n",
       "\n",
       "    .dataframe tbody tr th {\n",
       "        vertical-align: top;\n",
       "    }\n",
       "\n",
       "    .dataframe thead th {\n",
       "        text-align: right;\n",
       "    }\n",
       "</style>\n",
       "<table border=\"1\" class=\"dataframe\">\n",
       "  <thead>\n",
       "    <tr style=\"text-align: right;\">\n",
       "      <th></th>\n",
       "      <th>SID</th>\n",
       "      <th>SName</th>\n",
       "      <th>SCity</th>\n",
       "      <th>Address</th>\n",
       "      <th>Risk</th>\n",
       "    </tr>\n",
       "  </thead>\n",
       "  <tbody>\n",
       "    <tr>\n",
       "      <th>60</th>\n",
       "      <td>60</td>\n",
       "      <td>Мотэк-99</td>\n",
       "      <td>Уфа</td>\n",
       "      <td>Житомирская 12</td>\n",
       "      <td>3.0</td>\n",
       "    </tr>\n",
       "    <tr>\n",
       "      <th>120</th>\n",
       "      <td>120</td>\n",
       "      <td>Феникс</td>\n",
       "      <td>Ульяновск</td>\n",
       "      <td>Майкова 12</td>\n",
       "      <td>3.0</td>\n",
       "    </tr>\n",
       "    <tr>\n",
       "      <th>420</th>\n",
       "      <td>420</td>\n",
       "      <td>﻿Синапсис</td>\n",
       "      <td>Ульяновск</td>\n",
       "      <td>Львовская 22</td>\n",
       "      <td>3.0</td>\n",
       "    </tr>\n",
       "    <tr>\n",
       "      <th>480</th>\n",
       "      <td>480</td>\n",
       "      <td>Мотэк-99</td>\n",
       "      <td>Самара</td>\n",
       "      <td>Ростовская 49</td>\n",
       "      <td>3.0</td>\n",
       "    </tr>\n",
       "    <tr>\n",
       "      <th>960</th>\n",
       "      <td>960</td>\n",
       "      <td>Феникс</td>\n",
       "      <td>Уфа</td>\n",
       "      <td>Евтеева 14</td>\n",
       "      <td>3.0</td>\n",
       "    </tr>\n",
       "  </tbody>\n",
       "</table>\n",
       "</div>"
      ],
      "text/plain": [
       "     SID      SName      SCity         Address  Risk\n",
       "60    60   Мотэк-99        Уфа  Житомирская 12   3.0\n",
       "120  120     Феникс  Ульяновск      Майкова 12   3.0\n",
       "420  420  ﻿Синапсис  Ульяновск    Львовская 22   3.0\n",
       "480  480   Мотэк-99     Самара   Ростовская 49   3.0\n",
       "960  960     Феникс        Уфа      Евтеева 14   3.0"
      ]
     },
     "execution_count": 226,
     "metadata": {},
     "output_type": "execute_result"
    }
   ],
   "source": [
    "providers[np.logical_not(providers['Risk'].isin(possible_risks))].apply(\n",
    "    apply_most_common_constraint(providers, 'Risk'),\n",
    "    axis=1,\n",
    ")"
   ]
  },
  {
   "cell_type": "code",
   "execution_count": 227,
   "metadata": {
    "ExecuteTime": {
     "end_time": "2019-03-10T18:05:39.619987Z",
     "start_time": "2019-03-10T18:05:39.592783Z"
    }
   },
   "outputs": [
    {
     "data": {
      "text/html": [
       "<div>\n",
       "<style scoped>\n",
       "    .dataframe tbody tr th:only-of-type {\n",
       "        vertical-align: middle;\n",
       "    }\n",
       "\n",
       "    .dataframe tbody tr th {\n",
       "        vertical-align: top;\n",
       "    }\n",
       "\n",
       "    .dataframe thead th {\n",
       "        text-align: right;\n",
       "    }\n",
       "</style>\n",
       "<table border=\"1\" class=\"dataframe\">\n",
       "  <thead>\n",
       "    <tr style=\"text-align: right;\">\n",
       "      <th></th>\n",
       "      <th>SID</th>\n",
       "      <th>SName</th>\n",
       "      <th>SCity</th>\n",
       "      <th>Address</th>\n",
       "      <th>Risk</th>\n",
       "    </tr>\n",
       "  </thead>\n",
       "  <tbody>\n",
       "    <tr>\n",
       "      <th>60</th>\n",
       "      <td>60</td>\n",
       "      <td>Мотэк-99</td>\n",
       "      <td>Уфа</td>\n",
       "      <td>Житомирская 12</td>\n",
       "      <td>2.0</td>\n",
       "    </tr>\n",
       "    <tr>\n",
       "      <th>120</th>\n",
       "      <td>120</td>\n",
       "      <td>Феникс</td>\n",
       "      <td>Ульяновск</td>\n",
       "      <td>Майкова 12</td>\n",
       "      <td>2.0</td>\n",
       "    </tr>\n",
       "    <tr>\n",
       "      <th>420</th>\n",
       "      <td>420</td>\n",
       "      <td>﻿Синапсис</td>\n",
       "      <td>Ульяновск</td>\n",
       "      <td>Львовская 22</td>\n",
       "      <td>2.0</td>\n",
       "    </tr>\n",
       "    <tr>\n",
       "      <th>480</th>\n",
       "      <td>480</td>\n",
       "      <td>Мотэк-99</td>\n",
       "      <td>Самара</td>\n",
       "      <td>Ростовская 49</td>\n",
       "      <td>2.0</td>\n",
       "    </tr>\n",
       "    <tr>\n",
       "      <th>960</th>\n",
       "      <td>960</td>\n",
       "      <td>Феникс</td>\n",
       "      <td>Уфа</td>\n",
       "      <td>Евтеева 14</td>\n",
       "      <td>2.0</td>\n",
       "    </tr>\n",
       "  </tbody>\n",
       "</table>\n",
       "</div>"
      ],
      "text/plain": [
       "     SID      SName      SCity         Address  Risk\n",
       "60    60   Мотэк-99        Уфа  Житомирская 12   2.0\n",
       "120  120     Феникс  Ульяновск      Майкова 12   2.0\n",
       "420  420  ﻿Синапсис  Ульяновск    Львовская 22   2.0\n",
       "480  480   Мотэк-99     Самара   Ростовская 49   2.0\n",
       "960  960     Феникс        Уфа      Евтеева 14   2.0"
      ]
     },
     "execution_count": 227,
     "metadata": {},
     "output_type": "execute_result"
    }
   ],
   "source": [
    "providers[np.logical_not(providers['Risk'].isin(possible_risks))].apply(\n",
    "    apply_most_common_constraint(providers, 'Risk', 'SName'),\n",
    "    axis=1,\n",
    ")"
   ]
  },
  {
   "cell_type": "code",
   "execution_count": 228,
   "metadata": {
    "ExecuteTime": {
     "end_time": "2019-03-10T18:05:40.325821Z",
     "start_time": "2019-03-10T18:05:40.029969Z"
    }
   },
   "outputs": [],
   "source": [
    "invalid_risk_rows = np.logical_not(providers['Risk'].isin(possible_risks))\n",
    "providers = providers.apply(\n",
    "    apply_most_common_constraint(providers, 'Risk', 'SName'),\n",
    "    axis=1,\n",
    ")"
   ]
  },
  {
   "cell_type": "code",
   "execution_count": 229,
   "metadata": {
    "ExecuteTime": {
     "end_time": "2019-03-10T18:05:41.859792Z",
     "start_time": "2019-03-10T18:05:41.850525Z"
    }
   },
   "outputs": [
    {
     "data": {
      "text/html": [
       "<div>\n",
       "<style scoped>\n",
       "    .dataframe tbody tr th:only-of-type {\n",
       "        vertical-align: middle;\n",
       "    }\n",
       "\n",
       "    .dataframe tbody tr th {\n",
       "        vertical-align: top;\n",
       "    }\n",
       "\n",
       "    .dataframe thead th {\n",
       "        text-align: right;\n",
       "    }\n",
       "</style>\n",
       "<table border=\"1\" class=\"dataframe\">\n",
       "  <thead>\n",
       "    <tr style=\"text-align: right;\">\n",
       "      <th></th>\n",
       "      <th>SID</th>\n",
       "      <th>SName</th>\n",
       "      <th>SCity</th>\n",
       "      <th>Address</th>\n",
       "      <th>Risk</th>\n",
       "    </tr>\n",
       "  </thead>\n",
       "  <tbody>\n",
       "  </tbody>\n",
       "</table>\n",
       "</div>"
      ],
      "text/plain": [
       "Empty DataFrame\n",
       "Columns: [SID, SName, SCity, Address, Risk]\n",
       "Index: []"
      ]
     },
     "execution_count": 229,
     "metadata": {},
     "output_type": "execute_result"
    }
   ],
   "source": [
    "providers[np.logical_not(providers['Risk'].isin(possible_risks))]"
   ]
  },
  {
   "cell_type": "markdown",
   "metadata": {},
   "source": [
    "### Детали"
   ]
  },
  {
   "cell_type": "code",
   "execution_count": 231,
   "metadata": {
    "ExecuteTime": {
     "end_time": "2019-03-10T18:05:54.600172Z",
     "start_time": "2019-03-10T18:05:54.588987Z"
    }
   },
   "outputs": [
    {
     "data": {
      "text/html": [
       "<div>\n",
       "<style scoped>\n",
       "    .dataframe tbody tr th:only-of-type {\n",
       "        vertical-align: middle;\n",
       "    }\n",
       "\n",
       "    .dataframe tbody tr th {\n",
       "        vertical-align: top;\n",
       "    }\n",
       "\n",
       "    .dataframe thead th {\n",
       "        text-align: right;\n",
       "    }\n",
       "</style>\n",
       "<table border=\"1\" class=\"dataframe\">\n",
       "  <thead>\n",
       "    <tr style=\"text-align: right;\">\n",
       "      <th></th>\n",
       "      <th>PID</th>\n",
       "      <th>PName</th>\n",
       "      <th>PCity</th>\n",
       "      <th>Color</th>\n",
       "      <th>Weight</th>\n",
       "    </tr>\n",
       "  </thead>\n",
       "  <tbody>\n",
       "    <tr>\n",
       "      <th>0</th>\n",
       "      <td>0</td>\n",
       "      <td>﻿Гайка</td>\n",
       "      <td>NaN</td>\n",
       "      <td>Чёрный</td>\n",
       "      <td>0.852</td>\n",
       "    </tr>\n",
       "    <tr>\n",
       "      <th>1</th>\n",
       "      <td>1</td>\n",
       "      <td>Болт</td>\n",
       "      <td>Санкт-Петербург</td>\n",
       "      <td>Красный</td>\n",
       "      <td>1.731</td>\n",
       "    </tr>\n",
       "    <tr>\n",
       "      <th>2</th>\n",
       "      <td>2</td>\n",
       "      <td>Ремень</td>\n",
       "      <td>Новосибирск</td>\n",
       "      <td>Зелёный</td>\n",
       "      <td>0.866</td>\n",
       "    </tr>\n",
       "    <tr>\n",
       "      <th>3</th>\n",
       "      <td>3</td>\n",
       "      <td>Леска</td>\n",
       "      <td>Екатеринбург</td>\n",
       "      <td>Белый</td>\n",
       "      <td>1.166</td>\n",
       "    </tr>\n",
       "    <tr>\n",
       "      <th>4</th>\n",
       "      <td>4</td>\n",
       "      <td>Отвёртка</td>\n",
       "      <td>Новгород</td>\n",
       "      <td>Жёлтый</td>\n",
       "      <td>0.162</td>\n",
       "    </tr>\n",
       "  </tbody>\n",
       "</table>\n",
       "</div>"
      ],
      "text/plain": [
       "   PID     PName            PCity    Color  Weight\n",
       "0    0    ﻿Гайка              NaN   Чёрный   0.852\n",
       "1    1      Болт  Санкт-Петербург  Красный   1.731\n",
       "2    2    Ремень      Новосибирск  Зелёный   0.866\n",
       "3    3     Леска     Екатеринбург    Белый   1.166\n",
       "4    4  Отвёртка         Новгород   Жёлтый   0.162"
      ]
     },
     "execution_count": 231,
     "metadata": {},
     "output_type": "execute_result"
    }
   ],
   "source": [
    "details.head()"
   ]
  },
  {
   "cell_type": "code",
   "execution_count": null,
   "metadata": {},
   "outputs": [],
   "source": []
  },
  {
   "cell_type": "code",
   "execution_count": null,
   "metadata": {},
   "outputs": [],
   "source": []
  },
  {
   "cell_type": "code",
   "execution_count": null,
   "metadata": {},
   "outputs": [],
   "source": []
  },
  {
   "cell_type": "code",
   "execution_count": null,
   "metadata": {},
   "outputs": [],
   "source": []
  },
  {
   "cell_type": "code",
   "execution_count": null,
   "metadata": {},
   "outputs": [],
   "source": []
  },
  {
   "cell_type": "code",
   "execution_count": null,
   "metadata": {},
   "outputs": [],
   "source": []
  },
  {
   "cell_type": "code",
   "execution_count": null,
   "metadata": {},
   "outputs": [],
   "source": []
  },
  {
   "cell_type": "code",
   "execution_count": null,
   "metadata": {},
   "outputs": [],
   "source": []
  }
 ],
 "metadata": {
  "kernelspec": {
   "display_name": "Python 3",
   "language": "python",
   "name": "python3"
  },
  "language_info": {
   "codemirror_mode": {
    "name": "ipython",
    "version": 3
   },
   "file_extension": ".py",
   "mimetype": "text/x-python",
   "name": "python",
   "nbconvert_exporter": "python",
   "pygments_lexer": "ipython3",
   "version": "3.6.5"
  }
 },
 "nbformat": 4,
 "nbformat_minor": 2
}
