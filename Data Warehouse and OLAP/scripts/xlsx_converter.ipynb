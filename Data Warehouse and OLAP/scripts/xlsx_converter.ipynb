{
 "cells": [
  {
   "cell_type": "code",
   "execution_count": 58,
   "metadata": {
    "ExecuteTime": {
     "end_time": "2019-03-10T19:23:40.398210Z",
     "start_time": "2019-03-10T19:23:40.394339Z"
    }
   },
   "outputs": [],
   "source": [
    "from collections import Counter\n",
    "\n",
    "import os\n",
    "import shutil\n",
    "\n",
    "import numpy as np\n",
    "import pandas as pd"
   ]
  },
  {
   "cell_type": "code",
   "execution_count": 59,
   "metadata": {
    "ExecuteTime": {
     "end_time": "2019-03-10T19:23:57.866438Z",
     "start_time": "2019-03-10T19:23:57.863183Z"
    }
   },
   "outputs": [],
   "source": [
    "XLSX_PATH = '../data/Branch_2.xlsx'"
   ]
  },
  {
   "cell_type": "code",
   "execution_count": 76,
   "metadata": {
    "ExecuteTime": {
     "end_time": "2019-03-10T19:40:44.124264Z",
     "start_time": "2019-03-10T19:40:44.120867Z"
    }
   },
   "outputs": [],
   "source": [
    "INSTANCE_DIR = 'instance/xlsx'"
   ]
  },
  {
   "cell_type": "code",
   "execution_count": 3,
   "metadata": {
    "ExecuteTime": {
     "end_time": "2019-03-10T19:11:57.033277Z",
     "start_time": "2019-03-10T19:11:55.826442Z"
    }
   },
   "outputs": [],
   "source": [
    "sheets = pd.read_excel(XLSX_PATH, sheet_name=[0, 1, 2])"
   ]
  },
  {
   "cell_type": "code",
   "execution_count": 83,
   "metadata": {
    "ExecuteTime": {
     "end_time": "2019-03-10T21:05:50.753696Z",
     "start_time": "2019-03-10T21:05:50.750044Z"
    }
   },
   "outputs": [],
   "source": [
    "providers, details, supplies = sheets[0], sheets[1], sheets[2]"
   ]
  },
  {
   "cell_type": "markdown",
   "metadata": {},
   "source": [
    "## Ограничения целостности"
   ]
  },
  {
   "cell_type": "markdown",
   "metadata": {
    "heading_collapsed": true
   },
   "source": [
    "### Поставщики "
   ]
  },
  {
   "cell_type": "markdown",
   "metadata": {
    "hidden": true
   },
   "source": [
    "#### SName NOT NULL\n",
    "Отбрасывание записи"
   ]
  },
  {
   "cell_type": "code",
   "execution_count": 84,
   "metadata": {
    "ExecuteTime": {
     "end_time": "2019-03-10T21:05:52.204466Z",
     "start_time": "2019-03-10T21:05:52.191637Z"
    },
    "hidden": true
   },
   "outputs": [
    {
     "data": {
      "text/html": [
       "<div>\n",
       "<style scoped>\n",
       "    .dataframe tbody tr th:only-of-type {\n",
       "        vertical-align: middle;\n",
       "    }\n",
       "\n",
       "    .dataframe tbody tr th {\n",
       "        vertical-align: top;\n",
       "    }\n",
       "\n",
       "    .dataframe thead th {\n",
       "        text-align: right;\n",
       "    }\n",
       "</style>\n",
       "<table border=\"1\" class=\"dataframe\">\n",
       "  <thead>\n",
       "    <tr style=\"text-align: right;\">\n",
       "      <th></th>\n",
       "      <th>SID</th>\n",
       "      <th>SName</th>\n",
       "      <th>SCity</th>\n",
       "      <th>Address</th>\n",
       "      <th>Risk</th>\n",
       "    </tr>\n",
       "  </thead>\n",
       "  <tbody>\n",
       "    <tr>\n",
       "      <th>240</th>\n",
       "      <td>240</td>\n",
       "      <td>NaN</td>\n",
       "      <td>Саратов</td>\n",
       "      <td>Учебная 21</td>\n",
       "      <td>3.0</td>\n",
       "    </tr>\n",
       "    <tr>\n",
       "      <th>900</th>\n",
       "      <td>900</td>\n",
       "      <td>NaN</td>\n",
       "      <td>﻿Москва</td>\n",
       "      <td>Южная 23</td>\n",
       "      <td>2.0</td>\n",
       "    </tr>\n",
       "  </tbody>\n",
       "</table>\n",
       "</div>"
      ],
      "text/plain": [
       "     SID SName    SCity     Address  Risk\n",
       "240  240   NaN  Саратов  Учебная 21   3.0\n",
       "900  900   NaN  ﻿Москва    Южная 23   2.0"
      ]
     },
     "execution_count": 84,
     "metadata": {},
     "output_type": "execute_result"
    }
   ],
   "source": [
    "providers[providers['SName'].isna()].head()"
   ]
  },
  {
   "cell_type": "code",
   "execution_count": 85,
   "metadata": {
    "ExecuteTime": {
     "end_time": "2019-03-10T21:05:52.422832Z",
     "start_time": "2019-03-10T21:05:52.409178Z"
    },
    "hidden": true
   },
   "outputs": [],
   "source": [
    "providers = providers.dropna(subset=['SName'])"
   ]
  },
  {
   "cell_type": "code",
   "execution_count": 86,
   "metadata": {
    "ExecuteTime": {
     "end_time": "2019-03-10T21:05:52.495672Z",
     "start_time": "2019-03-10T21:05:52.487930Z"
    },
    "hidden": true
   },
   "outputs": [
    {
     "data": {
      "text/html": [
       "<div>\n",
       "<style scoped>\n",
       "    .dataframe tbody tr th:only-of-type {\n",
       "        vertical-align: middle;\n",
       "    }\n",
       "\n",
       "    .dataframe tbody tr th {\n",
       "        vertical-align: top;\n",
       "    }\n",
       "\n",
       "    .dataframe thead th {\n",
       "        text-align: right;\n",
       "    }\n",
       "</style>\n",
       "<table border=\"1\" class=\"dataframe\">\n",
       "  <thead>\n",
       "    <tr style=\"text-align: right;\">\n",
       "      <th></th>\n",
       "      <th>SID</th>\n",
       "      <th>SName</th>\n",
       "      <th>SCity</th>\n",
       "      <th>Address</th>\n",
       "      <th>Risk</th>\n",
       "    </tr>\n",
       "  </thead>\n",
       "  <tbody>\n",
       "  </tbody>\n",
       "</table>\n",
       "</div>"
      ],
      "text/plain": [
       "Empty DataFrame\n",
       "Columns: [SID, SName, SCity, Address, Risk]\n",
       "Index: []"
      ]
     },
     "execution_count": 86,
     "metadata": {},
     "output_type": "execute_result"
    }
   ],
   "source": [
    "providers[providers['SName'].isna()].head()"
   ]
  },
  {
   "cell_type": "markdown",
   "metadata": {
    "hidden": true
   },
   "source": [
    "#### SCity NOT NULL\n",
    "Замена пустого значения наиболее часто встречающимся значением города поставщика в рамках данного филиала"
   ]
  },
  {
   "cell_type": "code",
   "execution_count": 87,
   "metadata": {
    "ExecuteTime": {
     "end_time": "2019-03-10T21:05:52.780590Z",
     "start_time": "2019-03-10T21:05:52.768564Z"
    },
    "hidden": true
   },
   "outputs": [
    {
     "data": {
      "text/html": [
       "<div>\n",
       "<style scoped>\n",
       "    .dataframe tbody tr th:only-of-type {\n",
       "        vertical-align: middle;\n",
       "    }\n",
       "\n",
       "    .dataframe tbody tr th {\n",
       "        vertical-align: top;\n",
       "    }\n",
       "\n",
       "    .dataframe thead th {\n",
       "        text-align: right;\n",
       "    }\n",
       "</style>\n",
       "<table border=\"1\" class=\"dataframe\">\n",
       "  <thead>\n",
       "    <tr style=\"text-align: right;\">\n",
       "      <th></th>\n",
       "      <th>SID</th>\n",
       "      <th>SName</th>\n",
       "      <th>SCity</th>\n",
       "      <th>Address</th>\n",
       "      <th>Risk</th>\n",
       "    </tr>\n",
       "  </thead>\n",
       "  <tbody>\n",
       "    <tr>\n",
       "      <th>540</th>\n",
       "      <td>540</td>\n",
       "      <td>Феникс</td>\n",
       "      <td>NaN</td>\n",
       "      <td>Уральская 37</td>\n",
       "      <td>1.0</td>\n",
       "    </tr>\n",
       "    <tr>\n",
       "      <th>660</th>\n",
       "      <td>660</td>\n",
       "      <td>ООО \"МТА\"</td>\n",
       "      <td>NaN</td>\n",
       "      <td>Ереванская 46</td>\n",
       "      <td>2.0</td>\n",
       "    </tr>\n",
       "    <tr>\n",
       "      <th>780</th>\n",
       "      <td>780</td>\n",
       "      <td>ООО \"Эльтадор-М\"</td>\n",
       "      <td>NaN</td>\n",
       "      <td>Родькина 47</td>\n",
       "      <td>1.0</td>\n",
       "    </tr>\n",
       "    <tr>\n",
       "      <th>1020</th>\n",
       "      <td>1020</td>\n",
       "      <td>СлавКабель</td>\n",
       "      <td>NaN</td>\n",
       "      <td>Литовская 31</td>\n",
       "      <td>1.0</td>\n",
       "    </tr>\n",
       "  </tbody>\n",
       "</table>\n",
       "</div>"
      ],
      "text/plain": [
       "       SID             SName SCity        Address  Risk\n",
       "540    540            Феникс   NaN   Уральская 37   1.0\n",
       "660    660         ООО \"МТА\"   NaN  Ереванская 46   2.0\n",
       "780    780  ООО \"Эльтадор-М\"   NaN    Родькина 47   1.0\n",
       "1020  1020        СлавКабель   NaN   Литовская 31   1.0"
      ]
     },
     "execution_count": 87,
     "metadata": {},
     "output_type": "execute_result"
    }
   ],
   "source": [
    "providers[providers['SCity'].isna()]"
   ]
  },
  {
   "cell_type": "code",
   "execution_count": 88,
   "metadata": {
    "ExecuteTime": {
     "end_time": "2019-03-10T21:05:53.010981Z",
     "start_time": "2019-03-10T21:05:53.005321Z"
    },
    "hidden": true
   },
   "outputs": [],
   "source": [
    "def apply_most_common_constraint(container, column_name, name_column=None, extra_f=None):\n",
    "    container = container.dropna(subset=[column_name])\n",
    "    def apply_each_row(row):\n",
    "        row = row.copy()\n",
    "        if pd.isna(row[column_name]) or (extra_f is not None and extra_f(row)):\n",
    "            if name_column is not None:\n",
    "                freq = Counter(container[container[name_column] == row[name_column]][column_name])\n",
    "            else:\n",
    "                freq = Counter(container[column_name])\n",
    "            most_common = freq.most_common()[0][0]\n",
    "            row[column_name] = most_common\n",
    "        return row\n",
    "    return apply_each_row"
   ]
  },
  {
   "cell_type": "code",
   "execution_count": 89,
   "metadata": {
    "ExecuteTime": {
     "end_time": "2019-03-10T21:05:54.231096Z",
     "start_time": "2019-03-10T21:05:53.935922Z"
    },
    "hidden": true
   },
   "outputs": [],
   "source": [
    "providers = providers.apply(\n",
    "    apply_most_common_constraint(providers, 'SCity', 'SName'), \n",
    "    axis=1,\n",
    ")"
   ]
  },
  {
   "cell_type": "code",
   "execution_count": 90,
   "metadata": {
    "ExecuteTime": {
     "end_time": "2019-03-10T21:05:54.378085Z",
     "start_time": "2019-03-10T21:05:54.369989Z"
    },
    "hidden": true
   },
   "outputs": [
    {
     "data": {
      "text/html": [
       "<div>\n",
       "<style scoped>\n",
       "    .dataframe tbody tr th:only-of-type {\n",
       "        vertical-align: middle;\n",
       "    }\n",
       "\n",
       "    .dataframe tbody tr th {\n",
       "        vertical-align: top;\n",
       "    }\n",
       "\n",
       "    .dataframe thead th {\n",
       "        text-align: right;\n",
       "    }\n",
       "</style>\n",
       "<table border=\"1\" class=\"dataframe\">\n",
       "  <thead>\n",
       "    <tr style=\"text-align: right;\">\n",
       "      <th></th>\n",
       "      <th>SID</th>\n",
       "      <th>SName</th>\n",
       "      <th>SCity</th>\n",
       "      <th>Address</th>\n",
       "      <th>Risk</th>\n",
       "    </tr>\n",
       "  </thead>\n",
       "  <tbody>\n",
       "  </tbody>\n",
       "</table>\n",
       "</div>"
      ],
      "text/plain": [
       "Empty DataFrame\n",
       "Columns: [SID, SName, SCity, Address, Risk]\n",
       "Index: []"
      ]
     },
     "execution_count": 90,
     "metadata": {},
     "output_type": "execute_result"
    }
   ],
   "source": [
    "providers[providers['SCity'].isna()]"
   ]
  },
  {
   "cell_type": "markdown",
   "metadata": {
    "hidden": true
   },
   "source": [
    "#### UNIQUE (SName, Address, SCity)\n",
    "Отбрасывание записей-дубликатов "
   ]
  },
  {
   "cell_type": "code",
   "execution_count": 91,
   "metadata": {
    "ExecuteTime": {
     "end_time": "2019-03-10T21:05:59.343197Z",
     "start_time": "2019-03-10T21:05:59.338021Z"
    },
    "hidden": true
   },
   "outputs": [],
   "source": [
    "providers_unique_subset = ['SName', 'Address', 'SCity']"
   ]
  },
  {
   "cell_type": "code",
   "execution_count": 92,
   "metadata": {
    "ExecuteTime": {
     "end_time": "2019-03-10T21:05:59.673568Z",
     "start_time": "2019-03-10T21:05:59.658721Z"
    },
    "hidden": true,
    "scrolled": true
   },
   "outputs": [
    {
     "data": {
      "text/html": [
       "<div>\n",
       "<style scoped>\n",
       "    .dataframe tbody tr th:only-of-type {\n",
       "        vertical-align: middle;\n",
       "    }\n",
       "\n",
       "    .dataframe tbody tr th {\n",
       "        vertical-align: top;\n",
       "    }\n",
       "\n",
       "    .dataframe thead th {\n",
       "        text-align: right;\n",
       "    }\n",
       "</style>\n",
       "<table border=\"1\" class=\"dataframe\">\n",
       "  <thead>\n",
       "    <tr style=\"text-align: right;\">\n",
       "      <th></th>\n",
       "      <th>SID</th>\n",
       "      <th>SName</th>\n",
       "      <th>SCity</th>\n",
       "      <th>Address</th>\n",
       "      <th>Risk</th>\n",
       "    </tr>\n",
       "  </thead>\n",
       "  <tbody>\n",
       "    <tr>\n",
       "      <th>179</th>\n",
       "      <td>179</td>\n",
       "      <td>ВАЛСИ</td>\n",
       "      <td>Новгород</td>\n",
       "      <td>Рылеева 6</td>\n",
       "      <td>2.0</td>\n",
       "    </tr>\n",
       "    <tr>\n",
       "      <th>180</th>\n",
       "      <td>180</td>\n",
       "      <td>ВАЛСИ</td>\n",
       "      <td>Новгород</td>\n",
       "      <td>Рылеева 6</td>\n",
       "      <td>3.0</td>\n",
       "    </tr>\n",
       "    <tr>\n",
       "      <th>599</th>\n",
       "      <td>599</td>\n",
       "      <td>ВАЛСИ</td>\n",
       "      <td>Ярославль</td>\n",
       "      <td>Южноуральская 32</td>\n",
       "      <td>2.0</td>\n",
       "    </tr>\n",
       "    <tr>\n",
       "      <th>600</th>\n",
       "      <td>600</td>\n",
       "      <td>ВАЛСИ</td>\n",
       "      <td>Ярославль</td>\n",
       "      <td>Южноуральская 32</td>\n",
       "      <td>3.0</td>\n",
       "    </tr>\n",
       "    <tr>\n",
       "      <th>839</th>\n",
       "      <td>839</td>\n",
       "      <td>Зет-Стоун</td>\n",
       "      <td>Воронеж</td>\n",
       "      <td>Украинская 19</td>\n",
       "      <td>1.0</td>\n",
       "    </tr>\n",
       "  </tbody>\n",
       "</table>\n",
       "</div>"
      ],
      "text/plain": [
       "     SID      SName      SCity           Address  Risk\n",
       "179  179      ВАЛСИ   Новгород         Рылеева 6   2.0\n",
       "180  180      ВАЛСИ   Новгород         Рылеева 6   3.0\n",
       "599  599      ВАЛСИ  Ярославль  Южноуральская 32   2.0\n",
       "600  600      ВАЛСИ  Ярославль  Южноуральская 32   3.0\n",
       "839  839  Зет-Стоун    Воронеж     Украинская 19   1.0"
      ]
     },
     "execution_count": 92,
     "metadata": {},
     "output_type": "execute_result"
    }
   ],
   "source": [
    "providers[providers.duplicated(subset=providers_unique_subset, keep=False)].head()"
   ]
  },
  {
   "cell_type": "code",
   "execution_count": 93,
   "metadata": {
    "ExecuteTime": {
     "end_time": "2019-03-10T21:06:00.753689Z",
     "start_time": "2019-03-10T21:06:00.746303Z"
    },
    "hidden": true
   },
   "outputs": [],
   "source": [
    "providers = providers.drop_duplicates(subset=providers_unique_subset, keep='first')"
   ]
  },
  {
   "cell_type": "code",
   "execution_count": 94,
   "metadata": {
    "ExecuteTime": {
     "end_time": "2019-03-10T21:06:01.255116Z",
     "start_time": "2019-03-10T21:06:01.242913Z"
    },
    "hidden": true
   },
   "outputs": [
    {
     "data": {
      "text/html": [
       "<div>\n",
       "<style scoped>\n",
       "    .dataframe tbody tr th:only-of-type {\n",
       "        vertical-align: middle;\n",
       "    }\n",
       "\n",
       "    .dataframe tbody tr th {\n",
       "        vertical-align: top;\n",
       "    }\n",
       "\n",
       "    .dataframe thead th {\n",
       "        text-align: right;\n",
       "    }\n",
       "</style>\n",
       "<table border=\"1\" class=\"dataframe\">\n",
       "  <thead>\n",
       "    <tr style=\"text-align: right;\">\n",
       "      <th></th>\n",
       "      <th>SID</th>\n",
       "      <th>SName</th>\n",
       "      <th>SCity</th>\n",
       "      <th>Address</th>\n",
       "      <th>Risk</th>\n",
       "    </tr>\n",
       "  </thead>\n",
       "  <tbody>\n",
       "  </tbody>\n",
       "</table>\n",
       "</div>"
      ],
      "text/plain": [
       "Empty DataFrame\n",
       "Columns: [SID, SName, SCity, Address, Risk]\n",
       "Index: []"
      ]
     },
     "execution_count": 94,
     "metadata": {},
     "output_type": "execute_result"
    }
   ],
   "source": [
    "providers[providers.duplicated(subset=providers_unique_subset, keep=False)].head()"
   ]
  },
  {
   "cell_type": "markdown",
   "metadata": {
    "hidden": true
   },
   "source": [
    "#### Risk in (1, 2, 3)  \n",
    "Замена ошибочного значения наиболее часто встречающимся значением риска сотрудничества в рамках данного города данного филиала"
   ]
  },
  {
   "cell_type": "code",
   "execution_count": 95,
   "metadata": {
    "ExecuteTime": {
     "end_time": "2019-03-10T21:06:02.760495Z",
     "start_time": "2019-03-10T21:06:02.755056Z"
    },
    "hidden": true
   },
   "outputs": [],
   "source": [
    "possible_risks = [1, 2, 3]"
   ]
  },
  {
   "cell_type": "code",
   "execution_count": 96,
   "metadata": {
    "ExecuteTime": {
     "end_time": "2019-03-10T21:06:03.221272Z",
     "start_time": "2019-03-10T21:06:03.204375Z"
    },
    "hidden": true
   },
   "outputs": [
    {
     "data": {
      "text/html": [
       "<div>\n",
       "<style scoped>\n",
       "    .dataframe tbody tr th:only-of-type {\n",
       "        vertical-align: middle;\n",
       "    }\n",
       "\n",
       "    .dataframe tbody tr th {\n",
       "        vertical-align: top;\n",
       "    }\n",
       "\n",
       "    .dataframe thead th {\n",
       "        text-align: right;\n",
       "    }\n",
       "</style>\n",
       "<table border=\"1\" class=\"dataframe\">\n",
       "  <thead>\n",
       "    <tr style=\"text-align: right;\">\n",
       "      <th></th>\n",
       "      <th>SID</th>\n",
       "      <th>SName</th>\n",
       "      <th>SCity</th>\n",
       "      <th>Address</th>\n",
       "      <th>Risk</th>\n",
       "    </tr>\n",
       "  </thead>\n",
       "  <tbody>\n",
       "    <tr>\n",
       "      <th>60</th>\n",
       "      <td>60</td>\n",
       "      <td>Мотэк-99</td>\n",
       "      <td>Уфа</td>\n",
       "      <td>Житомирская 12</td>\n",
       "      <td>NaN</td>\n",
       "    </tr>\n",
       "    <tr>\n",
       "      <th>120</th>\n",
       "      <td>120</td>\n",
       "      <td>Феникс</td>\n",
       "      <td>Ульяновск</td>\n",
       "      <td>Майкова 12</td>\n",
       "      <td>NaN</td>\n",
       "    </tr>\n",
       "    <tr>\n",
       "      <th>420</th>\n",
       "      <td>420</td>\n",
       "      <td>﻿Синапсис</td>\n",
       "      <td>Ульяновск</td>\n",
       "      <td>Львовская 22</td>\n",
       "      <td>NaN</td>\n",
       "    </tr>\n",
       "    <tr>\n",
       "      <th>480</th>\n",
       "      <td>480</td>\n",
       "      <td>Мотэк-99</td>\n",
       "      <td>Самара</td>\n",
       "      <td>Ростовская 49</td>\n",
       "      <td>NaN</td>\n",
       "    </tr>\n",
       "    <tr>\n",
       "      <th>960</th>\n",
       "      <td>960</td>\n",
       "      <td>Феникс</td>\n",
       "      <td>Уфа</td>\n",
       "      <td>Евтеева 14</td>\n",
       "      <td>NaN</td>\n",
       "    </tr>\n",
       "  </tbody>\n",
       "</table>\n",
       "</div>"
      ],
      "text/plain": [
       "     SID      SName      SCity         Address  Risk\n",
       "60    60   Мотэк-99        Уфа  Житомирская 12   NaN\n",
       "120  120     Феникс  Ульяновск      Майкова 12   NaN\n",
       "420  420  ﻿Синапсис  Ульяновск    Львовская 22   NaN\n",
       "480  480   Мотэк-99     Самара   Ростовская 49   NaN\n",
       "960  960     Феникс        Уфа      Евтеева 14   NaN"
      ]
     },
     "execution_count": 96,
     "metadata": {},
     "output_type": "execute_result"
    }
   ],
   "source": [
    "providers[np.logical_not(providers['Risk'].isin(possible_risks))]"
   ]
  },
  {
   "cell_type": "code",
   "execution_count": 97,
   "metadata": {
    "ExecuteTime": {
     "end_time": "2019-03-10T21:06:04.211098Z",
     "start_time": "2019-03-10T21:06:03.918489Z"
    },
    "hidden": true
   },
   "outputs": [],
   "source": [
    "invalid_risk_rows = np.logical_not(providers['Risk'].isin(possible_risks))\n",
    "providers = providers.apply(\n",
    "    apply_most_common_constraint(providers, 'Risk', 'SName', extra_f=lambda e: e['Risk'] not in possible_risks),\n",
    "    axis=1,\n",
    ")"
   ]
  },
  {
   "cell_type": "code",
   "execution_count": 98,
   "metadata": {
    "ExecuteTime": {
     "end_time": "2019-03-10T21:06:04.275396Z",
     "start_time": "2019-03-10T21:06:04.265641Z"
    },
    "hidden": true
   },
   "outputs": [
    {
     "data": {
      "text/html": [
       "<div>\n",
       "<style scoped>\n",
       "    .dataframe tbody tr th:only-of-type {\n",
       "        vertical-align: middle;\n",
       "    }\n",
       "\n",
       "    .dataframe tbody tr th {\n",
       "        vertical-align: top;\n",
       "    }\n",
       "\n",
       "    .dataframe thead th {\n",
       "        text-align: right;\n",
       "    }\n",
       "</style>\n",
       "<table border=\"1\" class=\"dataframe\">\n",
       "  <thead>\n",
       "    <tr style=\"text-align: right;\">\n",
       "      <th></th>\n",
       "      <th>SID</th>\n",
       "      <th>SName</th>\n",
       "      <th>SCity</th>\n",
       "      <th>Address</th>\n",
       "      <th>Risk</th>\n",
       "    </tr>\n",
       "  </thead>\n",
       "  <tbody>\n",
       "  </tbody>\n",
       "</table>\n",
       "</div>"
      ],
      "text/plain": [
       "Empty DataFrame\n",
       "Columns: [SID, SName, SCity, Address, Risk]\n",
       "Index: []"
      ]
     },
     "execution_count": 98,
     "metadata": {},
     "output_type": "execute_result"
    }
   ],
   "source": [
    "providers[np.logical_not(providers['Risk'].isin(possible_risks))]"
   ]
  },
  {
   "cell_type": "markdown",
   "metadata": {},
   "source": [
    "### Детали"
   ]
  },
  {
   "cell_type": "markdown",
   "metadata": {},
   "source": [
    "#### PName NOT NULL\n",
    "Отбрасывание записи"
   ]
  },
  {
   "cell_type": "code",
   "execution_count": 120,
   "metadata": {
    "ExecuteTime": {
     "end_time": "2019-03-10T21:11:00.049323Z",
     "start_time": "2019-03-10T21:11:00.040127Z"
    }
   },
   "outputs": [
    {
     "data": {
      "text/html": [
       "<div>\n",
       "<style scoped>\n",
       "    .dataframe tbody tr th:only-of-type {\n",
       "        vertical-align: middle;\n",
       "    }\n",
       "\n",
       "    .dataframe tbody tr th {\n",
       "        vertical-align: top;\n",
       "    }\n",
       "\n",
       "    .dataframe thead th {\n",
       "        text-align: right;\n",
       "    }\n",
       "</style>\n",
       "<table border=\"1\" class=\"dataframe\">\n",
       "  <thead>\n",
       "    <tr style=\"text-align: right;\">\n",
       "      <th></th>\n",
       "      <th>PID</th>\n",
       "      <th>PName</th>\n",
       "      <th>PCity</th>\n",
       "      <th>Color</th>\n",
       "      <th>Weight</th>\n",
       "    </tr>\n",
       "  </thead>\n",
       "  <tbody>\n",
       "  </tbody>\n",
       "</table>\n",
       "</div>"
      ],
      "text/plain": [
       "Empty DataFrame\n",
       "Columns: [PID, PName, PCity, Color, Weight]\n",
       "Index: []"
      ]
     },
     "execution_count": 120,
     "metadata": {},
     "output_type": "execute_result"
    }
   ],
   "source": [
    "details[details['PName'].isna()]"
   ]
  },
  {
   "cell_type": "code",
   "execution_count": 101,
   "metadata": {
    "ExecuteTime": {
     "end_time": "2019-03-10T21:06:48.593368Z",
     "start_time": "2019-03-10T21:06:48.585603Z"
    }
   },
   "outputs": [],
   "source": [
    "details = details.dropna(subset=['PName'])"
   ]
  },
  {
   "cell_type": "code",
   "execution_count": 102,
   "metadata": {
    "ExecuteTime": {
     "end_time": "2019-03-10T21:06:49.109940Z",
     "start_time": "2019-03-10T21:06:49.101219Z"
    }
   },
   "outputs": [
    {
     "data": {
      "text/html": [
       "<div>\n",
       "<style scoped>\n",
       "    .dataframe tbody tr th:only-of-type {\n",
       "        vertical-align: middle;\n",
       "    }\n",
       "\n",
       "    .dataframe tbody tr th {\n",
       "        vertical-align: top;\n",
       "    }\n",
       "\n",
       "    .dataframe thead th {\n",
       "        text-align: right;\n",
       "    }\n",
       "</style>\n",
       "<table border=\"1\" class=\"dataframe\">\n",
       "  <thead>\n",
       "    <tr style=\"text-align: right;\">\n",
       "      <th></th>\n",
       "      <th>PID</th>\n",
       "      <th>PName</th>\n",
       "      <th>PCity</th>\n",
       "      <th>Color</th>\n",
       "      <th>Weight</th>\n",
       "    </tr>\n",
       "  </thead>\n",
       "  <tbody>\n",
       "  </tbody>\n",
       "</table>\n",
       "</div>"
      ],
      "text/plain": [
       "Empty DataFrame\n",
       "Columns: [PID, PName, PCity, Color, Weight]\n",
       "Index: []"
      ]
     },
     "execution_count": 102,
     "metadata": {},
     "output_type": "execute_result"
    }
   ],
   "source": [
    "details[details['PName'].isna()]"
   ]
  },
  {
   "cell_type": "markdown",
   "metadata": {},
   "source": [
    "#### PCity NOT NULL\n",
    "Замена пустого значения наиболее часто встречающимся значением города детали в рамках данного филиала"
   ]
  },
  {
   "cell_type": "code",
   "execution_count": 104,
   "metadata": {
    "ExecuteTime": {
     "end_time": "2019-03-10T21:06:57.433962Z",
     "start_time": "2019-03-10T21:06:57.422247Z"
    }
   },
   "outputs": [
    {
     "data": {
      "text/html": [
       "<div>\n",
       "<style scoped>\n",
       "    .dataframe tbody tr th:only-of-type {\n",
       "        vertical-align: middle;\n",
       "    }\n",
       "\n",
       "    .dataframe tbody tr th {\n",
       "        vertical-align: top;\n",
       "    }\n",
       "\n",
       "    .dataframe thead th {\n",
       "        text-align: right;\n",
       "    }\n",
       "</style>\n",
       "<table border=\"1\" class=\"dataframe\">\n",
       "  <thead>\n",
       "    <tr style=\"text-align: right;\">\n",
       "      <th></th>\n",
       "      <th>PID</th>\n",
       "      <th>PName</th>\n",
       "      <th>PCity</th>\n",
       "      <th>Color</th>\n",
       "      <th>Weight</th>\n",
       "    </tr>\n",
       "  </thead>\n",
       "  <tbody>\n",
       "    <tr>\n",
       "      <th>0</th>\n",
       "      <td>0</td>\n",
       "      <td>﻿Гайка</td>\n",
       "      <td>NaN</td>\n",
       "      <td>Чёрный</td>\n",
       "      <td>0.852</td>\n",
       "    </tr>\n",
       "    <tr>\n",
       "      <th>60</th>\n",
       "      <td>60</td>\n",
       "      <td>Ручка</td>\n",
       "      <td>NaN</td>\n",
       "      <td>Жёлтый</td>\n",
       "      <td>1.398</td>\n",
       "    </tr>\n",
       "    <tr>\n",
       "      <th>600</th>\n",
       "      <td>600</td>\n",
       "      <td>Кожух</td>\n",
       "      <td>NaN</td>\n",
       "      <td>Синий</td>\n",
       "      <td>12.194</td>\n",
       "    </tr>\n",
       "    <tr>\n",
       "      <th>900</th>\n",
       "      <td>900</td>\n",
       "      <td>Отвёртка</td>\n",
       "      <td>NaN</td>\n",
       "      <td>Жёлтый</td>\n",
       "      <td>0.312</td>\n",
       "    </tr>\n",
       "    <tr>\n",
       "      <th>960</th>\n",
       "      <td>960</td>\n",
       "      <td>﻿Гайка</td>\n",
       "      <td>NaN</td>\n",
       "      <td>Красный</td>\n",
       "      <td>1.673</td>\n",
       "    </tr>\n",
       "  </tbody>\n",
       "</table>\n",
       "</div>"
      ],
      "text/plain": [
       "     PID     PName PCity    Color  Weight\n",
       "0      0    ﻿Гайка   NaN   Чёрный   0.852\n",
       "60    60     Ручка   NaN   Жёлтый   1.398\n",
       "600  600     Кожух   NaN    Синий  12.194\n",
       "900  900  Отвёртка   NaN   Жёлтый   0.312\n",
       "960  960    ﻿Гайка   NaN  Красный   1.673"
      ]
     },
     "execution_count": 104,
     "metadata": {},
     "output_type": "execute_result"
    }
   ],
   "source": [
    "details[details['PCity'].isna()].head()"
   ]
  },
  {
   "cell_type": "code",
   "execution_count": 105,
   "metadata": {
    "ExecuteTime": {
     "end_time": "2019-03-10T21:07:00.543996Z",
     "start_time": "2019-03-10T21:07:00.262065Z"
    }
   },
   "outputs": [],
   "source": [
    "details = details.apply(\n",
    "    apply_most_common_constraint(details, 'PCity', 'PName'),\n",
    "    axis=1,\n",
    ")"
   ]
  },
  {
   "cell_type": "code",
   "execution_count": 106,
   "metadata": {
    "ExecuteTime": {
     "end_time": "2019-03-10T21:07:01.071421Z",
     "start_time": "2019-03-10T21:07:01.061888Z"
    }
   },
   "outputs": [
    {
     "data": {
      "text/html": [
       "<div>\n",
       "<style scoped>\n",
       "    .dataframe tbody tr th:only-of-type {\n",
       "        vertical-align: middle;\n",
       "    }\n",
       "\n",
       "    .dataframe tbody tr th {\n",
       "        vertical-align: top;\n",
       "    }\n",
       "\n",
       "    .dataframe thead th {\n",
       "        text-align: right;\n",
       "    }\n",
       "</style>\n",
       "<table border=\"1\" class=\"dataframe\">\n",
       "  <thead>\n",
       "    <tr style=\"text-align: right;\">\n",
       "      <th></th>\n",
       "      <th>PID</th>\n",
       "      <th>PName</th>\n",
       "      <th>PCity</th>\n",
       "      <th>Color</th>\n",
       "      <th>Weight</th>\n",
       "    </tr>\n",
       "  </thead>\n",
       "  <tbody>\n",
       "  </tbody>\n",
       "</table>\n",
       "</div>"
      ],
      "text/plain": [
       "Empty DataFrame\n",
       "Columns: [PID, PName, PCity, Color, Weight]\n",
       "Index: []"
      ]
     },
     "execution_count": 106,
     "metadata": {},
     "output_type": "execute_result"
    }
   ],
   "source": [
    "details[details['PCity'].isna()].head()"
   ]
  },
  {
   "cell_type": "markdown",
   "metadata": {
    "ExecuteTime": {
     "end_time": "2019-03-10T18:19:09.773513Z",
     "start_time": "2019-03-10T18:19:09.768989Z"
    },
    "code_folding": [
     0
    ]
   },
   "source": [
    "#### Weight > 0  \n",
    "Замена ошибочного значения средним значением веса деталей в рамках данного города данного филиала"
   ]
  },
  {
   "cell_type": "code",
   "execution_count": 26,
   "metadata": {
    "ExecuteTime": {
     "end_time": "2019-03-10T19:11:58.120799Z",
     "start_time": "2019-03-10T19:11:58.105900Z"
    }
   },
   "outputs": [
    {
     "data": {
      "text/html": [
       "<div>\n",
       "<style scoped>\n",
       "    .dataframe tbody tr th:only-of-type {\n",
       "        vertical-align: middle;\n",
       "    }\n",
       "\n",
       "    .dataframe tbody tr th {\n",
       "        vertical-align: top;\n",
       "    }\n",
       "\n",
       "    .dataframe thead th {\n",
       "        text-align: right;\n",
       "    }\n",
       "</style>\n",
       "<table border=\"1\" class=\"dataframe\">\n",
       "  <thead>\n",
       "    <tr style=\"text-align: right;\">\n",
       "      <th></th>\n",
       "      <th>PID</th>\n",
       "      <th>PName</th>\n",
       "      <th>PCity</th>\n",
       "      <th>Color</th>\n",
       "      <th>Weight</th>\n",
       "    </tr>\n",
       "  </thead>\n",
       "  <tbody>\n",
       "    <tr>\n",
       "      <th>180</th>\n",
       "      <td>180</td>\n",
       "      <td>Отвёртка</td>\n",
       "      <td>Самара</td>\n",
       "      <td>Синий</td>\n",
       "      <td>-1.0</td>\n",
       "    </tr>\n",
       "    <tr>\n",
       "      <th>540</th>\n",
       "      <td>540</td>\n",
       "      <td>Ручка</td>\n",
       "      <td>Саратов</td>\n",
       "      <td>Красный</td>\n",
       "      <td>-1.0</td>\n",
       "    </tr>\n",
       "    <tr>\n",
       "      <th>660</th>\n",
       "      <td>660</td>\n",
       "      <td>Отвёртка</td>\n",
       "      <td>Уфа</td>\n",
       "      <td>Зелёный</td>\n",
       "      <td>-1.0</td>\n",
       "    </tr>\n",
       "    <tr>\n",
       "      <th>780</th>\n",
       "      <td>780</td>\n",
       "      <td>Ручка</td>\n",
       "      <td>Самара</td>\n",
       "      <td>Белый</td>\n",
       "      <td>-1.0</td>\n",
       "    </tr>\n",
       "    <tr>\n",
       "      <th>840</th>\n",
       "      <td>840</td>\n",
       "      <td>Кожух</td>\n",
       "      <td>Саратов</td>\n",
       "      <td>Чёрный</td>\n",
       "      <td>-1.0</td>\n",
       "    </tr>\n",
       "  </tbody>\n",
       "</table>\n",
       "</div>"
      ],
      "text/plain": [
       "     PID     PName    PCity    Color  Weight\n",
       "180  180  Отвёртка   Самара    Синий    -1.0\n",
       "540  540     Ручка  Саратов  Красный    -1.0\n",
       "660  660  Отвёртка      Уфа  Зелёный    -1.0\n",
       "780  780     Ручка   Самара    Белый    -1.0\n",
       "840  840     Кожух  Саратов   Чёрный    -1.0"
      ]
     },
     "execution_count": 26,
     "metadata": {},
     "output_type": "execute_result"
    }
   ],
   "source": [
    "details[(details['Weight'] <= 0) | details['Weight'].isna()].head()"
   ]
  },
  {
   "cell_type": "code",
   "execution_count": 108,
   "metadata": {
    "ExecuteTime": {
     "end_time": "2019-03-10T21:07:36.067861Z",
     "start_time": "2019-03-10T21:07:36.057478Z"
    }
   },
   "outputs": [
    {
     "data": {
      "text/plain": [
       "7.27245088161209"
      ]
     },
     "execution_count": 108,
     "metadata": {},
     "output_type": "execute_result"
    }
   ],
   "source": [
    "mean_weight = details[details['Weight'] > 0]['Weight'].mean()\n",
    "mean_weight"
   ]
  },
  {
   "cell_type": "code",
   "execution_count": 121,
   "metadata": {
    "ExecuteTime": {
     "end_time": "2019-03-10T21:11:04.771089Z",
     "start_time": "2019-03-10T21:11:04.764435Z"
    }
   },
   "outputs": [],
   "source": [
    "details['Weight'] = details.apply({'Weight': lambda w: mean_weight if  w <= 0 or pd.isna(w) else w})"
   ]
  },
  {
   "cell_type": "code",
   "execution_count": 122,
   "metadata": {
    "ExecuteTime": {
     "end_time": "2019-03-10T21:11:05.799862Z",
     "start_time": "2019-03-10T21:11:05.787940Z"
    }
   },
   "outputs": [
    {
     "data": {
      "text/html": [
       "<div>\n",
       "<style scoped>\n",
       "    .dataframe tbody tr th:only-of-type {\n",
       "        vertical-align: middle;\n",
       "    }\n",
       "\n",
       "    .dataframe tbody tr th {\n",
       "        vertical-align: top;\n",
       "    }\n",
       "\n",
       "    .dataframe thead th {\n",
       "        text-align: right;\n",
       "    }\n",
       "</style>\n",
       "<table border=\"1\" class=\"dataframe\">\n",
       "  <thead>\n",
       "    <tr style=\"text-align: right;\">\n",
       "      <th></th>\n",
       "      <th>PID</th>\n",
       "      <th>PName</th>\n",
       "      <th>PCity</th>\n",
       "      <th>Color</th>\n",
       "      <th>Weight</th>\n",
       "    </tr>\n",
       "  </thead>\n",
       "  <tbody>\n",
       "  </tbody>\n",
       "</table>\n",
       "</div>"
      ],
      "text/plain": [
       "Empty DataFrame\n",
       "Columns: [PID, PName, PCity, Color, Weight]\n",
       "Index: []"
      ]
     },
     "execution_count": 122,
     "metadata": {},
     "output_type": "execute_result"
    }
   ],
   "source": [
    "details[(details['Weight'] <= 0) | details['Weight'].isna()].head()"
   ]
  },
  {
   "cell_type": "markdown",
   "metadata": {},
   "source": [
    "#### UNIQUE (PName, PCity, Color)  \n",
    "Отбрасывание записей-дубликатов"
   ]
  },
  {
   "cell_type": "code",
   "execution_count": 123,
   "metadata": {
    "ExecuteTime": {
     "end_time": "2019-03-10T21:11:06.857313Z",
     "start_time": "2019-03-10T21:11:06.853950Z"
    }
   },
   "outputs": [],
   "source": [
    "details_unique_subset = ['PName', 'PCity', 'Color']"
   ]
  },
  {
   "cell_type": "code",
   "execution_count": 124,
   "metadata": {
    "ExecuteTime": {
     "end_time": "2019-03-10T21:11:07.436094Z",
     "start_time": "2019-03-10T21:11:07.418087Z"
    }
   },
   "outputs": [
    {
     "data": {
      "text/html": [
       "<div>\n",
       "<style scoped>\n",
       "    .dataframe tbody tr th:only-of-type {\n",
       "        vertical-align: middle;\n",
       "    }\n",
       "\n",
       "    .dataframe tbody tr th {\n",
       "        vertical-align: top;\n",
       "    }\n",
       "\n",
       "    .dataframe thead th {\n",
       "        text-align: right;\n",
       "    }\n",
       "</style>\n",
       "<table border=\"1\" class=\"dataframe\">\n",
       "  <thead>\n",
       "    <tr style=\"text-align: right;\">\n",
       "      <th></th>\n",
       "      <th>PID</th>\n",
       "      <th>PName</th>\n",
       "      <th>PCity</th>\n",
       "      <th>Color</th>\n",
       "      <th>Weight</th>\n",
       "    </tr>\n",
       "  </thead>\n",
       "  <tbody>\n",
       "    <tr>\n",
       "      <th>4</th>\n",
       "      <td>4</td>\n",
       "      <td>Отвёртка</td>\n",
       "      <td>Новгород</td>\n",
       "      <td>Жёлтый</td>\n",
       "      <td>0.162</td>\n",
       "    </tr>\n",
       "    <tr>\n",
       "      <th>119</th>\n",
       "      <td>119</td>\n",
       "      <td>Радиатор</td>\n",
       "      <td>Барнаул</td>\n",
       "      <td>Чёрный</td>\n",
       "      <td>10.256</td>\n",
       "    </tr>\n",
       "    <tr>\n",
       "      <th>120</th>\n",
       "      <td>120</td>\n",
       "      <td>Радиатор</td>\n",
       "      <td>Барнаул</td>\n",
       "      <td>Чёрный</td>\n",
       "      <td>18.671</td>\n",
       "    </tr>\n",
       "    <tr>\n",
       "      <th>359</th>\n",
       "      <td>359</td>\n",
       "      <td>Радиатор</td>\n",
       "      <td>Ростов-на-Дону</td>\n",
       "      <td>Зелёный</td>\n",
       "      <td>12.282</td>\n",
       "    </tr>\n",
       "    <tr>\n",
       "      <th>360</th>\n",
       "      <td>360</td>\n",
       "      <td>Радиатор</td>\n",
       "      <td>Ростов-на-Дону</td>\n",
       "      <td>Зелёный</td>\n",
       "      <td>10.414</td>\n",
       "    </tr>\n",
       "  </tbody>\n",
       "</table>\n",
       "</div>"
      ],
      "text/plain": [
       "     PID     PName           PCity    Color  Weight\n",
       "4      4  Отвёртка        Новгород   Жёлтый   0.162\n",
       "119  119  Радиатор         Барнаул   Чёрный  10.256\n",
       "120  120  Радиатор         Барнаул   Чёрный  18.671\n",
       "359  359  Радиатор  Ростов-на-Дону  Зелёный  12.282\n",
       "360  360  Радиатор  Ростов-на-Дону  Зелёный  10.414"
      ]
     },
     "execution_count": 124,
     "metadata": {},
     "output_type": "execute_result"
    }
   ],
   "source": [
    "details[details.duplicated(subset=details_unique_subset, keep=False)].head()"
   ]
  },
  {
   "cell_type": "code",
   "execution_count": 125,
   "metadata": {
    "ExecuteTime": {
     "end_time": "2019-03-10T21:11:08.983095Z",
     "start_time": "2019-03-10T21:11:08.976423Z"
    }
   },
   "outputs": [],
   "source": [
    "details = details.drop_duplicates(subset=details_unique_subset, keep='first')"
   ]
  },
  {
   "cell_type": "code",
   "execution_count": 126,
   "metadata": {
    "ExecuteTime": {
     "end_time": "2019-03-10T21:11:09.623033Z",
     "start_time": "2019-03-10T21:11:09.612333Z"
    }
   },
   "outputs": [
    {
     "data": {
      "text/html": [
       "<div>\n",
       "<style scoped>\n",
       "    .dataframe tbody tr th:only-of-type {\n",
       "        vertical-align: middle;\n",
       "    }\n",
       "\n",
       "    .dataframe tbody tr th {\n",
       "        vertical-align: top;\n",
       "    }\n",
       "\n",
       "    .dataframe thead th {\n",
       "        text-align: right;\n",
       "    }\n",
       "</style>\n",
       "<table border=\"1\" class=\"dataframe\">\n",
       "  <thead>\n",
       "    <tr style=\"text-align: right;\">\n",
       "      <th></th>\n",
       "      <th>PID</th>\n",
       "      <th>PName</th>\n",
       "      <th>PCity</th>\n",
       "      <th>Color</th>\n",
       "      <th>Weight</th>\n",
       "    </tr>\n",
       "  </thead>\n",
       "  <tbody>\n",
       "  </tbody>\n",
       "</table>\n",
       "</div>"
      ],
      "text/plain": [
       "Empty DataFrame\n",
       "Columns: [PID, PName, PCity, Color, Weight]\n",
       "Index: []"
      ]
     },
     "execution_count": 126,
     "metadata": {},
     "output_type": "execute_result"
    }
   ],
   "source": [
    "details[details.duplicated(subset=details_unique_subset, keep=False)].head()"
   ]
  },
  {
   "cell_type": "markdown",
   "metadata": {
    "ExecuteTime": {
     "end_time": "2019-03-10T18:26:09.908860Z",
     "start_time": "2019-03-10T18:26:09.906399Z"
    }
   },
   "source": [
    "### Поставки"
   ]
  },
  {
   "cell_type": "markdown",
   "metadata": {},
   "source": [
    "#### ShipDate NOT NULL\n",
    "Отбрасывание записи"
   ]
  },
  {
   "cell_type": "code",
   "execution_count": 127,
   "metadata": {
    "ExecuteTime": {
     "end_time": "2019-03-10T21:11:12.142863Z",
     "start_time": "2019-03-10T21:11:12.130136Z"
    }
   },
   "outputs": [
    {
     "data": {
      "text/html": [
       "<div>\n",
       "<style scoped>\n",
       "    .dataframe tbody tr th:only-of-type {\n",
       "        vertical-align: middle;\n",
       "    }\n",
       "\n",
       "    .dataframe tbody tr th {\n",
       "        vertical-align: top;\n",
       "    }\n",
       "\n",
       "    .dataframe thead th {\n",
       "        text-align: right;\n",
       "    }\n",
       "</style>\n",
       "<table border=\"1\" class=\"dataframe\">\n",
       "  <thead>\n",
       "    <tr style=\"text-align: right;\">\n",
       "      <th></th>\n",
       "      <th>SPID</th>\n",
       "      <th>SID</th>\n",
       "      <th>PID</th>\n",
       "      <th>Quantity</th>\n",
       "      <th>Price</th>\n",
       "      <th>ShipDate</th>\n",
       "    </tr>\n",
       "  </thead>\n",
       "  <tbody>\n",
       "    <tr>\n",
       "      <th>5400</th>\n",
       "      <td>5400</td>\n",
       "      <td>117</td>\n",
       "      <td>164</td>\n",
       "      <td>687</td>\n",
       "      <td>369.04</td>\n",
       "      <td>NaT</td>\n",
       "    </tr>\n",
       "    <tr>\n",
       "      <th>9000</th>\n",
       "      <td>9000</td>\n",
       "      <td>375</td>\n",
       "      <td>476</td>\n",
       "      <td>1</td>\n",
       "      <td>492.61</td>\n",
       "      <td>NaT</td>\n",
       "    </tr>\n",
       "    <tr>\n",
       "      <th>9600</th>\n",
       "      <td>9600</td>\n",
       "      <td>272</td>\n",
       "      <td>1149</td>\n",
       "      <td>53</td>\n",
       "      <td>470.73</td>\n",
       "      <td>NaT</td>\n",
       "    </tr>\n",
       "    <tr>\n",
       "      <th>11400</th>\n",
       "      <td>11400</td>\n",
       "      <td>100</td>\n",
       "      <td>533</td>\n",
       "      <td>659</td>\n",
       "      <td>493.28</td>\n",
       "      <td>NaT</td>\n",
       "    </tr>\n",
       "  </tbody>\n",
       "</table>\n",
       "</div>"
      ],
      "text/plain": [
       "        SPID  SID   PID  Quantity   Price ShipDate\n",
       "5400    5400  117   164       687  369.04      NaT\n",
       "9000    9000  375   476         1  492.61      NaT\n",
       "9600    9600  272  1149        53  470.73      NaT\n",
       "11400  11400  100   533       659  493.28      NaT"
      ]
     },
     "execution_count": 127,
     "metadata": {},
     "output_type": "execute_result"
    }
   ],
   "source": [
    "supplies[supplies['ShipDate'].isna()]"
   ]
  },
  {
   "cell_type": "code",
   "execution_count": 128,
   "metadata": {
    "ExecuteTime": {
     "end_time": "2019-03-10T21:11:12.393068Z",
     "start_time": "2019-03-10T21:11:12.383264Z"
    }
   },
   "outputs": [],
   "source": [
    "supplies = supplies.dropna(subset=['ShipDate'])"
   ]
  },
  {
   "cell_type": "code",
   "execution_count": 129,
   "metadata": {
    "ExecuteTime": {
     "end_time": "2019-03-10T21:11:12.553844Z",
     "start_time": "2019-03-10T21:11:12.544756Z"
    }
   },
   "outputs": [
    {
     "data": {
      "text/html": [
       "<div>\n",
       "<style scoped>\n",
       "    .dataframe tbody tr th:only-of-type {\n",
       "        vertical-align: middle;\n",
       "    }\n",
       "\n",
       "    .dataframe tbody tr th {\n",
       "        vertical-align: top;\n",
       "    }\n",
       "\n",
       "    .dataframe thead th {\n",
       "        text-align: right;\n",
       "    }\n",
       "</style>\n",
       "<table border=\"1\" class=\"dataframe\">\n",
       "  <thead>\n",
       "    <tr style=\"text-align: right;\">\n",
       "      <th></th>\n",
       "      <th>SPID</th>\n",
       "      <th>SID</th>\n",
       "      <th>PID</th>\n",
       "      <th>Quantity</th>\n",
       "      <th>Price</th>\n",
       "      <th>ShipDate</th>\n",
       "    </tr>\n",
       "  </thead>\n",
       "  <tbody>\n",
       "  </tbody>\n",
       "</table>\n",
       "</div>"
      ],
      "text/plain": [
       "Empty DataFrame\n",
       "Columns: [SPID, SID, PID, Quantity, Price, ShipDate]\n",
       "Index: []"
      ]
     },
     "execution_count": 129,
     "metadata": {},
     "output_type": "execute_result"
    }
   ],
   "source": [
    "supplies[supplies['ShipDate'].isna()]"
   ]
  },
  {
   "cell_type": "markdown",
   "metadata": {
    "ExecuteTime": {
     "end_time": "2019-03-10T18:28:28.112735Z",
     "start_time": "2019-03-10T18:28:28.107262Z"
    }
   },
   "source": [
    "#### Qty > 0  \n",
    "Замена ошибочного значения наиболее часто встречающимся значением риска сотрудничества в рамках данного города данного филиала"
   ]
  },
  {
   "cell_type": "code",
   "execution_count": 130,
   "metadata": {
    "ExecuteTime": {
     "end_time": "2019-03-10T21:11:12.850233Z",
     "start_time": "2019-03-10T21:11:12.836388Z"
    }
   },
   "outputs": [
    {
     "data": {
      "text/html": [
       "<div>\n",
       "<style scoped>\n",
       "    .dataframe tbody tr th:only-of-type {\n",
       "        vertical-align: middle;\n",
       "    }\n",
       "\n",
       "    .dataframe tbody tr th {\n",
       "        vertical-align: top;\n",
       "    }\n",
       "\n",
       "    .dataframe thead th {\n",
       "        text-align: right;\n",
       "    }\n",
       "</style>\n",
       "<table border=\"1\" class=\"dataframe\">\n",
       "  <thead>\n",
       "    <tr style=\"text-align: right;\">\n",
       "      <th></th>\n",
       "      <th>SPID</th>\n",
       "      <th>SID</th>\n",
       "      <th>PID</th>\n",
       "      <th>Quantity</th>\n",
       "      <th>Price</th>\n",
       "      <th>ShipDate</th>\n",
       "    </tr>\n",
       "  </thead>\n",
       "  <tbody>\n",
       "    <tr>\n",
       "      <th>1200</th>\n",
       "      <td>1200</td>\n",
       "      <td>219</td>\n",
       "      <td>26</td>\n",
       "      <td>-1</td>\n",
       "      <td>72.33</td>\n",
       "      <td>2014-05-05</td>\n",
       "    </tr>\n",
       "    <tr>\n",
       "      <th>1800</th>\n",
       "      <td>1800</td>\n",
       "      <td>1020</td>\n",
       "      <td>816</td>\n",
       "      <td>-1</td>\n",
       "      <td>381.99</td>\n",
       "      <td>2013-06-14</td>\n",
       "    </tr>\n",
       "    <tr>\n",
       "      <th>3000</th>\n",
       "      <td>3000</td>\n",
       "      <td>990</td>\n",
       "      <td>431</td>\n",
       "      <td>-1</td>\n",
       "      <td>298.71</td>\n",
       "      <td>2013-03-20</td>\n",
       "    </tr>\n",
       "    <tr>\n",
       "      <th>4800</th>\n",
       "      <td>4800</td>\n",
       "      <td>144</td>\n",
       "      <td>776</td>\n",
       "      <td>-1</td>\n",
       "      <td>393.41</td>\n",
       "      <td>2014-05-17</td>\n",
       "    </tr>\n",
       "    <tr>\n",
       "      <th>6000</th>\n",
       "      <td>6000</td>\n",
       "      <td>205</td>\n",
       "      <td>573</td>\n",
       "      <td>-1</td>\n",
       "      <td>219.51</td>\n",
       "      <td>2014-12-11</td>\n",
       "    </tr>\n",
       "  </tbody>\n",
       "</table>\n",
       "</div>"
      ],
      "text/plain": [
       "      SPID   SID  PID  Quantity   Price   ShipDate\n",
       "1200  1200   219   26        -1   72.33 2014-05-05\n",
       "1800  1800  1020  816        -1  381.99 2013-06-14\n",
       "3000  3000   990  431        -1  298.71 2013-03-20\n",
       "4800  4800   144  776        -1  393.41 2014-05-17\n",
       "6000  6000   205  573        -1  219.51 2014-12-11"
      ]
     },
     "execution_count": 130,
     "metadata": {},
     "output_type": "execute_result"
    }
   ],
   "source": [
    "supplies[supplies['Quantity'] <= 0].head()"
   ]
  },
  {
   "cell_type": "code",
   "execution_count": 131,
   "metadata": {
    "ExecuteTime": {
     "end_time": "2019-03-10T21:11:16.036407Z",
     "start_time": "2019-03-10T21:11:13.005540Z"
    }
   },
   "outputs": [],
   "source": [
    "supplies = supplies.apply(\n",
    "    apply_most_common_constraint(supplies, 'Quantity', extra_f=lambda e: e['Quantity'] <= 0), \n",
    "    axis=1,\n",
    ")"
   ]
  },
  {
   "cell_type": "code",
   "execution_count": 132,
   "metadata": {
    "ExecuteTime": {
     "end_time": "2019-03-10T21:11:16.052344Z",
     "start_time": "2019-03-10T21:11:16.038776Z"
    }
   },
   "outputs": [
    {
     "data": {
      "text/html": [
       "<div>\n",
       "<style scoped>\n",
       "    .dataframe tbody tr th:only-of-type {\n",
       "        vertical-align: middle;\n",
       "    }\n",
       "\n",
       "    .dataframe tbody tr th {\n",
       "        vertical-align: top;\n",
       "    }\n",
       "\n",
       "    .dataframe thead th {\n",
       "        text-align: right;\n",
       "    }\n",
       "</style>\n",
       "<table border=\"1\" class=\"dataframe\">\n",
       "  <thead>\n",
       "    <tr style=\"text-align: right;\">\n",
       "      <th></th>\n",
       "      <th>SPID</th>\n",
       "      <th>SID</th>\n",
       "      <th>PID</th>\n",
       "      <th>Quantity</th>\n",
       "      <th>Price</th>\n",
       "      <th>ShipDate</th>\n",
       "    </tr>\n",
       "  </thead>\n",
       "  <tbody>\n",
       "  </tbody>\n",
       "</table>\n",
       "</div>"
      ],
      "text/plain": [
       "Empty DataFrame\n",
       "Columns: [SPID, SID, PID, Quantity, Price, ShipDate]\n",
       "Index: []"
      ]
     },
     "execution_count": 132,
     "metadata": {},
     "output_type": "execute_result"
    }
   ],
   "source": [
    "supplies[supplies['Quantity'] <= 0].head()"
   ]
  },
  {
   "cell_type": "markdown",
   "metadata": {
    "ExecuteTime": {
     "end_time": "2019-03-10T18:33:21.043015Z",
     "start_time": "2019-03-10T18:33:21.038402Z"
    }
   },
   "source": [
    "#### Price > 0\n",
    "Замена ошибочного значения средним значением цены деталей в рамках данного города данного филиала"
   ]
  },
  {
   "cell_type": "code",
   "execution_count": 136,
   "metadata": {
    "ExecuteTime": {
     "end_time": "2019-03-10T21:12:47.780068Z",
     "start_time": "2019-03-10T21:12:47.771649Z"
    }
   },
   "outputs": [],
   "source": [
    "supplies['Price'] = pd.to_numeric(supplies['Price'], errors='coerce')"
   ]
  },
  {
   "cell_type": "code",
   "execution_count": 137,
   "metadata": {
    "ExecuteTime": {
     "end_time": "2019-03-10T21:12:48.281452Z",
     "start_time": "2019-03-10T21:12:48.267413Z"
    }
   },
   "outputs": [
    {
     "data": {
      "text/html": [
       "<div>\n",
       "<style scoped>\n",
       "    .dataframe tbody tr th:only-of-type {\n",
       "        vertical-align: middle;\n",
       "    }\n",
       "\n",
       "    .dataframe tbody tr th {\n",
       "        vertical-align: top;\n",
       "    }\n",
       "\n",
       "    .dataframe thead th {\n",
       "        text-align: right;\n",
       "    }\n",
       "</style>\n",
       "<table border=\"1\" class=\"dataframe\">\n",
       "  <thead>\n",
       "    <tr style=\"text-align: right;\">\n",
       "      <th></th>\n",
       "      <th>SPID</th>\n",
       "      <th>SID</th>\n",
       "      <th>PID</th>\n",
       "      <th>Quantity</th>\n",
       "      <th>Price</th>\n",
       "      <th>ShipDate</th>\n",
       "    </tr>\n",
       "  </thead>\n",
       "  <tbody>\n",
       "    <tr>\n",
       "      <th>1</th>\n",
       "      <td>1</td>\n",
       "      <td>714</td>\n",
       "      <td>603</td>\n",
       "      <td>35</td>\n",
       "      <td>NaN</td>\n",
       "      <td>2014-04-23</td>\n",
       "    </tr>\n",
       "    <tr>\n",
       "      <th>184</th>\n",
       "      <td>184</td>\n",
       "      <td>371</td>\n",
       "      <td>1150</td>\n",
       "      <td>5</td>\n",
       "      <td>NaN</td>\n",
       "      <td>2013-12-05</td>\n",
       "    </tr>\n",
       "    <tr>\n",
       "      <th>201</th>\n",
       "      <td>201</td>\n",
       "      <td>152</td>\n",
       "      <td>775</td>\n",
       "      <td>8</td>\n",
       "      <td>NaN</td>\n",
       "      <td>2014-08-22</td>\n",
       "    </tr>\n",
       "    <tr>\n",
       "      <th>578</th>\n",
       "      <td>578</td>\n",
       "      <td>61</td>\n",
       "      <td>886</td>\n",
       "      <td>56</td>\n",
       "      <td>NaN</td>\n",
       "      <td>2013-09-17</td>\n",
       "    </tr>\n",
       "    <tr>\n",
       "      <th>654</th>\n",
       "      <td>654</td>\n",
       "      <td>355</td>\n",
       "      <td>137</td>\n",
       "      <td>454</td>\n",
       "      <td>NaN</td>\n",
       "      <td>2014-11-04</td>\n",
       "    </tr>\n",
       "  </tbody>\n",
       "</table>\n",
       "</div>"
      ],
      "text/plain": [
       "     SPID  SID   PID  Quantity  Price   ShipDate\n",
       "1       1  714   603        35    NaN 2014-04-23\n",
       "184   184  371  1150         5    NaN 2013-12-05\n",
       "201   201  152   775         8    NaN 2014-08-22\n",
       "578   578   61   886        56    NaN 2013-09-17\n",
       "654   654  355   137       454    NaN 2014-11-04"
      ]
     },
     "execution_count": 137,
     "metadata": {},
     "output_type": "execute_result"
    }
   ],
   "source": [
    "supplies[supplies['Price'].isna() | (supplies['Price'] <= 0)].head()"
   ]
  },
  {
   "cell_type": "code",
   "execution_count": 138,
   "metadata": {
    "ExecuteTime": {
     "end_time": "2019-03-10T21:12:49.203695Z",
     "start_time": "2019-03-10T21:12:49.195772Z"
    }
   },
   "outputs": [],
   "source": [
    "mean_price = supplies[np.logical_not(supplies['Price'].isna() | (supplies['Price'] <= 0))]['Price'].mean()"
   ]
  },
  {
   "cell_type": "code",
   "execution_count": 139,
   "metadata": {
    "ExecuteTime": {
     "end_time": "2019-03-10T21:12:51.205195Z",
     "start_time": "2019-03-10T21:12:51.191079Z"
    }
   },
   "outputs": [],
   "source": [
    "supplies['Price'] = supplies.apply({'Price': lambda p: mean_price if pd.isna(p) or (p <= 0) else p}) "
   ]
  },
  {
   "cell_type": "code",
   "execution_count": 140,
   "metadata": {
    "ExecuteTime": {
     "end_time": "2019-03-10T21:12:52.934375Z",
     "start_time": "2019-03-10T21:12:52.921097Z"
    }
   },
   "outputs": [
    {
     "data": {
      "text/html": [
       "<div>\n",
       "<style scoped>\n",
       "    .dataframe tbody tr th:only-of-type {\n",
       "        vertical-align: middle;\n",
       "    }\n",
       "\n",
       "    .dataframe tbody tr th {\n",
       "        vertical-align: top;\n",
       "    }\n",
       "\n",
       "    .dataframe thead th {\n",
       "        text-align: right;\n",
       "    }\n",
       "</style>\n",
       "<table border=\"1\" class=\"dataframe\">\n",
       "  <thead>\n",
       "    <tr style=\"text-align: right;\">\n",
       "      <th></th>\n",
       "      <th>SPID</th>\n",
       "      <th>SID</th>\n",
       "      <th>PID</th>\n",
       "      <th>Quantity</th>\n",
       "      <th>Price</th>\n",
       "      <th>ShipDate</th>\n",
       "    </tr>\n",
       "  </thead>\n",
       "  <tbody>\n",
       "  </tbody>\n",
       "</table>\n",
       "</div>"
      ],
      "text/plain": [
       "Empty DataFrame\n",
       "Columns: [SPID, SID, PID, Quantity, Price, ShipDate]\n",
       "Index: []"
      ]
     },
     "execution_count": 140,
     "metadata": {},
     "output_type": "execute_result"
    }
   ],
   "source": [
    "supplies[supplies['Price'].isna() | (supplies['Price'] <= 0)].head()"
   ]
  },
  {
   "cell_type": "code",
   "execution_count": 141,
   "metadata": {
    "ExecuteTime": {
     "end_time": "2019-03-10T21:12:56.981777Z",
     "start_time": "2019-03-10T21:12:56.978847Z"
    }
   },
   "outputs": [],
   "source": [
    "#### Уберем данные, которых уже нет"
   ]
  },
  {
   "cell_type": "code",
   "execution_count": 142,
   "metadata": {
    "ExecuteTime": {
     "end_time": "2019-03-10T21:12:57.512745Z",
     "start_time": "2019-03-10T21:12:57.507153Z"
    }
   },
   "outputs": [],
   "source": [
    "def apply_existance_constaints(row):\n",
    "    row = row.copy()\n",
    "    if (\n",
    "        (row['PID'] not in details['PID']) \n",
    "        or (row['SID'] not in providers['SID'])\n",
    "    ):\n",
    "        row['SPID'] = None\n",
    "    return row"
   ]
  },
  {
   "cell_type": "code",
   "execution_count": 143,
   "metadata": {
    "ExecuteTime": {
     "end_time": "2019-03-10T21:13:02.011501Z",
     "start_time": "2019-03-10T21:12:58.603862Z"
    }
   },
   "outputs": [],
   "source": [
    "supplies = supplies.apply(apply_existance_constaints, axis=1).dropna(subset=['SPID'])"
   ]
  },
  {
   "cell_type": "markdown",
   "metadata": {
    "ExecuteTime": {
     "end_time": "2019-03-10T18:50:52.372368Z",
     "start_time": "2019-03-10T18:50:52.361934Z"
    }
   },
   "source": [
    "#### SP.Qty * P.Weight <= 1500  \n",
    "Отбрасывание записи"
   ]
  },
  {
   "cell_type": "code",
   "execution_count": 144,
   "metadata": {
    "ExecuteTime": {
     "end_time": "2019-03-10T21:13:02.023919Z",
     "start_time": "2019-03-10T21:13:02.014942Z"
    }
   },
   "outputs": [
    {
     "data": {
      "text/html": [
       "<div>\n",
       "<style scoped>\n",
       "    .dataframe tbody tr th:only-of-type {\n",
       "        vertical-align: middle;\n",
       "    }\n",
       "\n",
       "    .dataframe tbody tr th {\n",
       "        vertical-align: top;\n",
       "    }\n",
       "\n",
       "    .dataframe thead th {\n",
       "        text-align: right;\n",
       "    }\n",
       "</style>\n",
       "<table border=\"1\" class=\"dataframe\">\n",
       "  <thead>\n",
       "    <tr style=\"text-align: right;\">\n",
       "      <th></th>\n",
       "      <th>PID</th>\n",
       "      <th>Weight</th>\n",
       "    </tr>\n",
       "  </thead>\n",
       "  <tbody>\n",
       "    <tr>\n",
       "      <th>0</th>\n",
       "      <td>0</td>\n",
       "      <td>0.852</td>\n",
       "    </tr>\n",
       "    <tr>\n",
       "      <th>1</th>\n",
       "      <td>1</td>\n",
       "      <td>1.731</td>\n",
       "    </tr>\n",
       "    <tr>\n",
       "      <th>2</th>\n",
       "      <td>2</td>\n",
       "      <td>0.866</td>\n",
       "    </tr>\n",
       "    <tr>\n",
       "      <th>3</th>\n",
       "      <td>3</td>\n",
       "      <td>1.166</td>\n",
       "    </tr>\n",
       "    <tr>\n",
       "      <th>4</th>\n",
       "      <td>4</td>\n",
       "      <td>0.162</td>\n",
       "    </tr>\n",
       "  </tbody>\n",
       "</table>\n",
       "</div>"
      ],
      "text/plain": [
       "   PID  Weight\n",
       "0    0   0.852\n",
       "1    1   1.731\n",
       "2    2   0.866\n",
       "3    3   1.166\n",
       "4    4   0.162"
      ]
     },
     "execution_count": 144,
     "metadata": {},
     "output_type": "execute_result"
    }
   ],
   "source": [
    "details[['PID', 'Weight']].head()"
   ]
  },
  {
   "cell_type": "code",
   "execution_count": 145,
   "metadata": {
    "ExecuteTime": {
     "end_time": "2019-03-10T21:13:02.039481Z",
     "start_time": "2019-03-10T21:13:02.025516Z"
    }
   },
   "outputs": [],
   "source": [
    "qty_and_weight = supplies[['PID', 'Quantity']].join(details[['PID', 'Weight']].set_index('PID'), on='PID', how='left')"
   ]
  },
  {
   "cell_type": "code",
   "execution_count": 146,
   "metadata": {
    "ExecuteTime": {
     "end_time": "2019-03-10T21:13:02.051305Z",
     "start_time": "2019-03-10T21:13:02.042558Z"
    }
   },
   "outputs": [
    {
     "data": {
      "text/html": [
       "<div>\n",
       "<style scoped>\n",
       "    .dataframe tbody tr th:only-of-type {\n",
       "        vertical-align: middle;\n",
       "    }\n",
       "\n",
       "    .dataframe tbody tr th {\n",
       "        vertical-align: top;\n",
       "    }\n",
       "\n",
       "    .dataframe thead th {\n",
       "        text-align: right;\n",
       "    }\n",
       "</style>\n",
       "<table border=\"1\" class=\"dataframe\">\n",
       "  <thead>\n",
       "    <tr style=\"text-align: right;\">\n",
       "      <th></th>\n",
       "      <th>PID</th>\n",
       "      <th>Quantity</th>\n",
       "      <th>Weight</th>\n",
       "    </tr>\n",
       "  </thead>\n",
       "  <tbody>\n",
       "    <tr>\n",
       "      <th>0</th>\n",
       "      <td>303</td>\n",
       "      <td>144</td>\n",
       "      <td>13.833</td>\n",
       "    </tr>\n",
       "    <tr>\n",
       "      <th>1</th>\n",
       "      <td>603</td>\n",
       "      <td>35</td>\n",
       "      <td>11.226</td>\n",
       "    </tr>\n",
       "    <tr>\n",
       "      <th>2</th>\n",
       "      <td>648</td>\n",
       "      <td>23</td>\n",
       "      <td>19.232</td>\n",
       "    </tr>\n",
       "    <tr>\n",
       "      <th>3</th>\n",
       "      <td>265</td>\n",
       "      <td>22</td>\n",
       "      <td>1.586</td>\n",
       "    </tr>\n",
       "    <tr>\n",
       "      <th>4</th>\n",
       "      <td>114</td>\n",
       "      <td>250</td>\n",
       "      <td>0.945</td>\n",
       "    </tr>\n",
       "  </tbody>\n",
       "</table>\n",
       "</div>"
      ],
      "text/plain": [
       "   PID  Quantity  Weight\n",
       "0  303       144  13.833\n",
       "1  603        35  11.226\n",
       "2  648        23  19.232\n",
       "3  265        22   1.586\n",
       "4  114       250   0.945"
      ]
     },
     "execution_count": 146,
     "metadata": {},
     "output_type": "execute_result"
    }
   ],
   "source": [
    "qty_and_weight.head()"
   ]
  },
  {
   "cell_type": "code",
   "execution_count": 164,
   "metadata": {
    "ExecuteTime": {
     "end_time": "2019-03-10T21:35:01.917627Z",
     "start_time": "2019-03-10T21:35:01.913754Z"
    }
   },
   "outputs": [],
   "source": [
    "total_weight = (qty_and_weight['Quantity'] * qty_and_weight['Weight'])"
   ]
  },
  {
   "cell_type": "code",
   "execution_count": 165,
   "metadata": {
    "ExecuteTime": {
     "end_time": "2019-03-10T21:35:32.263428Z",
     "start_time": "2019-03-10T21:35:32.253444Z"
    }
   },
   "outputs": [],
   "source": [
    "supplies['TotalWeight'] = total_weight"
   ]
  },
  {
   "cell_type": "code",
   "execution_count": 168,
   "metadata": {
    "ExecuteTime": {
     "end_time": "2019-03-10T21:37:51.776631Z",
     "start_time": "2019-03-10T21:37:51.769426Z"
    }
   },
   "outputs": [],
   "source": [
    "supplies = supplies[supplies['TotalWeight'] <= 1500]"
   ]
  },
  {
   "cell_type": "code",
   "execution_count": 169,
   "metadata": {
    "ExecuteTime": {
     "end_time": "2019-03-10T21:38:09.102900Z",
     "start_time": "2019-03-10T21:38:09.098399Z"
    }
   },
   "outputs": [],
   "source": [
    "supplies = supplies.drop('TotalWeight', axis=1)"
   ]
  },
  {
   "cell_type": "code",
   "execution_count": 170,
   "metadata": {
    "ExecuteTime": {
     "end_time": "2019-03-10T21:38:12.941131Z",
     "start_time": "2019-03-10T21:38:12.908157Z"
    }
   },
   "outputs": [
    {
     "data": {
      "text/html": [
       "<div>\n",
       "<style scoped>\n",
       "    .dataframe tbody tr th:only-of-type {\n",
       "        vertical-align: middle;\n",
       "    }\n",
       "\n",
       "    .dataframe tbody tr th {\n",
       "        vertical-align: top;\n",
       "    }\n",
       "\n",
       "    .dataframe thead th {\n",
       "        text-align: right;\n",
       "    }\n",
       "</style>\n",
       "<table border=\"1\" class=\"dataframe\">\n",
       "  <thead>\n",
       "    <tr style=\"text-align: right;\">\n",
       "      <th></th>\n",
       "      <th>SPID</th>\n",
       "      <th>SID</th>\n",
       "      <th>PID</th>\n",
       "      <th>Quantity</th>\n",
       "      <th>Price</th>\n",
       "      <th>ShipDate</th>\n",
       "    </tr>\n",
       "  </thead>\n",
       "  <tbody>\n",
       "    <tr>\n",
       "      <th>1</th>\n",
       "      <td>1.0</td>\n",
       "      <td>714</td>\n",
       "      <td>603</td>\n",
       "      <td>35</td>\n",
       "      <td>259.824016</td>\n",
       "      <td>2014-04-23</td>\n",
       "    </tr>\n",
       "    <tr>\n",
       "      <th>2</th>\n",
       "      <td>2.0</td>\n",
       "      <td>812</td>\n",
       "      <td>648</td>\n",
       "      <td>23</td>\n",
       "      <td>420.850000</td>\n",
       "      <td>2013-08-29</td>\n",
       "    </tr>\n",
       "    <tr>\n",
       "      <th>3</th>\n",
       "      <td>3.0</td>\n",
       "      <td>1</td>\n",
       "      <td>265</td>\n",
       "      <td>22</td>\n",
       "      <td>313.930000</td>\n",
       "      <td>2015-01-21</td>\n",
       "    </tr>\n",
       "    <tr>\n",
       "      <th>4</th>\n",
       "      <td>4.0</td>\n",
       "      <td>1036</td>\n",
       "      <td>114</td>\n",
       "      <td>250</td>\n",
       "      <td>256.280000</td>\n",
       "      <td>2013-03-07</td>\n",
       "    </tr>\n",
       "    <tr>\n",
       "      <th>5</th>\n",
       "      <td>5.0</td>\n",
       "      <td>226</td>\n",
       "      <td>1005</td>\n",
       "      <td>37</td>\n",
       "      <td>441.470000</td>\n",
       "      <td>2013-03-17</td>\n",
       "    </tr>\n",
       "    <tr>\n",
       "      <th>6</th>\n",
       "      <td>6.0</td>\n",
       "      <td>58</td>\n",
       "      <td>862</td>\n",
       "      <td>8</td>\n",
       "      <td>28.650000</td>\n",
       "      <td>2013-10-09</td>\n",
       "    </tr>\n",
       "    <tr>\n",
       "      <th>7</th>\n",
       "      <td>7.0</td>\n",
       "      <td>779</td>\n",
       "      <td>748</td>\n",
       "      <td>33</td>\n",
       "      <td>416.860000</td>\n",
       "      <td>2014-09-29</td>\n",
       "    </tr>\n",
       "    <tr>\n",
       "      <th>8</th>\n",
       "      <td>8.0</td>\n",
       "      <td>1087</td>\n",
       "      <td>509</td>\n",
       "      <td>45</td>\n",
       "      <td>383.360000</td>\n",
       "      <td>2013-01-07</td>\n",
       "    </tr>\n",
       "    <tr>\n",
       "      <th>9</th>\n",
       "      <td>9.0</td>\n",
       "      <td>730</td>\n",
       "      <td>999</td>\n",
       "      <td>31</td>\n",
       "      <td>245.890000</td>\n",
       "      <td>2012-06-14</td>\n",
       "    </tr>\n",
       "    <tr>\n",
       "      <th>10</th>\n",
       "      <td>10.0</td>\n",
       "      <td>418</td>\n",
       "      <td>644</td>\n",
       "      <td>45</td>\n",
       "      <td>98.650000</td>\n",
       "      <td>2013-03-29</td>\n",
       "    </tr>\n",
       "    <tr>\n",
       "      <th>11</th>\n",
       "      <td>11.0</td>\n",
       "      <td>899</td>\n",
       "      <td>654</td>\n",
       "      <td>36</td>\n",
       "      <td>190.850000</td>\n",
       "      <td>2014-05-20</td>\n",
       "    </tr>\n",
       "    <tr>\n",
       "      <th>12</th>\n",
       "      <td>12.0</td>\n",
       "      <td>875</td>\n",
       "      <td>827</td>\n",
       "      <td>41</td>\n",
       "      <td>422.880000</td>\n",
       "      <td>2012-02-04</td>\n",
       "    </tr>\n",
       "    <tr>\n",
       "      <th>13</th>\n",
       "      <td>13.0</td>\n",
       "      <td>615</td>\n",
       "      <td>431</td>\n",
       "      <td>64</td>\n",
       "      <td>316.160000</td>\n",
       "      <td>2013-11-07</td>\n",
       "    </tr>\n",
       "    <tr>\n",
       "      <th>14</th>\n",
       "      <td>14.0</td>\n",
       "      <td>961</td>\n",
       "      <td>108</td>\n",
       "      <td>156</td>\n",
       "      <td>323.400000</td>\n",
       "      <td>2012-11-22</td>\n",
       "    </tr>\n",
       "    <tr>\n",
       "      <th>16</th>\n",
       "      <td>16.0</td>\n",
       "      <td>968</td>\n",
       "      <td>220</td>\n",
       "      <td>424</td>\n",
       "      <td>235.360000</td>\n",
       "      <td>2012-02-14</td>\n",
       "    </tr>\n",
       "    <tr>\n",
       "      <th>17</th>\n",
       "      <td>17.0</td>\n",
       "      <td>1129</td>\n",
       "      <td>566</td>\n",
       "      <td>1</td>\n",
       "      <td>454.510000</td>\n",
       "      <td>2012-12-04</td>\n",
       "    </tr>\n",
       "    <tr>\n",
       "      <th>18</th>\n",
       "      <td>18.0</td>\n",
       "      <td>923</td>\n",
       "      <td>229</td>\n",
       "      <td>507</td>\n",
       "      <td>265.800000</td>\n",
       "      <td>2014-11-19</td>\n",
       "    </tr>\n",
       "    <tr>\n",
       "      <th>19</th>\n",
       "      <td>19.0</td>\n",
       "      <td>547</td>\n",
       "      <td>670</td>\n",
       "      <td>17</td>\n",
       "      <td>477.940000</td>\n",
       "      <td>2012-01-13</td>\n",
       "    </tr>\n",
       "    <tr>\n",
       "      <th>20</th>\n",
       "      <td>20.0</td>\n",
       "      <td>502</td>\n",
       "      <td>24</td>\n",
       "      <td>54</td>\n",
       "      <td>420.130000</td>\n",
       "      <td>2012-07-24</td>\n",
       "    </tr>\n",
       "    <tr>\n",
       "      <th>21</th>\n",
       "      <td>21.0</td>\n",
       "      <td>705</td>\n",
       "      <td>10</td>\n",
       "      <td>33</td>\n",
       "      <td>492.040000</td>\n",
       "      <td>2012-01-19</td>\n",
       "    </tr>\n",
       "    <tr>\n",
       "      <th>22</th>\n",
       "      <td>22.0</td>\n",
       "      <td>1166</td>\n",
       "      <td>527</td>\n",
       "      <td>47</td>\n",
       "      <td>377.580000</td>\n",
       "      <td>2012-04-01</td>\n",
       "    </tr>\n",
       "    <tr>\n",
       "      <th>24</th>\n",
       "      <td>24.0</td>\n",
       "      <td>773</td>\n",
       "      <td>877</td>\n",
       "      <td>8</td>\n",
       "      <td>121.530000</td>\n",
       "      <td>2012-05-01</td>\n",
       "    </tr>\n",
       "    <tr>\n",
       "      <th>25</th>\n",
       "      <td>25.0</td>\n",
       "      <td>1083</td>\n",
       "      <td>1076</td>\n",
       "      <td>328</td>\n",
       "      <td>24.330000</td>\n",
       "      <td>2012-10-21</td>\n",
       "    </tr>\n",
       "    <tr>\n",
       "      <th>26</th>\n",
       "      <td>26.0</td>\n",
       "      <td>336</td>\n",
       "      <td>109</td>\n",
       "      <td>34</td>\n",
       "      <td>488.410000</td>\n",
       "      <td>2012-01-10</td>\n",
       "    </tr>\n",
       "    <tr>\n",
       "      <th>27</th>\n",
       "      <td>27.0</td>\n",
       "      <td>871</td>\n",
       "      <td>228</td>\n",
       "      <td>414</td>\n",
       "      <td>448.250000</td>\n",
       "      <td>2013-06-13</td>\n",
       "    </tr>\n",
       "    <tr>\n",
       "      <th>28</th>\n",
       "      <td>28.0</td>\n",
       "      <td>770</td>\n",
       "      <td>451</td>\n",
       "      <td>297</td>\n",
       "      <td>400.530000</td>\n",
       "      <td>2015-01-20</td>\n",
       "    </tr>\n",
       "    <tr>\n",
       "      <th>29</th>\n",
       "      <td>29.0</td>\n",
       "      <td>780</td>\n",
       "      <td>914</td>\n",
       "      <td>345</td>\n",
       "      <td>446.580000</td>\n",
       "      <td>2012-10-15</td>\n",
       "    </tr>\n",
       "    <tr>\n",
       "      <th>30</th>\n",
       "      <td>30.0</td>\n",
       "      <td>32</td>\n",
       "      <td>1111</td>\n",
       "      <td>4</td>\n",
       "      <td>244.300000</td>\n",
       "      <td>2013-04-06</td>\n",
       "    </tr>\n",
       "    <tr>\n",
       "      <th>31</th>\n",
       "      <td>31.0</td>\n",
       "      <td>79</td>\n",
       "      <td>1155</td>\n",
       "      <td>508</td>\n",
       "      <td>218.190000</td>\n",
       "      <td>2013-06-12</td>\n",
       "    </tr>\n",
       "    <tr>\n",
       "      <th>32</th>\n",
       "      <td>32.0</td>\n",
       "      <td>787</td>\n",
       "      <td>313</td>\n",
       "      <td>445</td>\n",
       "      <td>381.510000</td>\n",
       "      <td>2014-06-13</td>\n",
       "    </tr>\n",
       "    <tr>\n",
       "      <th>...</th>\n",
       "      <td>...</td>\n",
       "      <td>...</td>\n",
       "      <td>...</td>\n",
       "      <td>...</td>\n",
       "      <td>...</td>\n",
       "      <td>...</td>\n",
       "    </tr>\n",
       "    <tr>\n",
       "      <th>11970</th>\n",
       "      <td>11970.0</td>\n",
       "      <td>219</td>\n",
       "      <td>1106</td>\n",
       "      <td>429</td>\n",
       "      <td>319.650000</td>\n",
       "      <td>2014-06-30</td>\n",
       "    </tr>\n",
       "    <tr>\n",
       "      <th>11971</th>\n",
       "      <td>11971.0</td>\n",
       "      <td>373</td>\n",
       "      <td>1006</td>\n",
       "      <td>63</td>\n",
       "      <td>165.700000</td>\n",
       "      <td>2013-12-03</td>\n",
       "    </tr>\n",
       "    <tr>\n",
       "      <th>11972</th>\n",
       "      <td>11972.0</td>\n",
       "      <td>757</td>\n",
       "      <td>994</td>\n",
       "      <td>556</td>\n",
       "      <td>222.970000</td>\n",
       "      <td>2013-01-29</td>\n",
       "    </tr>\n",
       "    <tr>\n",
       "      <th>11973</th>\n",
       "      <td>11973.0</td>\n",
       "      <td>633</td>\n",
       "      <td>1095</td>\n",
       "      <td>48</td>\n",
       "      <td>475.970000</td>\n",
       "      <td>2013-07-13</td>\n",
       "    </tr>\n",
       "    <tr>\n",
       "      <th>11974</th>\n",
       "      <td>11974.0</td>\n",
       "      <td>40</td>\n",
       "      <td>1120</td>\n",
       "      <td>687</td>\n",
       "      <td>125.550000</td>\n",
       "      <td>2012-10-19</td>\n",
       "    </tr>\n",
       "    <tr>\n",
       "      <th>11975</th>\n",
       "      <td>11975.0</td>\n",
       "      <td>165</td>\n",
       "      <td>10</td>\n",
       "      <td>654</td>\n",
       "      <td>127.920000</td>\n",
       "      <td>2012-08-28</td>\n",
       "    </tr>\n",
       "    <tr>\n",
       "      <th>11976</th>\n",
       "      <td>11976.0</td>\n",
       "      <td>663</td>\n",
       "      <td>1021</td>\n",
       "      <td>51</td>\n",
       "      <td>16.180000</td>\n",
       "      <td>2013-02-22</td>\n",
       "    </tr>\n",
       "    <tr>\n",
       "      <th>11977</th>\n",
       "      <td>11977.0</td>\n",
       "      <td>1101</td>\n",
       "      <td>954</td>\n",
       "      <td>366</td>\n",
       "      <td>105.760000</td>\n",
       "      <td>2015-01-12</td>\n",
       "    </tr>\n",
       "    <tr>\n",
       "      <th>11978</th>\n",
       "      <td>11978.0</td>\n",
       "      <td>471</td>\n",
       "      <td>980</td>\n",
       "      <td>405</td>\n",
       "      <td>141.420000</td>\n",
       "      <td>2012-01-21</td>\n",
       "    </tr>\n",
       "    <tr>\n",
       "      <th>11979</th>\n",
       "      <td>11979.0</td>\n",
       "      <td>110</td>\n",
       "      <td>529</td>\n",
       "      <td>700</td>\n",
       "      <td>176.170000</td>\n",
       "      <td>2013-06-18</td>\n",
       "    </tr>\n",
       "    <tr>\n",
       "      <th>11980</th>\n",
       "      <td>11980.0</td>\n",
       "      <td>223</td>\n",
       "      <td>47</td>\n",
       "      <td>62</td>\n",
       "      <td>40.910000</td>\n",
       "      <td>2012-02-07</td>\n",
       "    </tr>\n",
       "    <tr>\n",
       "      <th>11981</th>\n",
       "      <td>11981.0</td>\n",
       "      <td>910</td>\n",
       "      <td>635</td>\n",
       "      <td>36</td>\n",
       "      <td>347.110000</td>\n",
       "      <td>2013-11-20</td>\n",
       "    </tr>\n",
       "    <tr>\n",
       "      <th>11982</th>\n",
       "      <td>11982.0</td>\n",
       "      <td>1107</td>\n",
       "      <td>885</td>\n",
       "      <td>697</td>\n",
       "      <td>390.840000</td>\n",
       "      <td>2015-01-23</td>\n",
       "    </tr>\n",
       "    <tr>\n",
       "      <th>11983</th>\n",
       "      <td>11983.0</td>\n",
       "      <td>50</td>\n",
       "      <td>349</td>\n",
       "      <td>58</td>\n",
       "      <td>233.910000</td>\n",
       "      <td>2014-10-01</td>\n",
       "    </tr>\n",
       "    <tr>\n",
       "      <th>11984</th>\n",
       "      <td>11984.0</td>\n",
       "      <td>344</td>\n",
       "      <td>262</td>\n",
       "      <td>66</td>\n",
       "      <td>427.650000</td>\n",
       "      <td>2012-01-22</td>\n",
       "    </tr>\n",
       "    <tr>\n",
       "      <th>11985</th>\n",
       "      <td>11985.0</td>\n",
       "      <td>368</td>\n",
       "      <td>626</td>\n",
       "      <td>376</td>\n",
       "      <td>236.250000</td>\n",
       "      <td>2014-07-10</td>\n",
       "    </tr>\n",
       "    <tr>\n",
       "      <th>11986</th>\n",
       "      <td>11986.0</td>\n",
       "      <td>848</td>\n",
       "      <td>46</td>\n",
       "      <td>9</td>\n",
       "      <td>149.090000</td>\n",
       "      <td>2014-03-22</td>\n",
       "    </tr>\n",
       "    <tr>\n",
       "      <th>11987</th>\n",
       "      <td>11987.0</td>\n",
       "      <td>577</td>\n",
       "      <td>243</td>\n",
       "      <td>699</td>\n",
       "      <td>440.570000</td>\n",
       "      <td>2013-01-06</td>\n",
       "    </tr>\n",
       "    <tr>\n",
       "      <th>11988</th>\n",
       "      <td>11988.0</td>\n",
       "      <td>1118</td>\n",
       "      <td>710</td>\n",
       "      <td>62</td>\n",
       "      <td>35.390000</td>\n",
       "      <td>2012-10-10</td>\n",
       "    </tr>\n",
       "    <tr>\n",
       "      <th>11989</th>\n",
       "      <td>11989.0</td>\n",
       "      <td>383</td>\n",
       "      <td>298</td>\n",
       "      <td>600</td>\n",
       "      <td>372.720000</td>\n",
       "      <td>2014-03-27</td>\n",
       "    </tr>\n",
       "    <tr>\n",
       "      <th>11990</th>\n",
       "      <td>11990.0</td>\n",
       "      <td>1014</td>\n",
       "      <td>778</td>\n",
       "      <td>331</td>\n",
       "      <td>157.570000</td>\n",
       "      <td>2012-10-28</td>\n",
       "    </tr>\n",
       "    <tr>\n",
       "      <th>11991</th>\n",
       "      <td>11991.0</td>\n",
       "      <td>634</td>\n",
       "      <td>645</td>\n",
       "      <td>531</td>\n",
       "      <td>89.520000</td>\n",
       "      <td>2014-01-18</td>\n",
       "    </tr>\n",
       "    <tr>\n",
       "      <th>11992</th>\n",
       "      <td>11992.0</td>\n",
       "      <td>680</td>\n",
       "      <td>358</td>\n",
       "      <td>34</td>\n",
       "      <td>119.040000</td>\n",
       "      <td>2014-06-09</td>\n",
       "    </tr>\n",
       "    <tr>\n",
       "      <th>11993</th>\n",
       "      <td>11993.0</td>\n",
       "      <td>269</td>\n",
       "      <td>622</td>\n",
       "      <td>67</td>\n",
       "      <td>247.690000</td>\n",
       "      <td>2014-09-19</td>\n",
       "    </tr>\n",
       "    <tr>\n",
       "      <th>11994</th>\n",
       "      <td>11994.0</td>\n",
       "      <td>961</td>\n",
       "      <td>243</td>\n",
       "      <td>437</td>\n",
       "      <td>392.000000</td>\n",
       "      <td>2014-03-03</td>\n",
       "    </tr>\n",
       "    <tr>\n",
       "      <th>11995</th>\n",
       "      <td>11995.0</td>\n",
       "      <td>892</td>\n",
       "      <td>769</td>\n",
       "      <td>209</td>\n",
       "      <td>308.420000</td>\n",
       "      <td>2013-03-30</td>\n",
       "    </tr>\n",
       "    <tr>\n",
       "      <th>11996</th>\n",
       "      <td>11996.0</td>\n",
       "      <td>573</td>\n",
       "      <td>415</td>\n",
       "      <td>48</td>\n",
       "      <td>103.880000</td>\n",
       "      <td>2012-11-28</td>\n",
       "    </tr>\n",
       "    <tr>\n",
       "      <th>11997</th>\n",
       "      <td>11997.0</td>\n",
       "      <td>671</td>\n",
       "      <td>642</td>\n",
       "      <td>347</td>\n",
       "      <td>163.180000</td>\n",
       "      <td>2013-05-14</td>\n",
       "    </tr>\n",
       "    <tr>\n",
       "      <th>11998</th>\n",
       "      <td>11998.0</td>\n",
       "      <td>417</td>\n",
       "      <td>989</td>\n",
       "      <td>1</td>\n",
       "      <td>152.980000</td>\n",
       "      <td>2013-05-26</td>\n",
       "    </tr>\n",
       "    <tr>\n",
       "      <th>11999</th>\n",
       "      <td>11999.0</td>\n",
       "      <td>299</td>\n",
       "      <td>569</td>\n",
       "      <td>33</td>\n",
       "      <td>86.930000</td>\n",
       "      <td>2013-03-09</td>\n",
       "    </tr>\n",
       "  </tbody>\n",
       "</table>\n",
       "<p>11803 rows × 6 columns</p>\n",
       "</div>"
      ],
      "text/plain": [
       "          SPID   SID   PID  Quantity       Price   ShipDate\n",
       "1          1.0   714   603        35  259.824016 2014-04-23\n",
       "2          2.0   812   648        23  420.850000 2013-08-29\n",
       "3          3.0     1   265        22  313.930000 2015-01-21\n",
       "4          4.0  1036   114       250  256.280000 2013-03-07\n",
       "5          5.0   226  1005        37  441.470000 2013-03-17\n",
       "6          6.0    58   862         8   28.650000 2013-10-09\n",
       "7          7.0   779   748        33  416.860000 2014-09-29\n",
       "8          8.0  1087   509        45  383.360000 2013-01-07\n",
       "9          9.0   730   999        31  245.890000 2012-06-14\n",
       "10        10.0   418   644        45   98.650000 2013-03-29\n",
       "11        11.0   899   654        36  190.850000 2014-05-20\n",
       "12        12.0   875   827        41  422.880000 2012-02-04\n",
       "13        13.0   615   431        64  316.160000 2013-11-07\n",
       "14        14.0   961   108       156  323.400000 2012-11-22\n",
       "16        16.0   968   220       424  235.360000 2012-02-14\n",
       "17        17.0  1129   566         1  454.510000 2012-12-04\n",
       "18        18.0   923   229       507  265.800000 2014-11-19\n",
       "19        19.0   547   670        17  477.940000 2012-01-13\n",
       "20        20.0   502    24        54  420.130000 2012-07-24\n",
       "21        21.0   705    10        33  492.040000 2012-01-19\n",
       "22        22.0  1166   527        47  377.580000 2012-04-01\n",
       "24        24.0   773   877         8  121.530000 2012-05-01\n",
       "25        25.0  1083  1076       328   24.330000 2012-10-21\n",
       "26        26.0   336   109        34  488.410000 2012-01-10\n",
       "27        27.0   871   228       414  448.250000 2013-06-13\n",
       "28        28.0   770   451       297  400.530000 2015-01-20\n",
       "29        29.0   780   914       345  446.580000 2012-10-15\n",
       "30        30.0    32  1111         4  244.300000 2013-04-06\n",
       "31        31.0    79  1155       508  218.190000 2013-06-12\n",
       "32        32.0   787   313       445  381.510000 2014-06-13\n",
       "...        ...   ...   ...       ...         ...        ...\n",
       "11970  11970.0   219  1106       429  319.650000 2014-06-30\n",
       "11971  11971.0   373  1006        63  165.700000 2013-12-03\n",
       "11972  11972.0   757   994       556  222.970000 2013-01-29\n",
       "11973  11973.0   633  1095        48  475.970000 2013-07-13\n",
       "11974  11974.0    40  1120       687  125.550000 2012-10-19\n",
       "11975  11975.0   165    10       654  127.920000 2012-08-28\n",
       "11976  11976.0   663  1021        51   16.180000 2013-02-22\n",
       "11977  11977.0  1101   954       366  105.760000 2015-01-12\n",
       "11978  11978.0   471   980       405  141.420000 2012-01-21\n",
       "11979  11979.0   110   529       700  176.170000 2013-06-18\n",
       "11980  11980.0   223    47        62   40.910000 2012-02-07\n",
       "11981  11981.0   910   635        36  347.110000 2013-11-20\n",
       "11982  11982.0  1107   885       697  390.840000 2015-01-23\n",
       "11983  11983.0    50   349        58  233.910000 2014-10-01\n",
       "11984  11984.0   344   262        66  427.650000 2012-01-22\n",
       "11985  11985.0   368   626       376  236.250000 2014-07-10\n",
       "11986  11986.0   848    46         9  149.090000 2014-03-22\n",
       "11987  11987.0   577   243       699  440.570000 2013-01-06\n",
       "11988  11988.0  1118   710        62   35.390000 2012-10-10\n",
       "11989  11989.0   383   298       600  372.720000 2014-03-27\n",
       "11990  11990.0  1014   778       331  157.570000 2012-10-28\n",
       "11991  11991.0   634   645       531   89.520000 2014-01-18\n",
       "11992  11992.0   680   358        34  119.040000 2014-06-09\n",
       "11993  11993.0   269   622        67  247.690000 2014-09-19\n",
       "11994  11994.0   961   243       437  392.000000 2014-03-03\n",
       "11995  11995.0   892   769       209  308.420000 2013-03-30\n",
       "11996  11996.0   573   415        48  103.880000 2012-11-28\n",
       "11997  11997.0   671   642       347  163.180000 2013-05-14\n",
       "11998  11998.0   417   989         1  152.980000 2013-05-26\n",
       "11999  11999.0   299   569        33   86.930000 2013-03-09\n",
       "\n",
       "[11803 rows x 6 columns]"
      ]
     },
     "execution_count": 170,
     "metadata": {},
     "output_type": "execute_result"
    }
   ],
   "source": [
    "supplies"
   ]
  },
  {
   "cell_type": "markdown",
   "metadata": {
    "ExecuteTime": {
     "end_time": "2019-03-10T19:24:22.429746Z",
     "start_time": "2019-03-10T19:24:22.426839Z"
    }
   },
   "source": [
    "## Сохранить результаты"
   ]
  },
  {
   "cell_type": "code",
   "execution_count": 149,
   "metadata": {
    "ExecuteTime": {
     "end_time": "2019-03-10T21:13:08.263742Z",
     "start_time": "2019-03-10T21:13:08.256573Z"
    }
   },
   "outputs": [],
   "source": [
    "shutil.rmtree(INSTANCE_DIR, ignore_errors=True)"
   ]
  },
  {
   "cell_type": "code",
   "execution_count": 150,
   "metadata": {
    "ExecuteTime": {
     "end_time": "2019-03-10T21:13:08.732395Z",
     "start_time": "2019-03-10T21:13:08.729215Z"
    }
   },
   "outputs": [],
   "source": [
    "os.mkdir(INSTANCE_DIR)"
   ]
  },
  {
   "cell_type": "code",
   "execution_count": 171,
   "metadata": {
    "ExecuteTime": {
     "end_time": "2019-03-10T21:38:21.998826Z",
     "start_time": "2019-03-10T21:38:21.839075Z"
    }
   },
   "outputs": [],
   "source": [
    "providers.to_csv(os.path.join(INSTANCE_DIR, 's.csv'), index=False)\n",
    "supplies.to_csv(os.path.join(INSTANCE_DIR, 'sp.csv'), index=False)\n",
    "details.to_csv(os.path.join(INSTANCE_DIR, 'p.csv'), index=False)"
   ]
  },
  {
   "cell_type": "code",
   "execution_count": null,
   "metadata": {},
   "outputs": [],
   "source": []
  }
 ],
 "metadata": {
  "kernelspec": {
   "display_name": "Python 3",
   "language": "python",
   "name": "python3"
  },
  "language_info": {
   "codemirror_mode": {
    "name": "ipython",
    "version": 3
   },
   "file_extension": ".py",
   "mimetype": "text/x-python",
   "name": "python",
   "nbconvert_exporter": "python",
   "pygments_lexer": "ipython3",
   "version": "3.6.5"
  }
 },
 "nbformat": 4,
 "nbformat_minor": 2
}
